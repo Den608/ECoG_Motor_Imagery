{
  "nbformat": 4,
  "nbformat_minor": 0,
  "metadata": {
    "colab": {
      "provenance": [],
      "toc_visible": true
    },
    "kernelspec": {
      "name": "python3",
      "display_name": "Python 3"
    },
    "language_info": {
      "name": "python"
    }
  },
  "cells": [
    {
      "cell_type": "code",
      "execution_count": 4,
      "metadata": {
        "id": "kBWSsku-378k"
      },
      "outputs": [],
      "source": [
        "import pandas as pd"
      ]
    },
    {
      "cell_type": "markdown",
      "source": [
        "# Subject 0"
      ],
      "metadata": {
        "id": "r6qQyKYXLjs-"
      }
    },
    {
      "cell_type": "code",
      "source": [
        "subject0_Imagery_hands = pd.read_csv(\"/content/subject0_Imagery_hands.csv\")\n",
        "subject0_Imagery_tongues = pd.read_csv(\"/content/subject0_Imagery_tongues.csv\")\n",
        "subject0_Real_hands = pd.read_csv(\"/content/subject0_Real_hands.csv\")\n",
        "subject0_Real_tongues = pd.read_csv(\"/content/subject0_Real_tongues.csv\")"
      ],
      "metadata": {
        "id": "wIBhRZZ53-Gk"
      },
      "execution_count": 128,
      "outputs": []
    },
    {
      "cell_type": "markdown",
      "source": [
        "## Makes data in real and imagery forms"
      ],
      "metadata": {
        "id": "p7XUHK5I40Ly"
      }
    },
    {
      "cell_type": "code",
      "source": [
        "Imagery_frames = [subject0_Imagery_hands, subject0_Imagery_tongues]\n",
        "Imagery_frames = pd.concat(Imagery_frames)\n",
        "Imagery_frames['is_execution'] = 0"
      ],
      "metadata": {
        "id": "UbzNFGrh4oAZ"
      },
      "execution_count": 129,
      "outputs": []
    },
    {
      "cell_type": "code",
      "source": [
        "Real_frames = [subject0_Real_hands, subject0_Real_tongues]\n",
        "Real_frames = pd.concat(Real_frames)\n",
        "Real_frames['is_execution'] = 1"
      ],
      "metadata": {
        "id": "26xJtt995wjg"
      },
      "execution_count": 130,
      "outputs": []
    },
    {
      "cell_type": "code",
      "source": [
        "whole_dataframe = [Imagery_frames, Real_frames]\n",
        "whole_dataframe = pd.concat(whole_dataframe)\n",
        "whole_dataframe"
      ],
      "metadata": {
        "colab": {
          "base_uri": "https://localhost:8080/",
          "height": 487
        },
        "id": "iz7r2s03532U",
        "outputId": "55d0523d-7dc0-457c-af60-64448bb79855"
      },
      "execution_count": 131,
      "outputs": [
        {
          "output_type": "execute_result",
          "data": {
            "text/plain": [
              "      elecro_idx         B1_P     B1_RP       B2_P     B2_RP      B3_P  \\\n",
              "0              0    64.208372  0.058936  26.268088  0.024111  8.992230   \n",
              "1              0    40.340036  0.049763  32.921651  0.040611  8.286542   \n",
              "2              0    95.032736  0.070099  32.167133  0.023727  9.608515   \n",
              "3              0   207.406918  0.060584  29.545808  0.008630  7.646323   \n",
              "4              0    62.372128  0.051644  27.214559  0.022534  6.781020   \n",
              "...          ...          ...       ...        ...       ...       ...   \n",
              "2755          45  1025.123522  0.079350  71.822657  0.005559  7.213176   \n",
              "2756          45  1348.359458  0.149950  66.411932  0.007386  8.201165   \n",
              "2757          45  1291.338752  0.128585  81.084990  0.008074  6.594006   \n",
              "2758          45   602.142338  0.076327  66.250427  0.008398  7.153753   \n",
              "2759          45   500.207882  0.052238  51.989294  0.005429  5.916159   \n",
              "\n",
              "         B3_RP      B4_P     B4_RP      B5_P     B5_RP  is_execution  \n",
              "0     0.008254  1.662773  0.001526  0.319480  0.000293             0  \n",
              "1     0.010222  1.633262  0.002015  0.340468  0.000420             0  \n",
              "2     0.007088  1.359709  0.001003  0.353153  0.000260             0  \n",
              "3     0.002234  1.559712  0.000456  0.306466  0.000090             0  \n",
              "4     0.005615  1.312397  0.001087  0.312094  0.000258             0  \n",
              "...        ...       ...       ...       ...       ...           ...  \n",
              "2755  0.000558  1.372350  0.000106  0.284276  0.000022             1  \n",
              "2756  0.000912  1.509035  0.000168  0.371192  0.000041             1  \n",
              "2757  0.000657  1.430860  0.000142  0.309141  0.000031             1  \n",
              "2758  0.000907  1.359199  0.000172  0.314774  0.000040             1  \n",
              "2759  0.000618  0.954208  0.000100  0.279900  0.000029             1  \n",
              "\n",
              "[11040 rows x 12 columns]"
            ],
            "text/html": [
              "\n",
              "\n",
              "  <div id=\"df-0a519826-3f2f-450c-97e6-a722c772a42b\">\n",
              "    <div class=\"colab-df-container\">\n",
              "      <div>\n",
              "<style scoped>\n",
              "    .dataframe tbody tr th:only-of-type {\n",
              "        vertical-align: middle;\n",
              "    }\n",
              "\n",
              "    .dataframe tbody tr th {\n",
              "        vertical-align: top;\n",
              "    }\n",
              "\n",
              "    .dataframe thead th {\n",
              "        text-align: right;\n",
              "    }\n",
              "</style>\n",
              "<table border=\"1\" class=\"dataframe\">\n",
              "  <thead>\n",
              "    <tr style=\"text-align: right;\">\n",
              "      <th></th>\n",
              "      <th>elecro_idx</th>\n",
              "      <th>B1_P</th>\n",
              "      <th>B1_RP</th>\n",
              "      <th>B2_P</th>\n",
              "      <th>B2_RP</th>\n",
              "      <th>B3_P</th>\n",
              "      <th>B3_RP</th>\n",
              "      <th>B4_P</th>\n",
              "      <th>B4_RP</th>\n",
              "      <th>B5_P</th>\n",
              "      <th>B5_RP</th>\n",
              "      <th>is_execution</th>\n",
              "    </tr>\n",
              "  </thead>\n",
              "  <tbody>\n",
              "    <tr>\n",
              "      <th>0</th>\n",
              "      <td>0</td>\n",
              "      <td>64.208372</td>\n",
              "      <td>0.058936</td>\n",
              "      <td>26.268088</td>\n",
              "      <td>0.024111</td>\n",
              "      <td>8.992230</td>\n",
              "      <td>0.008254</td>\n",
              "      <td>1.662773</td>\n",
              "      <td>0.001526</td>\n",
              "      <td>0.319480</td>\n",
              "      <td>0.000293</td>\n",
              "      <td>0</td>\n",
              "    </tr>\n",
              "    <tr>\n",
              "      <th>1</th>\n",
              "      <td>0</td>\n",
              "      <td>40.340036</td>\n",
              "      <td>0.049763</td>\n",
              "      <td>32.921651</td>\n",
              "      <td>0.040611</td>\n",
              "      <td>8.286542</td>\n",
              "      <td>0.010222</td>\n",
              "      <td>1.633262</td>\n",
              "      <td>0.002015</td>\n",
              "      <td>0.340468</td>\n",
              "      <td>0.000420</td>\n",
              "      <td>0</td>\n",
              "    </tr>\n",
              "    <tr>\n",
              "      <th>2</th>\n",
              "      <td>0</td>\n",
              "      <td>95.032736</td>\n",
              "      <td>0.070099</td>\n",
              "      <td>32.167133</td>\n",
              "      <td>0.023727</td>\n",
              "      <td>9.608515</td>\n",
              "      <td>0.007088</td>\n",
              "      <td>1.359709</td>\n",
              "      <td>0.001003</td>\n",
              "      <td>0.353153</td>\n",
              "      <td>0.000260</td>\n",
              "      <td>0</td>\n",
              "    </tr>\n",
              "    <tr>\n",
              "      <th>3</th>\n",
              "      <td>0</td>\n",
              "      <td>207.406918</td>\n",
              "      <td>0.060584</td>\n",
              "      <td>29.545808</td>\n",
              "      <td>0.008630</td>\n",
              "      <td>7.646323</td>\n",
              "      <td>0.002234</td>\n",
              "      <td>1.559712</td>\n",
              "      <td>0.000456</td>\n",
              "      <td>0.306466</td>\n",
              "      <td>0.000090</td>\n",
              "      <td>0</td>\n",
              "    </tr>\n",
              "    <tr>\n",
              "      <th>4</th>\n",
              "      <td>0</td>\n",
              "      <td>62.372128</td>\n",
              "      <td>0.051644</td>\n",
              "      <td>27.214559</td>\n",
              "      <td>0.022534</td>\n",
              "      <td>6.781020</td>\n",
              "      <td>0.005615</td>\n",
              "      <td>1.312397</td>\n",
              "      <td>0.001087</td>\n",
              "      <td>0.312094</td>\n",
              "      <td>0.000258</td>\n",
              "      <td>0</td>\n",
              "    </tr>\n",
              "    <tr>\n",
              "      <th>...</th>\n",
              "      <td>...</td>\n",
              "      <td>...</td>\n",
              "      <td>...</td>\n",
              "      <td>...</td>\n",
              "      <td>...</td>\n",
              "      <td>...</td>\n",
              "      <td>...</td>\n",
              "      <td>...</td>\n",
              "      <td>...</td>\n",
              "      <td>...</td>\n",
              "      <td>...</td>\n",
              "      <td>...</td>\n",
              "    </tr>\n",
              "    <tr>\n",
              "      <th>2755</th>\n",
              "      <td>45</td>\n",
              "      <td>1025.123522</td>\n",
              "      <td>0.079350</td>\n",
              "      <td>71.822657</td>\n",
              "      <td>0.005559</td>\n",
              "      <td>7.213176</td>\n",
              "      <td>0.000558</td>\n",
              "      <td>1.372350</td>\n",
              "      <td>0.000106</td>\n",
              "      <td>0.284276</td>\n",
              "      <td>0.000022</td>\n",
              "      <td>1</td>\n",
              "    </tr>\n",
              "    <tr>\n",
              "      <th>2756</th>\n",
              "      <td>45</td>\n",
              "      <td>1348.359458</td>\n",
              "      <td>0.149950</td>\n",
              "      <td>66.411932</td>\n",
              "      <td>0.007386</td>\n",
              "      <td>8.201165</td>\n",
              "      <td>0.000912</td>\n",
              "      <td>1.509035</td>\n",
              "      <td>0.000168</td>\n",
              "      <td>0.371192</td>\n",
              "      <td>0.000041</td>\n",
              "      <td>1</td>\n",
              "    </tr>\n",
              "    <tr>\n",
              "      <th>2757</th>\n",
              "      <td>45</td>\n",
              "      <td>1291.338752</td>\n",
              "      <td>0.128585</td>\n",
              "      <td>81.084990</td>\n",
              "      <td>0.008074</td>\n",
              "      <td>6.594006</td>\n",
              "      <td>0.000657</td>\n",
              "      <td>1.430860</td>\n",
              "      <td>0.000142</td>\n",
              "      <td>0.309141</td>\n",
              "      <td>0.000031</td>\n",
              "      <td>1</td>\n",
              "    </tr>\n",
              "    <tr>\n",
              "      <th>2758</th>\n",
              "      <td>45</td>\n",
              "      <td>602.142338</td>\n",
              "      <td>0.076327</td>\n",
              "      <td>66.250427</td>\n",
              "      <td>0.008398</td>\n",
              "      <td>7.153753</td>\n",
              "      <td>0.000907</td>\n",
              "      <td>1.359199</td>\n",
              "      <td>0.000172</td>\n",
              "      <td>0.314774</td>\n",
              "      <td>0.000040</td>\n",
              "      <td>1</td>\n",
              "    </tr>\n",
              "    <tr>\n",
              "      <th>2759</th>\n",
              "      <td>45</td>\n",
              "      <td>500.207882</td>\n",
              "      <td>0.052238</td>\n",
              "      <td>51.989294</td>\n",
              "      <td>0.005429</td>\n",
              "      <td>5.916159</td>\n",
              "      <td>0.000618</td>\n",
              "      <td>0.954208</td>\n",
              "      <td>0.000100</td>\n",
              "      <td>0.279900</td>\n",
              "      <td>0.000029</td>\n",
              "      <td>1</td>\n",
              "    </tr>\n",
              "  </tbody>\n",
              "</table>\n",
              "<p>11040 rows × 12 columns</p>\n",
              "</div>\n",
              "      <button class=\"colab-df-convert\" onclick=\"convertToInteractive('df-0a519826-3f2f-450c-97e6-a722c772a42b')\"\n",
              "              title=\"Convert this dataframe to an interactive table.\"\n",
              "              style=\"display:none;\">\n",
              "\n",
              "  <svg xmlns=\"http://www.w3.org/2000/svg\" height=\"24px\"viewBox=\"0 0 24 24\"\n",
              "       width=\"24px\">\n",
              "    <path d=\"M0 0h24v24H0V0z\" fill=\"none\"/>\n",
              "    <path d=\"M18.56 5.44l.94 2.06.94-2.06 2.06-.94-2.06-.94-.94-2.06-.94 2.06-2.06.94zm-11 1L8.5 8.5l.94-2.06 2.06-.94-2.06-.94L8.5 2.5l-.94 2.06-2.06.94zm10 10l.94 2.06.94-2.06 2.06-.94-2.06-.94-.94-2.06-.94 2.06-2.06.94z\"/><path d=\"M17.41 7.96l-1.37-1.37c-.4-.4-.92-.59-1.43-.59-.52 0-1.04.2-1.43.59L10.3 9.45l-7.72 7.72c-.78.78-.78 2.05 0 2.83L4 21.41c.39.39.9.59 1.41.59.51 0 1.02-.2 1.41-.59l7.78-7.78 2.81-2.81c.8-.78.8-2.07 0-2.86zM5.41 20L4 18.59l7.72-7.72 1.47 1.35L5.41 20z\"/>\n",
              "  </svg>\n",
              "      </button>\n",
              "\n",
              "\n",
              "\n",
              "    <div id=\"df-7ac00220-37b9-4425-97b9-947571a42b2e\">\n",
              "      <button class=\"colab-df-quickchart\" onclick=\"quickchart('df-7ac00220-37b9-4425-97b9-947571a42b2e')\"\n",
              "              title=\"Suggest charts.\"\n",
              "              style=\"display:none;\">\n",
              "\n",
              "<svg xmlns=\"http://www.w3.org/2000/svg\" height=\"24px\"viewBox=\"0 0 24 24\"\n",
              "     width=\"24px\">\n",
              "    <g>\n",
              "        <path d=\"M19 3H5c-1.1 0-2 .9-2 2v14c0 1.1.9 2 2 2h14c1.1 0 2-.9 2-2V5c0-1.1-.9-2-2-2zM9 17H7v-7h2v7zm4 0h-2V7h2v10zm4 0h-2v-4h2v4z\"/>\n",
              "    </g>\n",
              "</svg>\n",
              "      </button>\n",
              "    </div>\n",
              "\n",
              "<style>\n",
              "  .colab-df-quickchart {\n",
              "    background-color: #E8F0FE;\n",
              "    border: none;\n",
              "    border-radius: 50%;\n",
              "    cursor: pointer;\n",
              "    display: none;\n",
              "    fill: #1967D2;\n",
              "    height: 32px;\n",
              "    padding: 0 0 0 0;\n",
              "    width: 32px;\n",
              "  }\n",
              "\n",
              "  .colab-df-quickchart:hover {\n",
              "    background-color: #E2EBFA;\n",
              "    box-shadow: 0px 1px 2px rgba(60, 64, 67, 0.3), 0px 1px 3px 1px rgba(60, 64, 67, 0.15);\n",
              "    fill: #174EA6;\n",
              "  }\n",
              "\n",
              "  [theme=dark] .colab-df-quickchart {\n",
              "    background-color: #3B4455;\n",
              "    fill: #D2E3FC;\n",
              "  }\n",
              "\n",
              "  [theme=dark] .colab-df-quickchart:hover {\n",
              "    background-color: #434B5C;\n",
              "    box-shadow: 0px 1px 3px 1px rgba(0, 0, 0, 0.15);\n",
              "    filter: drop-shadow(0px 1px 2px rgba(0, 0, 0, 0.3));\n",
              "    fill: #FFFFFF;\n",
              "  }\n",
              "</style>\n",
              "\n",
              "    <script>\n",
              "      async function quickchart(key) {\n",
              "        const containerElement = document.querySelector('#' + key);\n",
              "        const charts = await google.colab.kernel.invokeFunction(\n",
              "            'suggestCharts', [key], {});\n",
              "      }\n",
              "    </script>\n",
              "\n",
              "      <script>\n",
              "\n",
              "function displayQuickchartButton(domScope) {\n",
              "  let quickchartButtonEl =\n",
              "    domScope.querySelector('#df-7ac00220-37b9-4425-97b9-947571a42b2e button.colab-df-quickchart');\n",
              "  quickchartButtonEl.style.display =\n",
              "    google.colab.kernel.accessAllowed ? 'block' : 'none';\n",
              "}\n",
              "\n",
              "        displayQuickchartButton(document);\n",
              "      </script>\n",
              "      <style>\n",
              "    .colab-df-container {\n",
              "      display:flex;\n",
              "      flex-wrap:wrap;\n",
              "      gap: 12px;\n",
              "    }\n",
              "\n",
              "    .colab-df-convert {\n",
              "      background-color: #E8F0FE;\n",
              "      border: none;\n",
              "      border-radius: 50%;\n",
              "      cursor: pointer;\n",
              "      display: none;\n",
              "      fill: #1967D2;\n",
              "      height: 32px;\n",
              "      padding: 0 0 0 0;\n",
              "      width: 32px;\n",
              "    }\n",
              "\n",
              "    .colab-df-convert:hover {\n",
              "      background-color: #E2EBFA;\n",
              "      box-shadow: 0px 1px 2px rgba(60, 64, 67, 0.3), 0px 1px 3px 1px rgba(60, 64, 67, 0.15);\n",
              "      fill: #174EA6;\n",
              "    }\n",
              "\n",
              "    [theme=dark] .colab-df-convert {\n",
              "      background-color: #3B4455;\n",
              "      fill: #D2E3FC;\n",
              "    }\n",
              "\n",
              "    [theme=dark] .colab-df-convert:hover {\n",
              "      background-color: #434B5C;\n",
              "      box-shadow: 0px 1px 3px 1px rgba(0, 0, 0, 0.15);\n",
              "      filter: drop-shadow(0px 1px 2px rgba(0, 0, 0, 0.3));\n",
              "      fill: #FFFFFF;\n",
              "    }\n",
              "  </style>\n",
              "\n",
              "      <script>\n",
              "        const buttonEl =\n",
              "          document.querySelector('#df-0a519826-3f2f-450c-97e6-a722c772a42b button.colab-df-convert');\n",
              "        buttonEl.style.display =\n",
              "          google.colab.kernel.accessAllowed ? 'block' : 'none';\n",
              "\n",
              "        async function convertToInteractive(key) {\n",
              "          const element = document.querySelector('#df-0a519826-3f2f-450c-97e6-a722c772a42b');\n",
              "          const dataTable =\n",
              "            await google.colab.kernel.invokeFunction('convertToInteractive',\n",
              "                                                     [key], {});\n",
              "          if (!dataTable) return;\n",
              "\n",
              "          const docLinkHtml = 'Like what you see? Visit the ' +\n",
              "            '<a target=\"_blank\" href=https://colab.research.google.com/notebooks/data_table.ipynb>data table notebook</a>'\n",
              "            + ' to learn more about interactive tables.';\n",
              "          element.innerHTML = '';\n",
              "          dataTable['output_type'] = 'display_data';\n",
              "          await google.colab.output.renderOutput(dataTable, element);\n",
              "          const docLink = document.createElement('div');\n",
              "          docLink.innerHTML = docLinkHtml;\n",
              "          element.appendChild(docLink);\n",
              "        }\n",
              "      </script>\n",
              "    </div>\n",
              "  </div>\n"
            ]
          },
          "metadata": {},
          "execution_count": 131
        }
      ]
    },
    {
      "cell_type": "code",
      "source": [
        "import matplotlib.pyplot as plt\n",
        "from sklearn import tree\n",
        "from sklearn.model_selection import train_test_split\n",
        "from sklearn.svm import SVC"
      ],
      "metadata": {
        "id": "wD9xrklk80Xg"
      },
      "execution_count": 132,
      "outputs": []
    },
    {
      "cell_type": "code",
      "source": [
        "whole_dataframe.columns"
      ],
      "metadata": {
        "colab": {
          "base_uri": "https://localhost:8080/"
        },
        "id": "A-UlHGYE9bIS",
        "outputId": "66f95ca8-08e3-40b7-8f61-6b175170c7b2"
      },
      "execution_count": 133,
      "outputs": [
        {
          "output_type": "execute_result",
          "data": {
            "text/plain": [
              "Index(['elecro_idx', 'B1_P', 'B1_RP', 'B2_P', 'B2_RP', 'B3_P', 'B3_RP', 'B4_P',\n",
              "       'B4_RP', 'B5_P', 'B5_RP', 'is_execution'],\n",
              "      dtype='object')"
            ]
          },
          "metadata": {},
          "execution_count": 133
        }
      ]
    },
    {
      "cell_type": "code",
      "source": [
        "features = ['elecro_idx', 'B1_P', 'B1_RP', 'B2_P', 'B2_RP', 'B3_P', 'B3_RP', 'B4_P',\n",
        "       'B4_RP', 'B5_P', 'B5_RP']\n",
        "X = whole_dataframe.loc[:, features]\n",
        "y = whole_dataframe.loc[:, ['is_execution']]"
      ],
      "metadata": {
        "id": "CnPPzcTM80aj"
      },
      "execution_count": 134,
      "outputs": []
    },
    {
      "cell_type": "code",
      "source": [
        "X_train, X_test, y_train, y_test = train_test_split(X, y, random_state=0, train_size = .75)"
      ],
      "metadata": {
        "id": "80DIdvrA80de"
      },
      "execution_count": 135,
      "outputs": []
    },
    {
      "cell_type": "markdown",
      "source": [
        "### SCV"
      ],
      "metadata": {
        "id": "fUA5jgdmF600"
      }
    },
    {
      "cell_type": "code",
      "source": [
        "from sklearn.preprocessing import StandardScaler\n",
        "scaler = StandardScaler()\n",
        "X_train = scaler.fit_transform(X_train)\n",
        "X_test = scaler.transform(X_test)"
      ],
      "metadata": {
        "id": "LsEo4aECAh_m"
      },
      "execution_count": 136,
      "outputs": []
    },
    {
      "cell_type": "code",
      "source": [
        "svc=SVC()\n",
        "svc.fit(X_train,y_train)\n",
        "y_pred=svc.predict(X_test)\n"
      ],
      "metadata": {
        "colab": {
          "base_uri": "https://localhost:8080/"
        },
        "id": "semx_YWJ-mLs",
        "outputId": "6f6d298b-ea8f-4354-a832-937534cd7dd0"
      },
      "execution_count": 137,
      "outputs": [
        {
          "output_type": "stream",
          "name": "stderr",
          "text": [
            "/usr/local/lib/python3.10/dist-packages/sklearn/utils/validation.py:1143: DataConversionWarning: A column-vector y was passed when a 1d array was expected. Please change the shape of y to (n_samples, ), for example using ravel().\n",
            "  y = column_or_1d(y, warn=True)\n"
          ]
        }
      ]
    },
    {
      "cell_type": "code",
      "source": [
        "from sklearn.metrics import confusion_matrix\n",
        "import seaborn as sns\n",
        "cm = confusion_matrix(y_test, y_pred)"
      ],
      "metadata": {
        "id": "SCHC9L45-vsD"
      },
      "execution_count": 138,
      "outputs": []
    },
    {
      "cell_type": "code",
      "source": [
        "#Plot the confusion matrix.\n",
        "sns.heatmap(cm,\n",
        "            annot=True,\n",
        "            fmt='g',\n",
        "            xticklabels=['Real','Imagining'],\n",
        "            yticklabels=['Real','Imagining'])\n",
        "# Look at next comment.\n",
        "# we want to make sure than Real, Imagining is written in the right order.\n",
        "plt.ylabel('Prediction',fontsize=13)\n",
        "plt.xlabel('Actual',fontsize=13)\n",
        "plt.title('Confusion Matrix',fontsize=17)\n",
        "plt.show()"
      ],
      "metadata": {
        "colab": {
          "base_uri": "https://localhost:8080/",
          "height": 481
        },
        "id": "qJSCGlKfBN8M",
        "outputId": "4b891952-e703-4a84-e3b2-26e9d7f8b2f8"
      },
      "execution_count": 139,
      "outputs": [
        {
          "output_type": "display_data",
          "data": {
            "text/plain": [
              "<Figure size 640x480 with 2 Axes>"
            ],
            "image/png": "[encoded data removed]"
          },
          "metadata": {}
        }
      ]
    },
    {
      "cell_type": "code",
      "source": [
        "from sklearn.metrics import accuracy_score\n",
        "import numpy as np\n",
        "print(accuracy_score( y_test, y_pred))"
      ],
      "metadata": {
        "colab": {
          "base_uri": "https://localhost:8080/"
        },
        "id": "_AEftBbnBPyT",
        "outputId": "5aa3f75b-9137-4007-a940-cc929e057fb0"
      },
      "execution_count": 140,
      "outputs": [
        {
          "output_type": "stream",
          "name": "stdout",
          "text": [
            "0.7474637681159421\n"
          ]
        }
      ]
    },
    {
      "cell_type": "code",
      "source": [],
      "metadata": {
        "id": "WEtB-1OrD9ww"
      },
      "execution_count": 140,
      "outputs": []
    },
    {
      "cell_type": "markdown",
      "source": [
        "### Random Forest"
      ],
      "metadata": {
        "id": "SEL1R-SrGAda"
      }
    },
    {
      "cell_type": "code",
      "source": [
        "from sklearn.preprocessing import StandardScaler\n",
        "scaler = StandardScaler()\n",
        "X_train = scaler.fit_transform(X_train)\n",
        "X_test = scaler.transform(X_test)"
      ],
      "metadata": {
        "id": "Q8T1gXVhGAdb"
      },
      "execution_count": 141,
      "outputs": []
    },
    {
      "cell_type": "code",
      "source": [
        "from sklearn.ensemble import RandomForestClassifier\n",
        "clf = RandomForestClassifier(max_depth=9, random_state=0)\n",
        "clf.fit(X_train,y_train)\n",
        "y_pred=clf.predict(X_test)"
      ],
      "metadata": {
        "colab": {
          "base_uri": "https://localhost:8080/"
        },
        "outputId": "75fefc33-c3c0-40b8-deab-75959cf5dae4",
        "id": "usQVmf2UGAdb"
      },
      "execution_count": 142,
      "outputs": [
        {
          "output_type": "stream",
          "name": "stderr",
          "text": [
            "<ipython-input-142-2584e0968a9b>:3: DataConversionWarning: A column-vector y was passed when a 1d array was expected. Please change the shape of y to (n_samples,), for example using ravel().\n",
            "  clf.fit(X_train,y_train)\n"
          ]
        }
      ]
    },
    {
      "cell_type": "code",
      "source": [
        "from sklearn.metrics import confusion_matrix\n",
        "import seaborn as sns\n",
        "cm = confusion_matrix(y_test, y_pred)"
      ],
      "metadata": {
        "id": "F-WiBL0AGAdc"
      },
      "execution_count": 143,
      "outputs": []
    },
    {
      "cell_type": "code",
      "source": [
        "#Plot the confusion matrix.\n",
        "sns.heatmap(cm,\n",
        "            annot=True,\n",
        "            fmt='g',\n",
        "            xticklabels=['Real','Imagining'],\n",
        "            yticklabels=['Real','Imagining'])\n",
        "# Look at next comment.\n",
        "# we want to make sure than Real, Imagining is written in the right order.\n",
        "plt.ylabel('Prediction',fontsize=13)\n",
        "plt.xlabel('Actual',fontsize=13)\n",
        "plt.title('Confusion Matrix',fontsize=17)\n",
        "plt.show()"
      ],
      "metadata": {
        "colab": {
          "base_uri": "https://localhost:8080/",
          "height": 481
        },
        "outputId": "cfde8224-9747-4257-960e-f46e55a6ab70",
        "id": "EnuzQ1dAGAdc"
      },
      "execution_count": 144,
      "outputs": [
        {
          "output_type": "display_data",
          "data": {
            "text/plain": [
              "<Figure size 640x480 with 2 Axes>"
            ],
            "image/png": "[encoded data removed]"
          },
          "metadata": {}
        }
      ]
    },
    {
      "cell_type": "code",
      "source": [
        "from sklearn.metrics import accuracy_score\n",
        "import numpy as np\n",
        "print(accuracy_score( y_test, y_pred))"
      ],
      "metadata": {
        "colab": {
          "base_uri": "https://localhost:8080/"
        },
        "outputId": "f2b9fd9c-da4e-4327-8f37-169123cf1472",
        "id": "G3OrBh6HGAdd"
      },
      "execution_count": 145,
      "outputs": [
        {
          "output_type": "stream",
          "name": "stdout",
          "text": [
            "0.7442028985507246\n"
          ]
        }
      ]
    },
    {
      "cell_type": "code",
      "source": [
        "\n"
      ],
      "metadata": {
        "id": "z7HM_ilDGAdu"
      },
      "execution_count": 145,
      "outputs": []
    },
    {
      "cell_type": "markdown",
      "source": [
        "## Makes data in hands and tongues forms"
      ],
      "metadata": {
        "id": "xaYtO4IqZk7J"
      }
    },
    {
      "cell_type": "code",
      "source": [
        "hand_frames = [subject0_Imagery_hands, subject0_Real_hands]\n",
        "hand_frames = pd.concat(hand_frames)\n",
        "hand_frames['is_tongue'] = 0"
      ],
      "metadata": {
        "id": "BfcjLagDZk7J"
      },
      "execution_count": 146,
      "outputs": []
    },
    {
      "cell_type": "code",
      "source": [
        "tongues_frames = [subject0_Imagery_tongues, subject0_Real_tongues]\n",
        "tongues_frames = pd.concat(tongues_frames)\n",
        "tongues_frames['is_tongue'] = 1"
      ],
      "metadata": {
        "id": "oCaPYY-PZk7K"
      },
      "execution_count": 147,
      "outputs": []
    },
    {
      "cell_type": "code",
      "source": [
        "whole_dataframe = [hand_frames, tongues_frames]\n",
        "whole_dataframe = pd.concat(whole_dataframe)\n",
        "whole_dataframe"
      ],
      "metadata": {
        "colab": {
          "base_uri": "https://localhost:8080/",
          "height": 487
        },
        "outputId": "24ea4e72-579c-488a-af3f-1424e7a7486a",
        "id": "FIMdB9nAZk7K"
      },
      "execution_count": 148,
      "outputs": [
        {
          "output_type": "execute_result",
          "data": {
            "text/plain": [
              "      elecro_idx         B1_P     B1_RP       B2_P     B2_RP      B3_P  \\\n",
              "0              0    64.208372  0.058936  26.268088  0.024111  8.992230   \n",
              "1              0    40.340036  0.049763  32.921651  0.040611  8.286542   \n",
              "2              0    95.032736  0.070099  32.167133  0.023727  9.608515   \n",
              "3              0   207.406918  0.060584  29.545808  0.008630  7.646323   \n",
              "4              0    62.372128  0.051644  27.214559  0.022534  6.781020   \n",
              "...          ...          ...       ...        ...       ...       ...   \n",
              "2755          45  1025.123522  0.079350  71.822657  0.005559  7.213176   \n",
              "2756          45  1348.359458  0.149950  66.411932  0.007386  8.201165   \n",
              "2757          45  1291.338752  0.128585  81.084990  0.008074  6.594006   \n",
              "2758          45   602.142338  0.076327  66.250427  0.008398  7.153753   \n",
              "2759          45   500.207882  0.052238  51.989294  0.005429  5.916159   \n",
              "\n",
              "         B3_RP      B4_P     B4_RP      B5_P     B5_RP  is_tongue  \n",
              "0     0.008254  1.662773  0.001526  0.319480  0.000293          0  \n",
              "1     0.010222  1.633262  0.002015  0.340468  0.000420          0  \n",
              "2     0.007088  1.359709  0.001003  0.353153  0.000260          0  \n",
              "3     0.002234  1.559712  0.000456  0.306466  0.000090          0  \n",
              "4     0.005615  1.312397  0.001087  0.312094  0.000258          0  \n",
              "...        ...       ...       ...       ...       ...        ...  \n",
              "2755  0.000558  1.372350  0.000106  0.284276  0.000022          1  \n",
              "2756  0.000912  1.509035  0.000168  0.371192  0.000041          1  \n",
              "2757  0.000657  1.430860  0.000142  0.309141  0.000031          1  \n",
              "2758  0.000907  1.359199  0.000172  0.314774  0.000040          1  \n",
              "2759  0.000618  0.954208  0.000100  0.279900  0.000029          1  \n",
              "\n",
              "[11040 rows x 12 columns]"
            ],
            "text/html": [
              "\n",
              "\n",
              "  <div id=\"df-89ab2429-2d88-4d22-ba59-6188577e7c31\">\n",
              "    <div class=\"colab-df-container\">\n",
              "      <div>\n",
              "<style scoped>\n",
              "    .dataframe tbody tr th:only-of-type {\n",
              "        vertical-align: middle;\n",
              "    }\n",
              "\n",
              "    .dataframe tbody tr th {\n",
              "        vertical-align: top;\n",
              "    }\n",
              "\n",
              "    .dataframe thead th {\n",
              "        text-align: right;\n",
              "    }\n",
              "</style>\n",
              "<table border=\"1\" class=\"dataframe\">\n",
              "  <thead>\n",
              "    <tr style=\"text-align: right;\">\n",
              "      <th></th>\n",
              "      <th>elecro_idx</th>\n",
              "      <th>B1_P</th>\n",
              "      <th>B1_RP</th>\n",
              "      <th>B2_P</th>\n",
              "      <th>B2_RP</th>\n",
              "      <th>B3_P</th>\n",
              "      <th>B3_RP</th>\n",
              "      <th>B4_P</th>\n",
              "      <th>B4_RP</th>\n",
              "      <th>B5_P</th>\n",
              "      <th>B5_RP</th>\n",
              "      <th>is_tongue</th>\n",
              "    </tr>\n",
              "  </thead>\n",
              "  <tbody>\n",
              "    <tr>\n",
              "      <th>0</th>\n",
              "      <td>0</td>\n",
              "      <td>64.208372</td>\n",
              "      <td>0.058936</td>\n",
              "      <td>26.268088</td>\n",
              "      <td>0.024111</td>\n",
              "      <td>8.992230</td>\n",
              "      <td>0.008254</td>\n",
              "      <td>1.662773</td>\n",
              "      <td>0.001526</td>\n",
              "      <td>0.319480</td>\n",
              "      <td>0.000293</td>\n",
              "      <td>0</td>\n",
              "    </tr>\n",
              "    <tr>\n",
              "      <th>1</th>\n",
              "      <td>0</td>\n",
              "      <td>40.340036</td>\n",
              "      <td>0.049763</td>\n",
              "      <td>32.921651</td>\n",
              "      <td>0.040611</td>\n",
              "      <td>8.286542</td>\n",
              "      <td>0.010222</td>\n",
              "      <td>1.633262</td>\n",
              "      <td>0.002015</td>\n",
              "      <td>0.340468</td>\n",
              "      <td>0.000420</td>\n",
              "      <td>0</td>\n",
              "    </tr>\n",
              "    <tr>\n",
              "      <th>2</th>\n",
              "      <td>0</td>\n",
              "      <td>95.032736</td>\n",
              "      <td>0.070099</td>\n",
              "      <td>32.167133</td>\n",
              "      <td>0.023727</td>\n",
              "      <td>9.608515</td>\n",
              "      <td>0.007088</td>\n",
              "      <td>1.359709</td>\n",
              "      <td>0.001003</td>\n",
              "      <td>0.353153</td>\n",
              "      <td>0.000260</td>\n",
              "      <td>0</td>\n",
              "    </tr>\n",
              "    <tr>\n",
              "      <th>3</th>\n",
              "      <td>0</td>\n",
              "      <td>207.406918</td>\n",
              "      <td>0.060584</td>\n",
              "      <td>29.545808</td>\n",
              "      <td>0.008630</td>\n",
              "      <td>7.646323</td>\n",
              "      <td>0.002234</td>\n",
              "      <td>1.559712</td>\n",
              "      <td>0.000456</td>\n",
              "      <td>0.306466</td>\n",
              "      <td>0.000090</td>\n",
              "      <td>0</td>\n",
              "    </tr>\n",
              "    <tr>\n",
              "      <th>4</th>\n",
              "      <td>0</td>\n",
              "      <td>62.372128</td>\n",
              "      <td>0.051644</td>\n",
              "      <td>27.214559</td>\n",
              "      <td>0.022534</td>\n",
              "      <td>6.781020</td>\n",
              "      <td>0.005615</td>\n",
              "      <td>1.312397</td>\n",
              "      <td>0.001087</td>\n",
              "      <td>0.312094</td>\n",
              "      <td>0.000258</td>\n",
              "      <td>0</td>\n",
              "    </tr>\n",
              "    <tr>\n",
              "      <th>...</th>\n",
              "      <td>...</td>\n",
              "      <td>...</td>\n",
              "      <td>...</td>\n",
              "      <td>...</td>\n",
              "      <td>...</td>\n",
              "      <td>...</td>\n",
              "      <td>...</td>\n",
              "      <td>...</td>\n",
              "      <td>...</td>\n",
              "      <td>...</td>\n",
              "      <td>...</td>\n",
              "      <td>...</td>\n",
              "    </tr>\n",
              "    <tr>\n",
              "      <th>2755</th>\n",
              "      <td>45</td>\n",
              "      <td>1025.123522</td>\n",
              "      <td>0.079350</td>\n",
              "      <td>71.822657</td>\n",
              "      <td>0.005559</td>\n",
              "      <td>7.213176</td>\n",
              "      <td>0.000558</td>\n",
              "      <td>1.372350</td>\n",
              "      <td>0.000106</td>\n",
              "      <td>0.284276</td>\n",
              "      <td>0.000022</td>\n",
              "      <td>1</td>\n",
              "    </tr>\n",
              "    <tr>\n",
              "      <th>2756</th>\n",
              "      <td>45</td>\n",
              "      <td>1348.359458</td>\n",
              "      <td>0.149950</td>\n",
              "      <td>66.411932</td>\n",
              "      <td>0.007386</td>\n",
              "      <td>8.201165</td>\n",
              "      <td>0.000912</td>\n",
              "      <td>1.509035</td>\n",
              "      <td>0.000168</td>\n",
              "      <td>0.371192</td>\n",
              "      <td>0.000041</td>\n",
              "      <td>1</td>\n",
              "    </tr>\n",
              "    <tr>\n",
              "      <th>2757</th>\n",
              "      <td>45</td>\n",
              "      <td>1291.338752</td>\n",
              "      <td>0.128585</td>\n",
              "      <td>81.084990</td>\n",
              "      <td>0.008074</td>\n",
              "      <td>6.594006</td>\n",
              "      <td>0.000657</td>\n",
              "      <td>1.430860</td>\n",
              "      <td>0.000142</td>\n",
              "      <td>0.309141</td>\n",
              "      <td>0.000031</td>\n",
              "      <td>1</td>\n",
              "    </tr>\n",
              "    <tr>\n",
              "      <th>2758</th>\n",
              "      <td>45</td>\n",
              "      <td>602.142338</td>\n",
              "      <td>0.076327</td>\n",
              "      <td>66.250427</td>\n",
              "      <td>0.008398</td>\n",
              "      <td>7.153753</td>\n",
              "      <td>0.000907</td>\n",
              "      <td>1.359199</td>\n",
              "      <td>0.000172</td>\n",
              "      <td>0.314774</td>\n",
              "      <td>0.000040</td>\n",
              "      <td>1</td>\n",
              "    </tr>\n",
              "    <tr>\n",
              "      <th>2759</th>\n",
              "      <td>45</td>\n",
              "      <td>500.207882</td>\n",
              "      <td>0.052238</td>\n",
              "      <td>51.989294</td>\n",
              "      <td>0.005429</td>\n",
              "      <td>5.916159</td>\n",
              "      <td>0.000618</td>\n",
              "      <td>0.954208</td>\n",
              "      <td>0.000100</td>\n",
              "      <td>0.279900</td>\n",
              "      <td>0.000029</td>\n",
              "      <td>1</td>\n",
              "    </tr>\n",
              "  </tbody>\n",
              "</table>\n",
              "<p>11040 rows × 12 columns</p>\n",
              "</div>\n",
              "      <button class=\"colab-df-convert\" onclick=\"convertToInteractive('df-89ab2429-2d88-4d22-ba59-6188577e7c31')\"\n",
              "              title=\"Convert this dataframe to an interactive table.\"\n",
              "              style=\"display:none;\">\n",
              "\n",
              "  <svg xmlns=\"http://www.w3.org/2000/svg\" height=\"24px\"viewBox=\"0 0 24 24\"\n",
              "       width=\"24px\">\n",
              "    <path d=\"M0 0h24v24H0V0z\" fill=\"none\"/>\n",
              "    <path d=\"M18.56 5.44l.94 2.06.94-2.06 2.06-.94-2.06-.94-.94-2.06-.94 2.06-2.06.94zm-11 1L8.5 8.5l.94-2.06 2.06-.94-2.06-.94L8.5 2.5l-.94 2.06-2.06.94zm10 10l.94 2.06.94-2.06 2.06-.94-2.06-.94-.94-2.06-.94 2.06-2.06.94z\"/><path d=\"M17.41 7.96l-1.37-1.37c-.4-.4-.92-.59-1.43-.59-.52 0-1.04.2-1.43.59L10.3 9.45l-7.72 7.72c-.78.78-.78 2.05 0 2.83L4 21.41c.39.39.9.59 1.41.59.51 0 1.02-.2 1.41-.59l7.78-7.78 2.81-2.81c.8-.78.8-2.07 0-2.86zM5.41 20L4 18.59l7.72-7.72 1.47 1.35L5.41 20z\"/>\n",
              "  </svg>\n",
              "      </button>\n",
              "\n",
              "\n",
              "\n",
              "    <div id=\"df-64508087-238f-40c9-8fcb-d3356784f850\">\n",
              "      <button class=\"colab-df-quickchart\" onclick=\"quickchart('df-64508087-238f-40c9-8fcb-d3356784f850')\"\n",
              "              title=\"Suggest charts.\"\n",
              "              style=\"display:none;\">\n",
              "\n",
              "<svg xmlns=\"http://www.w3.org/2000/svg\" height=\"24px\"viewBox=\"0 0 24 24\"\n",
              "     width=\"24px\">\n",
              "    <g>\n",
              "        <path d=\"M19 3H5c-1.1 0-2 .9-2 2v14c0 1.1.9 2 2 2h14c1.1 0 2-.9 2-2V5c0-1.1-.9-2-2-2zM9 17H7v-7h2v7zm4 0h-2V7h2v10zm4 0h-2v-4h2v4z\"/>\n",
              "    </g>\n",
              "</svg>\n",
              "      </button>\n",
              "    </div>\n",
              "\n",
              "<style>\n",
              "  .colab-df-quickchart {\n",
              "    background-color: #E8F0FE;\n",
              "    border: none;\n",
              "    border-radius: 50%;\n",
              "    cursor: pointer;\n",
              "    display: none;\n",
              "    fill: #1967D2;\n",
              "    height: 32px;\n",
              "    padding: 0 0 0 0;\n",
              "    width: 32px;\n",
              "  }\n",
              "\n",
              "  .colab-df-quickchart:hover {\n",
              "    background-color: #E2EBFA;\n",
              "    box-shadow: 0px 1px 2px rgba(60, 64, 67, 0.3), 0px 1px 3px 1px rgba(60, 64, 67, 0.15);\n",
              "    fill: #174EA6;\n",
              "  }\n",
              "\n",
              "  [theme=dark] .colab-df-quickchart {\n",
              "    background-color: #3B4455;\n",
              "    fill: #D2E3FC;\n",
              "  }\n",
              "\n",
              "  [theme=dark] .colab-df-quickchart:hover {\n",
              "    background-color: #434B5C;\n",
              "    box-shadow: 0px 1px 3px 1px rgba(0, 0, 0, 0.15);\n",
              "    filter: drop-shadow(0px 1px 2px rgba(0, 0, 0, 0.3));\n",
              "    fill: #FFFFFF;\n",
              "  }\n",
              "</style>\n",
              "\n",
              "    <script>\n",
              "      async function quickchart(key) {\n",
              "        const containerElement = document.querySelector('#' + key);\n",
              "        const charts = await google.colab.kernel.invokeFunction(\n",
              "            'suggestCharts', [key], {});\n",
              "      }\n",
              "    </script>\n",
              "\n",
              "      <script>\n",
              "\n",
              "function displayQuickchartButton(domScope) {\n",
              "  let quickchartButtonEl =\n",
              "    domScope.querySelector('#df-64508087-238f-40c9-8fcb-d3356784f850 button.colab-df-quickchart');\n",
              "  quickchartButtonEl.style.display =\n",
              "    google.colab.kernel.accessAllowed ? 'block' : 'none';\n",
              "}\n",
              "\n",
              "        displayQuickchartButton(document);\n",
              "      </script>\n",
              "      <style>\n",
              "    .colab-df-container {\n",
              "      display:flex;\n",
              "      flex-wrap:wrap;\n",
              "      gap: 12px;\n",
              "    }\n",
              "\n",
              "    .colab-df-convert {\n",
              "      background-color: #E8F0FE;\n",
              "      border: none;\n",
              "      border-radius: 50%;\n",
              "      cursor: pointer;\n",
              "      display: none;\n",
              "      fill: #1967D2;\n",
              "      height: 32px;\n",
              "      padding: 0 0 0 0;\n",
              "      width: 32px;\n",
              "    }\n",
              "\n",
              "    .colab-df-convert:hover {\n",
              "      background-color: #E2EBFA;\n",
              "      box-shadow: 0px 1px 2px rgba(60, 64, 67, 0.3), 0px 1px 3px 1px rgba(60, 64, 67, 0.15);\n",
              "      fill: #174EA6;\n",
              "    }\n",
              "\n",
              "    [theme=dark] .colab-df-convert {\n",
              "      background-color: #3B4455;\n",
              "      fill: #D2E3FC;\n",
              "    }\n",
              "\n",
              "    [theme=dark] .colab-df-convert:hover {\n",
              "      background-color: #434B5C;\n",
              "      box-shadow: 0px 1px 3px 1px rgba(0, 0, 0, 0.15);\n",
              "      filter: drop-shadow(0px 1px 2px rgba(0, 0, 0, 0.3));\n",
              "      fill: #FFFFFF;\n",
              "    }\n",
              "  </style>\n",
              "\n",
              "      <script>\n",
              "        const buttonEl =\n",
              "          document.querySelector('#df-89ab2429-2d88-4d22-ba59-6188577e7c31 button.colab-df-convert');\n",
              "        buttonEl.style.display =\n",
              "          google.colab.kernel.accessAllowed ? 'block' : 'none';\n",
              "\n",
              "        async function convertToInteractive(key) {\n",
              "          const element = document.querySelector('#df-89ab2429-2d88-4d22-ba59-6188577e7c31');\n",
              "          const dataTable =\n",
              "            await google.colab.kernel.invokeFunction('convertToInteractive',\n",
              "                                                     [key], {});\n",
              "          if (!dataTable) return;\n",
              "\n",
              "          const docLinkHtml = 'Like what you see? Visit the ' +\n",
              "            '<a target=\"_blank\" href=https://colab.research.google.com/notebooks/data_table.ipynb>data table notebook</a>'\n",
              "            + ' to learn more about interactive tables.';\n",
              "          element.innerHTML = '';\n",
              "          dataTable['output_type'] = 'display_data';\n",
              "          await google.colab.output.renderOutput(dataTable, element);\n",
              "          const docLink = document.createElement('div');\n",
              "          docLink.innerHTML = docLinkHtml;\n",
              "          element.appendChild(docLink);\n",
              "        }\n",
              "      </script>\n",
              "    </div>\n",
              "  </div>\n"
            ]
          },
          "metadata": {},
          "execution_count": 148
        }
      ]
    },
    {
      "cell_type": "code",
      "source": [
        "import matplotlib.pyplot as plt\n",
        "from sklearn import tree\n",
        "from sklearn.model_selection import train_test_split\n",
        "from sklearn.svm import SVC"
      ],
      "metadata": {
        "id": "STGOtO_hZk7L"
      },
      "execution_count": 149,
      "outputs": []
    },
    {
      "cell_type": "code",
      "source": [
        "whole_dataframe.columns"
      ],
      "metadata": {
        "colab": {
          "base_uri": "https://localhost:8080/"
        },
        "outputId": "b64d12e8-679b-48e2-f88d-1fab21d19bb1",
        "id": "kHW1pINMZk7L"
      },
      "execution_count": 150,
      "outputs": [
        {
          "output_type": "execute_result",
          "data": {
            "text/plain": [
              "Index(['elecro_idx', 'B1_P', 'B1_RP', 'B2_P', 'B2_RP', 'B3_P', 'B3_RP', 'B4_P',\n",
              "       'B4_RP', 'B5_P', 'B5_RP', 'is_tongue'],\n",
              "      dtype='object')"
            ]
          },
          "metadata": {},
          "execution_count": 150
        }
      ]
    },
    {
      "cell_type": "code",
      "source": [
        "features = ['elecro_idx', 'B1_P', 'B1_RP', 'B2_P', 'B2_RP', 'B3_P', 'B3_RP', 'B4_P',\n",
        "       'B4_RP', 'B5_P', 'B5_RP']\n",
        "X = whole_dataframe.loc[:, features]\n",
        "y = whole_dataframe.loc[:, ['is_tongue']]"
      ],
      "metadata": {
        "id": "Iv2275HAZk7M"
      },
      "execution_count": 151,
      "outputs": []
    },
    {
      "cell_type": "code",
      "source": [
        "X_train, X_test, y_train, y_test = train_test_split(X, y, random_state=0, train_size = .75)"
      ],
      "metadata": {
        "id": "upkmQiIZZk7M"
      },
      "execution_count": 152,
      "outputs": []
    },
    {
      "cell_type": "markdown",
      "source": [
        "### SCV"
      ],
      "metadata": {
        "id": "-pwlE0zgZk7N"
      }
    },
    {
      "cell_type": "code",
      "source": [
        "from sklearn.preprocessing import StandardScaler\n",
        "scaler = StandardScaler()\n",
        "X_train = scaler.fit_transform(X_train)\n",
        "X_test = scaler.transform(X_test)"
      ],
      "metadata": {
        "id": "11BJbz5QZk7N"
      },
      "execution_count": 153,
      "outputs": []
    },
    {
      "cell_type": "code",
      "source": [
        "svc=SVC()\n",
        "svc.fit(X_train,y_train)\n",
        "y_pred=svc.predict(X_test)\n"
      ],
      "metadata": {
        "colab": {
          "base_uri": "https://localhost:8080/"
        },
        "outputId": "65e8991d-1ebf-4bc8-a2dc-2aa02f7d507a",
        "id": "TVK8h8YhZk7N"
      },
      "execution_count": 154,
      "outputs": [
        {
          "output_type": "stream",
          "name": "stderr",
          "text": [
            "/usr/local/lib/python3.10/dist-packages/sklearn/utils/validation.py:1143: DataConversionWarning: A column-vector y was passed when a 1d array was expected. Please change the shape of y to (n_samples, ), for example using ravel().\n",
            "  y = column_or_1d(y, warn=True)\n"
          ]
        }
      ]
    },
    {
      "cell_type": "code",
      "source": [
        "from sklearn.metrics import confusion_matrix\n",
        "import seaborn as sns\n",
        "cm = confusion_matrix(y_test, y_pred)"
      ],
      "metadata": {
        "id": "t9CqbTPQZk7N"
      },
      "execution_count": 155,
      "outputs": []
    },
    {
      "cell_type": "code",
      "source": [
        "#Plot the confusion matrix.\n",
        "sns.heatmap(cm,\n",
        "            annot=True,\n",
        "            fmt='g',\n",
        "            xticklabels=['tongue','hand'],\n",
        "            yticklabels=['tongue','hand'])\n",
        "# Look at next comment.\n",
        "# we want to make sure than tongue, hand is written in the right order.\n",
        "plt.ylabel('Prediction',fontsize=13)\n",
        "plt.xlabel('Actual',fontsize=13)\n",
        "plt.title('Confusion Matrix',fontsize=17)\n",
        "plt.show()"
      ],
      "metadata": {
        "colab": {
          "base_uri": "https://localhost:8080/",
          "height": 481
        },
        "outputId": "688cc4b9-2eee-4b63-9b06-e9694c872142",
        "id": "WErcCdWcZk7N"
      },
      "execution_count": 156,
      "outputs": [
        {
          "output_type": "display_data",
          "data": {
            "text/plain": [
              "<Figure size 640x480 with 2 Axes>"
            ],
            "image/png": "[encoded data removed]"
          },
          "metadata": {}
        }
      ]
    },
    {
      "cell_type": "code",
      "source": [
        "from sklearn.metrics import accuracy_score\n",
        "import numpy as np\n",
        "print(accuracy_score( y_test, y_pred))"
      ],
      "metadata": {
        "colab": {
          "base_uri": "https://localhost:8080/"
        },
        "outputId": "675b03b6-9772-443c-f3e8-d02ad90301c5",
        "id": "sikNVYopZk7O"
      },
      "execution_count": 157,
      "outputs": [
        {
          "output_type": "stream",
          "name": "stdout",
          "text": [
            "0.5597826086956522\n"
          ]
        }
      ]
    },
    {
      "cell_type": "code",
      "source": [],
      "metadata": {
        "id": "sTqcw3HYZk7O"
      },
      "execution_count": 157,
      "outputs": []
    },
    {
      "cell_type": "markdown",
      "source": [
        "### Random Forest"
      ],
      "metadata": {
        "id": "QH8sV5wjZk7O"
      }
    },
    {
      "cell_type": "code",
      "source": [
        "from sklearn.preprocessing import StandardScaler\n",
        "scaler = StandardScaler()\n",
        "X_train = scaler.fit_transform(X_train)\n",
        "X_test = scaler.transform(X_test)"
      ],
      "metadata": {
        "id": "GfWksCikZk7P"
      },
      "execution_count": 158,
      "outputs": []
    },
    {
      "cell_type": "code",
      "source": [
        "from sklearn.ensemble import RandomForestClassifier\n",
        "clf = RandomForestClassifier(max_depth=9, random_state=0)\n",
        "clf.fit(X_train,y_train)\n",
        "y_pred=clf.predict(X_test)"
      ],
      "metadata": {
        "colab": {
          "base_uri": "https://localhost:8080/"
        },
        "outputId": "31b9fecf-db12-4414-c893-2be8e82dd21e",
        "id": "zVbuV-m_Zk7P"
      },
      "execution_count": 159,
      "outputs": [
        {
          "output_type": "stream",
          "name": "stderr",
          "text": [
            "<ipython-input-159-2584e0968a9b>:3: DataConversionWarning: A column-vector y was passed when a 1d array was expected. Please change the shape of y to (n_samples,), for example using ravel().\n",
            "  clf.fit(X_train,y_train)\n"
          ]
        }
      ]
    },
    {
      "cell_type": "code",
      "source": [
        "from sklearn.metrics import confusion_matrix\n",
        "import seaborn as sns\n",
        "cm = confusion_matrix(y_test, y_pred)"
      ],
      "metadata": {
        "id": "rT2zwsDFZk7Q"
      },
      "execution_count": 160,
      "outputs": []
    },
    {
      "cell_type": "code",
      "source": [
        "#Plot the confusion matrix.\n",
        "sns.heatmap(cm,\n",
        "            annot=True,\n",
        "            fmt='g',\n",
        "            xticklabels=['Real','Imagining'],\n",
        "            yticklabels=['Real','Imagining'])\n",
        "# Look at next comment.\n",
        "# we want to make sure than Real, Imagining is written in the right order.\n",
        "plt.ylabel('Prediction',fontsize=13)\n",
        "plt.xlabel('Actual',fontsize=13)\n",
        "plt.title('Confusion Matrix',fontsize=17)\n",
        "plt.show()"
      ],
      "metadata": {
        "colab": {
          "base_uri": "https://localhost:8080/",
          "height": 481
        },
        "outputId": "0eead155-c2ec-4563-da24-0a02fcd147ee",
        "id": "_waJDdvYZk7Q"
      },
      "execution_count": 161,
      "outputs": [
        {
          "output_type": "display_data",
          "data": {
            "text/plain": [
              "<Figure size 640x480 with 2 Axes>"
            ],
            "image/png": "[encoded data removed]"
          },
          "metadata": {}
        }
      ]
    },
    {
      "cell_type": "code",
      "source": [
        "from sklearn.metrics import accuracy_score\n",
        "import numpy as np\n",
        "print(accuracy_score( y_test, y_pred))"
      ],
      "metadata": {
        "colab": {
          "base_uri": "https://localhost:8080/"
        },
        "outputId": "651a5936-7f2f-44b6-86bc-5b84d4f39f26",
        "id": "HZtvDpf3Zk7R"
      },
      "execution_count": 162,
      "outputs": [
        {
          "output_type": "stream",
          "name": "stdout",
          "text": [
            "0.566304347826087\n"
          ]
        }
      ]
    },
    {
      "cell_type": "code",
      "source": [],
      "metadata": {
        "id": "qvAyQT6qZk7R"
      },
      "execution_count": 162,
      "outputs": []
    },
    {
      "cell_type": "markdown",
      "source": [
        "# Subject 2"
      ],
      "metadata": {
        "id": "uzrxfnWINmUB"
      }
    },
    {
      "cell_type": "code",
      "source": [
        "subject2_Imagery_hands = pd.read_csv(\"/content/subject2_Imagery_hands.csv\")\n",
        "subject2_Imagery_tongues = pd.read_csv(\"/content/subject2_Imagery_tongues.csv\")\n",
        "subject2_Real_hands = pd.read_csv(\"/content/subject2_Real_hands.csv\")\n",
        "subject2_Real_tongues = pd.read_csv(\"/content/subject2_Real_tongues.csv\")"
      ],
      "metadata": {
        "id": "A2dgYHsgNmUC"
      },
      "execution_count": 163,
      "outputs": []
    },
    {
      "cell_type": "markdown",
      "source": [
        "## Makes data in real and imagery forms"
      ],
      "metadata": {
        "id": "hr2EzVo_NmUC"
      }
    },
    {
      "cell_type": "code",
      "source": [
        "Imagery_frames = [subject2_Imagery_hands, subject2_Imagery_tongues]\n",
        "Imagery_frames = pd.concat(Imagery_frames)\n",
        "Imagery_frames['is_execution'] = 0"
      ],
      "metadata": {
        "id": "etlPZim9NmUD"
      },
      "execution_count": 164,
      "outputs": []
    },
    {
      "cell_type": "code",
      "source": [
        "Real_frames = [subject2_Real_hands, subject2_Real_tongues]\n",
        "Real_frames = pd.concat(Real_frames)\n",
        "Real_frames['is_execution'] = 1"
      ],
      "metadata": {
        "id": "mkBz4WJRNmUD"
      },
      "execution_count": 165,
      "outputs": []
    },
    {
      "cell_type": "code",
      "source": [
        "whole_dataframe = [Imagery_frames, Real_frames]\n",
        "whole_dataframe = pd.concat(whole_dataframe)\n",
        "whole_dataframe"
      ],
      "metadata": {
        "colab": {
          "base_uri": "https://localhost:8080/",
          "height": 487
        },
        "outputId": "e2e8c0dc-650c-419a-9ba3-d663ee76420f",
        "id": "x3yJgk6WNmUD"
      },
      "execution_count": 166,
      "outputs": [
        {
          "output_type": "execute_result",
          "data": {
            "text/plain": [
              "      elecro_idx        B1_P     B1_RP       B2_P     B2_RP       B3_P  \\\n",
              "0              0  182.664252  0.025179  32.458843  0.004474   5.742851   \n",
              "1              0   80.044354  0.012035  35.013405  0.005265   4.645054   \n",
              "2              0  177.213651  0.037405  31.037560  0.006551   4.401069   \n",
              "3              0  169.611159  0.029587  33.261074  0.005802   4.380996   \n",
              "4              0  402.274409  0.016761  37.848761  0.001577   5.906509   \n",
              "...          ...         ...       ...        ...       ...        ...   \n",
              "2875          47  176.450452  0.029799  33.216046  0.005610   6.530403   \n",
              "2876          47  191.219588  0.029378  47.845522  0.007351   8.047811   \n",
              "2877          47  185.742916  0.027688  52.539384  0.007832   5.794241   \n",
              "2878          47   91.805034  0.023122  36.576291  0.009212   8.641063   \n",
              "2879          47   75.370132  0.019741  50.609467  0.013256  11.900502   \n",
              "\n",
              "         B3_RP      B4_P     B4_RP      B5_P     B5_RP  is_execution  \n",
              "0     0.000792  1.412456  0.000195  0.319182  0.000044             0  \n",
              "1     0.000698  1.249157  0.000188  0.276324  0.000042             0  \n",
              "2     0.000929  1.217149  0.000257  0.360821  0.000076             0  \n",
              "3     0.000764  1.100754  0.000192  0.382880  0.000067             0  \n",
              "4     0.000246  1.176297  0.000049  0.366297  0.000015             0  \n",
              "...        ...       ...       ...       ...       ...           ...  \n",
              "2875  0.001103  1.000416  0.000169  0.224647  0.000038             1  \n",
              "2876  0.001236  1.148427  0.000176  0.247321  0.000038             1  \n",
              "2877  0.000864  0.858207  0.000128  0.185568  0.000028             1  \n",
              "2878  0.002176  1.178701  0.000297  0.178973  0.000045             1  \n",
              "2879  0.003117  1.401651  0.000367  0.172548  0.000045             1  \n",
              "\n",
              "[11520 rows x 12 columns]"
            ],
            "text/html": [
              "\n",
              "\n",
              "  <div id=\"df-5b4cb220-ddf1-49ef-bbce-17466e3beb76\">\n",
              "    <div class=\"colab-df-container\">\n",
              "      <div>\n",
              "<style scoped>\n",
              "    .dataframe tbody tr th:only-of-type {\n",
              "        vertical-align: middle;\n",
              "    }\n",
              "\n",
              "    .dataframe tbody tr th {\n",
              "        vertical-align: top;\n",
              "    }\n",
              "\n",
              "    .dataframe thead th {\n",
              "        text-align: right;\n",
              "    }\n",
              "</style>\n",
              "<table border=\"1\" class=\"dataframe\">\n",
              "  <thead>\n",
              "    <tr style=\"text-align: right;\">\n",
              "      <th></th>\n",
              "      <th>elecro_idx</th>\n",
              "      <th>B1_P</th>\n",
              "      <th>B1_RP</th>\n",
              "      <th>B2_P</th>\n",
              "      <th>B2_RP</th>\n",
              "      <th>B3_P</th>\n",
              "      <th>B3_RP</th>\n",
              "      <th>B4_P</th>\n",
              "      <th>B4_RP</th>\n",
              "      <th>B5_P</th>\n",
              "      <th>B5_RP</th>\n",
              "      <th>is_execution</th>\n",
              "    </tr>\n",
              "  </thead>\n",
              "  <tbody>\n",
              "    <tr>\n",
              "      <th>0</th>\n",
              "      <td>0</td>\n",
              "      <td>182.664252</td>\n",
              "      <td>0.025179</td>\n",
              "      <td>32.458843</td>\n",
              "      <td>0.004474</td>\n",
              "      <td>5.742851</td>\n",
              "      <td>0.000792</td>\n",
              "      <td>1.412456</td>\n",
              "      <td>0.000195</td>\n",
              "      <td>0.319182</td>\n",
              "      <td>0.000044</td>\n",
              "      <td>0</td>\n",
              "    </tr>\n",
              "    <tr>\n",
              "      <th>1</th>\n",
              "      <td>0</td>\n",
              "      <td>80.044354</td>\n",
              "      <td>0.012035</td>\n",
              "      <td>35.013405</td>\n",
              "      <td>0.005265</td>\n",
              "      <td>4.645054</td>\n",
              "      <td>0.000698</td>\n",
              "      <td>1.249157</td>\n",
              "      <td>0.000188</td>\n",
              "      <td>0.276324</td>\n",
              "      <td>0.000042</td>\n",
              "      <td>0</td>\n",
              "    </tr>\n",
              "    <tr>\n",
              "      <th>2</th>\n",
              "      <td>0</td>\n",
              "      <td>177.213651</td>\n",
              "      <td>0.037405</td>\n",
              "      <td>31.037560</td>\n",
              "      <td>0.006551</td>\n",
              "      <td>4.401069</td>\n",
              "      <td>0.000929</td>\n",
              "      <td>1.217149</td>\n",
              "      <td>0.000257</td>\n",
              "      <td>0.360821</td>\n",
              "      <td>0.000076</td>\n",
              "      <td>0</td>\n",
              "    </tr>\n",
              "    <tr>\n",
              "      <th>3</th>\n",
              "      <td>0</td>\n",
              "      <td>169.611159</td>\n",
              "      <td>0.029587</td>\n",
              "      <td>33.261074</td>\n",
              "      <td>0.005802</td>\n",
              "      <td>4.380996</td>\n",
              "      <td>0.000764</td>\n",
              "      <td>1.100754</td>\n",
              "      <td>0.000192</td>\n",
              "      <td>0.382880</td>\n",
              "      <td>0.000067</td>\n",
              "      <td>0</td>\n",
              "    </tr>\n",
              "    <tr>\n",
              "      <th>4</th>\n",
              "      <td>0</td>\n",
              "      <td>402.274409</td>\n",
              "      <td>0.016761</td>\n",
              "      <td>37.848761</td>\n",
              "      <td>0.001577</td>\n",
              "      <td>5.906509</td>\n",
              "      <td>0.000246</td>\n",
              "      <td>1.176297</td>\n",
              "      <td>0.000049</td>\n",
              "      <td>0.366297</td>\n",
              "      <td>0.000015</td>\n",
              "      <td>0</td>\n",
              "    </tr>\n",
              "    <tr>\n",
              "      <th>...</th>\n",
              "      <td>...</td>\n",
              "      <td>...</td>\n",
              "      <td>...</td>\n",
              "      <td>...</td>\n",
              "      <td>...</td>\n",
              "      <td>...</td>\n",
              "      <td>...</td>\n",
              "      <td>...</td>\n",
              "      <td>...</td>\n",
              "      <td>...</td>\n",
              "      <td>...</td>\n",
              "      <td>...</td>\n",
              "    </tr>\n",
              "    <tr>\n",
              "      <th>2875</th>\n",
              "      <td>47</td>\n",
              "      <td>176.450452</td>\n",
              "      <td>0.029799</td>\n",
              "      <td>33.216046</td>\n",
              "      <td>0.005610</td>\n",
              "      <td>6.530403</td>\n",
              "      <td>0.001103</td>\n",
              "      <td>1.000416</td>\n",
              "      <td>0.000169</td>\n",
              "      <td>0.224647</td>\n",
              "      <td>0.000038</td>\n",
              "      <td>1</td>\n",
              "    </tr>\n",
              "    <tr>\n",
              "      <th>2876</th>\n",
              "      <td>47</td>\n",
              "      <td>191.219588</td>\n",
              "      <td>0.029378</td>\n",
              "      <td>47.845522</td>\n",
              "      <td>0.007351</td>\n",
              "      <td>8.047811</td>\n",
              "      <td>0.001236</td>\n",
              "      <td>1.148427</td>\n",
              "      <td>0.000176</td>\n",
              "      <td>0.247321</td>\n",
              "      <td>0.000038</td>\n",
              "      <td>1</td>\n",
              "    </tr>\n",
              "    <tr>\n",
              "      <th>2877</th>\n",
              "      <td>47</td>\n",
              "      <td>185.742916</td>\n",
              "      <td>0.027688</td>\n",
              "      <td>52.539384</td>\n",
              "      <td>0.007832</td>\n",
              "      <td>5.794241</td>\n",
              "      <td>0.000864</td>\n",
              "      <td>0.858207</td>\n",
              "      <td>0.000128</td>\n",
              "      <td>0.185568</td>\n",
              "      <td>0.000028</td>\n",
              "      <td>1</td>\n",
              "    </tr>\n",
              "    <tr>\n",
              "      <th>2878</th>\n",
              "      <td>47</td>\n",
              "      <td>91.805034</td>\n",
              "      <td>0.023122</td>\n",
              "      <td>36.576291</td>\n",
              "      <td>0.009212</td>\n",
              "      <td>8.641063</td>\n",
              "      <td>0.002176</td>\n",
              "      <td>1.178701</td>\n",
              "      <td>0.000297</td>\n",
              "      <td>0.178973</td>\n",
              "      <td>0.000045</td>\n",
              "      <td>1</td>\n",
              "    </tr>\n",
              "    <tr>\n",
              "      <th>2879</th>\n",
              "      <td>47</td>\n",
              "      <td>75.370132</td>\n",
              "      <td>0.019741</td>\n",
              "      <td>50.609467</td>\n",
              "      <td>0.013256</td>\n",
              "      <td>11.900502</td>\n",
              "      <td>0.003117</td>\n",
              "      <td>1.401651</td>\n",
              "      <td>0.000367</td>\n",
              "      <td>0.172548</td>\n",
              "      <td>0.000045</td>\n",
              "      <td>1</td>\n",
              "    </tr>\n",
              "  </tbody>\n",
              "</table>\n",
              "<p>11520 rows × 12 columns</p>\n",
              "</div>\n",
              "      <button class=\"colab-df-convert\" onclick=\"convertToInteractive('df-5b4cb220-ddf1-49ef-bbce-17466e3beb76')\"\n",
              "              title=\"Convert this dataframe to an interactive table.\"\n",
              "              style=\"display:none;\">\n",
              "\n",
              "  <svg xmlns=\"http://www.w3.org/2000/svg\" height=\"24px\"viewBox=\"0 0 24 24\"\n",
              "       width=\"24px\">\n",
              "    <path d=\"M0 0h24v24H0V0z\" fill=\"none\"/>\n",
              "    <path d=\"M18.56 5.44l.94 2.06.94-2.06 2.06-.94-2.06-.94-.94-2.06-.94 2.06-2.06.94zm-11 1L8.5 8.5l.94-2.06 2.06-.94-2.06-.94L8.5 2.5l-.94 2.06-2.06.94zm10 10l.94 2.06.94-2.06 2.06-.94-2.06-.94-.94-2.06-.94 2.06-2.06.94z\"/><path d=\"M17.41 7.96l-1.37-1.37c-.4-.4-.92-.59-1.43-.59-.52 0-1.04.2-1.43.59L10.3 9.45l-7.72 7.72c-.78.78-.78 2.05 0 2.83L4 21.41c.39.39.9.59 1.41.59.51 0 1.02-.2 1.41-.59l7.78-7.78 2.81-2.81c.8-.78.8-2.07 0-2.86zM5.41 20L4 18.59l7.72-7.72 1.47 1.35L5.41 20z\"/>\n",
              "  </svg>\n",
              "      </button>\n",
              "\n",
              "\n",
              "\n",
              "    <div id=\"df-a21d81f2-422f-4f94-b11b-95f8babf85e4\">\n",
              "      <button class=\"colab-df-quickchart\" onclick=\"quickchart('df-a21d81f2-422f-4f94-b11b-95f8babf85e4')\"\n",
              "              title=\"Suggest charts.\"\n",
              "              style=\"display:none;\">\n",
              "\n",
              "<svg xmlns=\"http://www.w3.org/2000/svg\" height=\"24px\"viewBox=\"0 0 24 24\"\n",
              "     width=\"24px\">\n",
              "    <g>\n",
              "        <path d=\"M19 3H5c-1.1 0-2 .9-2 2v14c0 1.1.9 2 2 2h14c1.1 0 2-.9 2-2V5c0-1.1-.9-2-2-2zM9 17H7v-7h2v7zm4 0h-2V7h2v10zm4 0h-2v-4h2v4z\"/>\n",
              "    </g>\n",
              "</svg>\n",
              "      </button>\n",
              "    </div>\n",
              "\n",
              "<style>\n",
              "  .colab-df-quickchart {\n",
              "    background-color: #E8F0FE;\n",
              "    border: none;\n",
              "    border-radius: 50%;\n",
              "    cursor: pointer;\n",
              "    display: none;\n",
              "    fill: #1967D2;\n",
              "    height: 32px;\n",
              "    padding: 0 0 0 0;\n",
              "    width: 32px;\n",
              "  }\n",
              "\n",
              "  .colab-df-quickchart:hover {\n",
              "    background-color: #E2EBFA;\n",
              "    box-shadow: 0px 1px 2px rgba(60, 64, 67, 0.3), 0px 1px 3px 1px rgba(60, 64, 67, 0.15);\n",
              "    fill: #174EA6;\n",
              "  }\n",
              "\n",
              "  [theme=dark] .colab-df-quickchart {\n",
              "    background-color: #3B4455;\n",
              "    fill: #D2E3FC;\n",
              "  }\n",
              "\n",
              "  [theme=dark] .colab-df-quickchart:hover {\n",
              "    background-color: #434B5C;\n",
              "    box-shadow: 0px 1px 3px 1px rgba(0, 0, 0, 0.15);\n",
              "    filter: drop-shadow(0px 1px 2px rgba(0, 0, 0, 0.3));\n",
              "    fill: #FFFFFF;\n",
              "  }\n",
              "</style>\n",
              "\n",
              "    <script>\n",
              "      async function quickchart(key) {\n",
              "        const containerElement = document.querySelector('#' + key);\n",
              "        const charts = await google.colab.kernel.invokeFunction(\n",
              "            'suggestCharts', [key], {});\n",
              "      }\n",
              "    </script>\n",
              "\n",
              "      <script>\n",
              "\n",
              "function displayQuickchartButton(domScope) {\n",
              "  let quickchartButtonEl =\n",
              "    domScope.querySelector('#df-a21d81f2-422f-4f94-b11b-95f8babf85e4 button.colab-df-quickchart');\n",
              "  quickchartButtonEl.style.display =\n",
              "    google.colab.kernel.accessAllowed ? 'block' : 'none';\n",
              "}\n",
              "\n",
              "        displayQuickchartButton(document);\n",
              "      </script>\n",
              "      <style>\n",
              "    .colab-df-container {\n",
              "      display:flex;\n",
              "      flex-wrap:wrap;\n",
              "      gap: 12px;\n",
              "    }\n",
              "\n",
              "    .colab-df-convert {\n",
              "      background-color: #E8F0FE;\n",
              "      border: none;\n",
              "      border-radius: 50%;\n",
              "      cursor: pointer;\n",
              "      display: none;\n",
              "      fill: #1967D2;\n",
              "      height: 32px;\n",
              "      padding: 0 0 0 0;\n",
              "      width: 32px;\n",
              "    }\n",
              "\n",
              "    .colab-df-convert:hover {\n",
              "      background-color: #E2EBFA;\n",
              "      box-shadow: 0px 1px 2px rgba(60, 64, 67, 0.3), 0px 1px 3px 1px rgba(60, 64, 67, 0.15);\n",
              "      fill: #174EA6;\n",
              "    }\n",
              "\n",
              "    [theme=dark] .colab-df-convert {\n",
              "      background-color: #3B4455;\n",
              "      fill: #D2E3FC;\n",
              "    }\n",
              "\n",
              "    [theme=dark] .colab-df-convert:hover {\n",
              "      background-color: #434B5C;\n",
              "      box-shadow: 0px 1px 3px 1px rgba(0, 0, 0, 0.15);\n",
              "      filter: drop-shadow(0px 1px 2px rgba(0, 0, 0, 0.3));\n",
              "      fill: #FFFFFF;\n",
              "    }\n",
              "  </style>\n",
              "\n",
              "      <script>\n",
              "        const buttonEl =\n",
              "          document.querySelector('#df-5b4cb220-ddf1-49ef-bbce-17466e3beb76 button.colab-df-convert');\n",
              "        buttonEl.style.display =\n",
              "          google.colab.kernel.accessAllowed ? 'block' : 'none';\n",
              "\n",
              "        async function convertToInteractive(key) {\n",
              "          const element = document.querySelector('#df-5b4cb220-ddf1-49ef-bbce-17466e3beb76');\n",
              "          const dataTable =\n",
              "            await google.colab.kernel.invokeFunction('convertToInteractive',\n",
              "                                                     [key], {});\n",
              "          if (!dataTable) return;\n",
              "\n",
              "          const docLinkHtml = 'Like what you see? Visit the ' +\n",
              "            '<a target=\"_blank\" href=https://colab.research.google.com/notebooks/data_table.ipynb>data table notebook</a>'\n",
              "            + ' to learn more about interactive tables.';\n",
              "          element.innerHTML = '';\n",
              "          dataTable['output_type'] = 'display_data';\n",
              "          await google.colab.output.renderOutput(dataTable, element);\n",
              "          const docLink = document.createElement('div');\n",
              "          docLink.innerHTML = docLinkHtml;\n",
              "          element.appendChild(docLink);\n",
              "        }\n",
              "      </script>\n",
              "    </div>\n",
              "  </div>\n"
            ]
          },
          "metadata": {},
          "execution_count": 166
        }
      ]
    },
    {
      "cell_type": "code",
      "source": [
        "import matplotlib.pyplot as plt\n",
        "from sklearn import tree\n",
        "from sklearn.model_selection import train_test_split\n",
        "from sklearn.svm import SVC"
      ],
      "metadata": {
        "id": "pLlfhsZWNmUD"
      },
      "execution_count": 167,
      "outputs": []
    },
    {
      "cell_type": "code",
      "source": [
        "whole_dataframe.columns"
      ],
      "metadata": {
        "colab": {
          "base_uri": "https://localhost:8080/"
        },
        "outputId": "b3ed1c43-e0fd-4fa7-c998-38b4653a3ff3",
        "id": "M9dryj0hNmUE"
      },
      "execution_count": 168,
      "outputs": [
        {
          "output_type": "execute_result",
          "data": {
            "text/plain": [
              "Index(['elecro_idx', 'B1_P', 'B1_RP', 'B2_P', 'B2_RP', 'B3_P', 'B3_RP', 'B4_P',\n",
              "       'B4_RP', 'B5_P', 'B5_RP', 'is_execution'],\n",
              "      dtype='object')"
            ]
          },
          "metadata": {},
          "execution_count": 168
        }
      ]
    },
    {
      "cell_type": "code",
      "source": [
        "features = ['elecro_idx', 'B1_P', 'B1_RP', 'B2_P', 'B2_RP', 'B3_P', 'B3_RP', 'B4_P',\n",
        "       'B4_RP', 'B5_P', 'B5_RP']\n",
        "X = whole_dataframe.loc[:, features]\n",
        "y = whole_dataframe.loc[:, ['is_execution']]"
      ],
      "metadata": {
        "id": "xyE13ROhNmUE"
      },
      "execution_count": 169,
      "outputs": []
    },
    {
      "cell_type": "code",
      "source": [
        "X_train, X_test, y_train, y_test = train_test_split(X, y, random_state=0, train_size = .75)"
      ],
      "metadata": {
        "id": "VIrHNX9GNmUE"
      },
      "execution_count": 170,
      "outputs": []
    },
    {
      "cell_type": "markdown",
      "source": [
        "### SCV"
      ],
      "metadata": {
        "id": "nV7ehtC3NmUE"
      }
    },
    {
      "cell_type": "code",
      "source": [
        "from sklearn.preprocessing import StandardScaler\n",
        "scaler = StandardScaler()\n",
        "X_train = scaler.fit_transform(X_train)\n",
        "X_test = scaler.transform(X_test)"
      ],
      "metadata": {
        "id": "5cEdG4yiNmUF"
      },
      "execution_count": 171,
      "outputs": []
    },
    {
      "cell_type": "code",
      "source": [
        "svc=SVC()\n",
        "svc.fit(X_train,y_train)\n",
        "y_pred=svc.predict(X_test)\n"
      ],
      "metadata": {
        "colab": {
          "base_uri": "https://localhost:8080/"
        },
        "outputId": "5c81a6a1-2e73-4fa7-a5cf-4ae5e54c9009",
        "id": "1g0NJDISNmUF"
      },
      "execution_count": 172,
      "outputs": [
        {
          "output_type": "stream",
          "name": "stderr",
          "text": [
            "/usr/local/lib/python3.10/dist-packages/sklearn/utils/validation.py:1143: DataConversionWarning: A column-vector y was passed when a 1d array was expected. Please change the shape of y to (n_samples, ), for example using ravel().\n",
            "  y = column_or_1d(y, warn=True)\n"
          ]
        }
      ]
    },
    {
      "cell_type": "code",
      "source": [
        "from sklearn.metrics import confusion_matrix\n",
        "import seaborn as sns\n",
        "cm = confusion_matrix(y_test, y_pred)"
      ],
      "metadata": {
        "id": "Vm1zzC1fNmUF"
      },
      "execution_count": 173,
      "outputs": []
    },
    {
      "cell_type": "code",
      "source": [
        "#Plot the confusion matrix.\n",
        "sns.heatmap(cm,\n",
        "            annot=True,\n",
        "            fmt='g',\n",
        "            xticklabels=['Real','Imagining'],\n",
        "            yticklabels=['Real','Imagining'])\n",
        "# Look at next comment.\n",
        "# we want to make sure than Real, Imagining is written in the right order.\n",
        "plt.ylabel('Prediction',fontsize=13)\n",
        "plt.xlabel('Actual',fontsize=13)\n",
        "plt.title('Confusion Matrix',fontsize=17)\n",
        "plt.show()"
      ],
      "metadata": {
        "colab": {
          "base_uri": "https://localhost:8080/",
          "height": 481
        },
        "outputId": "49fc17b4-a9e5-4f3e-b68c-200795e226a5",
        "id": "TuV9Tu6rNmUG"
      },
      "execution_count": 174,
      "outputs": [
        {
          "output_type": "display_data",
          "data": {
            "text/plain": [
              "<Figure size 640x480 with 2 Axes>"
            ],
            "image/png": "[encoded data removed]"
          },
          "metadata": {}
        }
      ]
    },
    {
      "cell_type": "code",
      "source": [
        "from sklearn.metrics import accuracy_score\n",
        "import numpy as np\n",
        "print(accuracy_score( y_test, y_pred))"
      ],
      "metadata": {
        "colab": {
          "base_uri": "https://localhost:8080/"
        },
        "outputId": "ab15c698-2fd9-48ea-fc85-c8ae75cbde67",
        "id": "hd83YtsINmUG"
      },
      "execution_count": 175,
      "outputs": [
        {
          "output_type": "stream",
          "name": "stdout",
          "text": [
            "0.6482638888888889\n"
          ]
        }
      ]
    },
    {
      "cell_type": "code",
      "source": [],
      "metadata": {
        "id": "nyxScRInNmUG"
      },
      "execution_count": 175,
      "outputs": []
    },
    {
      "cell_type": "markdown",
      "source": [
        "### Random Forest"
      ],
      "metadata": {
        "id": "WU7AIuNiNmUG"
      }
    },
    {
      "cell_type": "code",
      "source": [
        "from sklearn.preprocessing import StandardScaler\n",
        "scaler = StandardScaler()\n",
        "X_train = scaler.fit_transform(X_train)\n",
        "X_test = scaler.transform(X_test)"
      ],
      "metadata": {
        "id": "ILogXwGsNmUH"
      },
      "execution_count": 176,
      "outputs": []
    },
    {
      "cell_type": "code",
      "source": [
        "from sklearn.ensemble import RandomForestClassifier\n",
        "clf = RandomForestClassifier(max_depth=9, random_state=0)\n",
        "clf.fit(X_train,y_train)\n",
        "y_pred=clf.predict(X_test)"
      ],
      "metadata": {
        "colab": {
          "base_uri": "https://localhost:8080/"
        },
        "outputId": "327a94ca-98a8-4746-b661-551ddf89ab84",
        "id": "JVGOqxZQNmUH"
      },
      "execution_count": 177,
      "outputs": [
        {
          "output_type": "stream",
          "name": "stderr",
          "text": [
            "<ipython-input-177-2584e0968a9b>:3: DataConversionWarning: A column-vector y was passed when a 1d array was expected. Please change the shape of y to (n_samples,), for example using ravel().\n",
            "  clf.fit(X_train,y_train)\n"
          ]
        }
      ]
    },
    {
      "cell_type": "code",
      "source": [
        "from sklearn.metrics import confusion_matrix\n",
        "import seaborn as sns\n",
        "cm = confusion_matrix(y_test, y_pred)"
      ],
      "metadata": {
        "id": "beY3rj6_NmUH"
      },
      "execution_count": 178,
      "outputs": []
    },
    {
      "cell_type": "code",
      "source": [
        "#Plot the confusion matrix.\n",
        "sns.heatmap(cm,\n",
        "            annot=True,\n",
        "            fmt='g',\n",
        "            xticklabels=['Real','Imagining'],\n",
        "            yticklabels=['Real','Imagining'])\n",
        "# Look at next comment.\n",
        "# we want to make sure than Real, Imagining is written in the right order.\n",
        "plt.ylabel('Prediction',fontsize=13)\n",
        "plt.xlabel('Actual',fontsize=13)\n",
        "plt.title('Confusion Matrix',fontsize=17)\n",
        "plt.show()"
      ],
      "metadata": {
        "colab": {
          "base_uri": "https://localhost:8080/",
          "height": 481
        },
        "outputId": "96510d9c-e325-4274-b2c1-a3434dc4e9fc",
        "id": "zzNnvT_9NmUH"
      },
      "execution_count": 179,
      "outputs": [
        {
          "output_type": "display_data",
          "data": {
            "text/plain": [
              "<Figure size 640x480 with 2 Axes>"
            ],
            "image/png": "[encoded data removed]"
          },
          "metadata": {}
        }
      ]
    },
    {
      "cell_type": "code",
      "source": [
        "from sklearn.metrics import accuracy_score\n",
        "import numpy as np\n",
        "print(accuracy_score( y_test, y_pred))"
      ],
      "metadata": {
        "colab": {
          "base_uri": "https://localhost:8080/"
        },
        "outputId": "d0e9e4a1-035d-45fd-9ef4-b61d7e1ee888",
        "id": "CjRU8xYeNmUI"
      },
      "execution_count": 180,
      "outputs": [
        {
          "output_type": "stream",
          "name": "stdout",
          "text": [
            "0.6545138888888888\n"
          ]
        }
      ]
    },
    {
      "cell_type": "code",
      "source": [
        "\n"
      ],
      "metadata": {
        "id": "rBTjTxSZNmUI"
      },
      "execution_count": 180,
      "outputs": []
    },
    {
      "cell_type": "markdown",
      "source": [
        "## Makes data in hands and tongues forms"
      ],
      "metadata": {
        "id": "gbI1Sa3-NmUI"
      }
    },
    {
      "cell_type": "code",
      "source": [
        "hand_frames = [subject2_Imagery_hands, subject2_Real_hands]\n",
        "hand_frames = pd.concat(hand_frames)\n",
        "hand_frames['is_tongue'] = 0"
      ],
      "metadata": {
        "id": "_OmZkwmWNmUI"
      },
      "execution_count": 181,
      "outputs": []
    },
    {
      "cell_type": "code",
      "source": [
        "tongues_frames = [subject2_Imagery_tongues, subject2_Real_tongues]\n",
        "tongues_frames = pd.concat(tongues_frames)\n",
        "tongues_frames['is_tongue'] = 1"
      ],
      "metadata": {
        "id": "_tMqBJi3NmUJ"
      },
      "execution_count": 182,
      "outputs": []
    },
    {
      "cell_type": "code",
      "source": [
        "whole_dataframe = [hand_frames, tongues_frames]\n",
        "whole_dataframe = pd.concat(whole_dataframe)\n",
        "whole_dataframe"
      ],
      "metadata": {
        "colab": {
          "base_uri": "https://localhost:8080/",
          "height": 487
        },
        "outputId": "7095516e-d319-4272-d468-7c2b76b6acce",
        "id": "kNYn5o-NNmUJ"
      },
      "execution_count": 183,
      "outputs": [
        {
          "output_type": "execute_result",
          "data": {
            "text/plain": [
              "      elecro_idx        B1_P     B1_RP       B2_P     B2_RP       B3_P  \\\n",
              "0              0  182.664252  0.025179  32.458843  0.004474   5.742851   \n",
              "1              0   80.044354  0.012035  35.013405  0.005265   4.645054   \n",
              "2              0  177.213651  0.037405  31.037560  0.006551   4.401069   \n",
              "3              0  169.611159  0.029587  33.261074  0.005802   4.380996   \n",
              "4              0  402.274409  0.016761  37.848761  0.001577   5.906509   \n",
              "...          ...         ...       ...        ...       ...        ...   \n",
              "2875          47  176.450452  0.029799  33.216046  0.005610   6.530403   \n",
              "2876          47  191.219588  0.029378  47.845522  0.007351   8.047811   \n",
              "2877          47  185.742916  0.027688  52.539384  0.007832   5.794241   \n",
              "2878          47   91.805034  0.023122  36.576291  0.009212   8.641063   \n",
              "2879          47   75.370132  0.019741  50.609467  0.013256  11.900502   \n",
              "\n",
              "         B3_RP      B4_P     B4_RP      B5_P     B5_RP  is_tongue  \n",
              "0     0.000792  1.412456  0.000195  0.319182  0.000044          0  \n",
              "1     0.000698  1.249157  0.000188  0.276324  0.000042          0  \n",
              "2     0.000929  1.217149  0.000257  0.360821  0.000076          0  \n",
              "3     0.000764  1.100754  0.000192  0.382880  0.000067          0  \n",
              "4     0.000246  1.176297  0.000049  0.366297  0.000015          0  \n",
              "...        ...       ...       ...       ...       ...        ...  \n",
              "2875  0.001103  1.000416  0.000169  0.224647  0.000038          1  \n",
              "2876  0.001236  1.148427  0.000176  0.247321  0.000038          1  \n",
              "2877  0.000864  0.858207  0.000128  0.185568  0.000028          1  \n",
              "2878  0.002176  1.178701  0.000297  0.178973  0.000045          1  \n",
              "2879  0.003117  1.401651  0.000367  0.172548  0.000045          1  \n",
              "\n",
              "[11520 rows x 12 columns]"
            ],
            "text/html": [
              "\n",
              "\n",
              "  <div id=\"df-5ed8500b-7678-446d-b54b-5f44e1d1ca1e\">\n",
              "    <div class=\"colab-df-container\">\n",
              "      <div>\n",
              "<style scoped>\n",
              "    .dataframe tbody tr th:only-of-type {\n",
              "        vertical-align: middle;\n",
              "    }\n",
              "\n",
              "    .dataframe tbody tr th {\n",
              "        vertical-align: top;\n",
              "    }\n",
              "\n",
              "    .dataframe thead th {\n",
              "        text-align: right;\n",
              "    }\n",
              "</style>\n",
              "<table border=\"1\" class=\"dataframe\">\n",
              "  <thead>\n",
              "    <tr style=\"text-align: right;\">\n",
              "      <th></th>\n",
              "      <th>elecro_idx</th>\n",
              "      <th>B1_P</th>\n",
              "      <th>B1_RP</th>\n",
              "      <th>B2_P</th>\n",
              "      <th>B2_RP</th>\n",
              "      <th>B3_P</th>\n",
              "      <th>B3_RP</th>\n",
              "      <th>B4_P</th>\n",
              "      <th>B4_RP</th>\n",
              "      <th>B5_P</th>\n",
              "      <th>B5_RP</th>\n",
              "      <th>is_tongue</th>\n",
              "    </tr>\n",
              "  </thead>\n",
              "  <tbody>\n",
              "    <tr>\n",
              "      <th>0</th>\n",
              "      <td>0</td>\n",
              "      <td>182.664252</td>\n",
              "      <td>0.025179</td>\n",
              "      <td>32.458843</td>\n",
              "      <td>0.004474</td>\n",
              "      <td>5.742851</td>\n",
              "      <td>0.000792</td>\n",
              "      <td>1.412456</td>\n",
              "      <td>0.000195</td>\n",
              "      <td>0.319182</td>\n",
              "      <td>0.000044</td>\n",
              "      <td>0</td>\n",
              "    </tr>\n",
              "    <tr>\n",
              "      <th>1</th>\n",
              "      <td>0</td>\n",
              "      <td>80.044354</td>\n",
              "      <td>0.012035</td>\n",
              "      <td>35.013405</td>\n",
              "      <td>0.005265</td>\n",
              "      <td>4.645054</td>\n",
              "      <td>0.000698</td>\n",
              "      <td>1.249157</td>\n",
              "      <td>0.000188</td>\n",
              "      <td>0.276324</td>\n",
              "      <td>0.000042</td>\n",
              "      <td>0</td>\n",
              "    </tr>\n",
              "    <tr>\n",
              "      <th>2</th>\n",
              "      <td>0</td>\n",
              "      <td>177.213651</td>\n",
              "      <td>0.037405</td>\n",
              "      <td>31.037560</td>\n",
              "      <td>0.006551</td>\n",
              "      <td>4.401069</td>\n",
              "      <td>0.000929</td>\n",
              "      <td>1.217149</td>\n",
              "      <td>0.000257</td>\n",
              "      <td>0.360821</td>\n",
              "      <td>0.000076</td>\n",
              "      <td>0</td>\n",
              "    </tr>\n",
              "    <tr>\n",
              "      <th>3</th>\n",
              "      <td>0</td>\n",
              "      <td>169.611159</td>\n",
              "      <td>0.029587</td>\n",
              "      <td>33.261074</td>\n",
              "      <td>0.005802</td>\n",
              "      <td>4.380996</td>\n",
              "      <td>0.000764</td>\n",
              "      <td>1.100754</td>\n",
              "      <td>0.000192</td>\n",
              "      <td>0.382880</td>\n",
              "      <td>0.000067</td>\n",
              "      <td>0</td>\n",
              "    </tr>\n",
              "    <tr>\n",
              "      <th>4</th>\n",
              "      <td>0</td>\n",
              "      <td>402.274409</td>\n",
              "      <td>0.016761</td>\n",
              "      <td>37.848761</td>\n",
              "      <td>0.001577</td>\n",
              "      <td>5.906509</td>\n",
              "      <td>0.000246</td>\n",
              "      <td>1.176297</td>\n",
              "      <td>0.000049</td>\n",
              "      <td>0.366297</td>\n",
              "      <td>0.000015</td>\n",
              "      <td>0</td>\n",
              "    </tr>\n",
              "    <tr>\n",
              "      <th>...</th>\n",
              "      <td>...</td>\n",
              "      <td>...</td>\n",
              "      <td>...</td>\n",
              "      <td>...</td>\n",
              "      <td>...</td>\n",
              "      <td>...</td>\n",
              "      <td>...</td>\n",
              "      <td>...</td>\n",
              "      <td>...</td>\n",
              "      <td>...</td>\n",
              "      <td>...</td>\n",
              "      <td>...</td>\n",
              "    </tr>\n",
              "    <tr>\n",
              "      <th>2875</th>\n",
              "      <td>47</td>\n",
              "      <td>176.450452</td>\n",
              "      <td>0.029799</td>\n",
              "      <td>33.216046</td>\n",
              "      <td>0.005610</td>\n",
              "      <td>6.530403</td>\n",
              "      <td>0.001103</td>\n",
              "      <td>1.000416</td>\n",
              "      <td>0.000169</td>\n",
              "      <td>0.224647</td>\n",
              "      <td>0.000038</td>\n",
              "      <td>1</td>\n",
              "    </tr>\n",
              "    <tr>\n",
              "      <th>2876</th>\n",
              "      <td>47</td>\n",
              "      <td>191.219588</td>\n",
              "      <td>0.029378</td>\n",
              "      <td>47.845522</td>\n",
              "      <td>0.007351</td>\n",
              "      <td>8.047811</td>\n",
              "      <td>0.001236</td>\n",
              "      <td>1.148427</td>\n",
              "      <td>0.000176</td>\n",
              "      <td>0.247321</td>\n",
              "      <td>0.000038</td>\n",
              "      <td>1</td>\n",
              "    </tr>\n",
              "    <tr>\n",
              "      <th>2877</th>\n",
              "      <td>47</td>\n",
              "      <td>185.742916</td>\n",
              "      <td>0.027688</td>\n",
              "      <td>52.539384</td>\n",
              "      <td>0.007832</td>\n",
              "      <td>5.794241</td>\n",
              "      <td>0.000864</td>\n",
              "      <td>0.858207</td>\n",
              "      <td>0.000128</td>\n",
              "      <td>0.185568</td>\n",
              "      <td>0.000028</td>\n",
              "      <td>1</td>\n",
              "    </tr>\n",
              "    <tr>\n",
              "      <th>2878</th>\n",
              "      <td>47</td>\n",
              "      <td>91.805034</td>\n",
              "      <td>0.023122</td>\n",
              "      <td>36.576291</td>\n",
              "      <td>0.009212</td>\n",
              "      <td>8.641063</td>\n",
              "      <td>0.002176</td>\n",
              "      <td>1.178701</td>\n",
              "      <td>0.000297</td>\n",
              "      <td>0.178973</td>\n",
              "      <td>0.000045</td>\n",
              "      <td>1</td>\n",
              "    </tr>\n",
              "    <tr>\n",
              "      <th>2879</th>\n",
              "      <td>47</td>\n",
              "      <td>75.370132</td>\n",
              "      <td>0.019741</td>\n",
              "      <td>50.609467</td>\n",
              "      <td>0.013256</td>\n",
              "      <td>11.900502</td>\n",
              "      <td>0.003117</td>\n",
              "      <td>1.401651</td>\n",
              "      <td>0.000367</td>\n",
              "      <td>0.172548</td>\n",
              "      <td>0.000045</td>\n",
              "      <td>1</td>\n",
              "    </tr>\n",
              "  </tbody>\n",
              "</table>\n",
              "<p>11520 rows × 12 columns</p>\n",
              "</div>\n",
              "      <button class=\"colab-df-convert\" onclick=\"convertToInteractive('df-5ed8500b-7678-446d-b54b-5f44e1d1ca1e')\"\n",
              "              title=\"Convert this dataframe to an interactive table.\"\n",
              "              style=\"display:none;\">\n",
              "\n",
              "  <svg xmlns=\"http://www.w3.org/2000/svg\" height=\"24px\"viewBox=\"0 0 24 24\"\n",
              "       width=\"24px\">\n",
              "    <path d=\"M0 0h24v24H0V0z\" fill=\"none\"/>\n",
              "    <path d=\"M18.56 5.44l.94 2.06.94-2.06 2.06-.94-2.06-.94-.94-2.06-.94 2.06-2.06.94zm-11 1L8.5 8.5l.94-2.06 2.06-.94-2.06-.94L8.5 2.5l-.94 2.06-2.06.94zm10 10l.94 2.06.94-2.06 2.06-.94-2.06-.94-.94-2.06-.94 2.06-2.06.94z\"/><path d=\"M17.41 7.96l-1.37-1.37c-.4-.4-.92-.59-1.43-.59-.52 0-1.04.2-1.43.59L10.3 9.45l-7.72 7.72c-.78.78-.78 2.05 0 2.83L4 21.41c.39.39.9.59 1.41.59.51 0 1.02-.2 1.41-.59l7.78-7.78 2.81-2.81c.8-.78.8-2.07 0-2.86zM5.41 20L4 18.59l7.72-7.72 1.47 1.35L5.41 20z\"/>\n",
              "  </svg>\n",
              "      </button>\n",
              "\n",
              "\n",
              "\n",
              "    <div id=\"df-31287f27-f048-4828-a787-a6287419e11f\">\n",
              "      <button class=\"colab-df-quickchart\" onclick=\"quickchart('df-31287f27-f048-4828-a787-a6287419e11f')\"\n",
              "              title=\"Suggest charts.\"\n",
              "              style=\"display:none;\">\n",
              "\n",
              "<svg xmlns=\"http://www.w3.org/2000/svg\" height=\"24px\"viewBox=\"0 0 24 24\"\n",
              "     width=\"24px\">\n",
              "    <g>\n",
              "        <path d=\"M19 3H5c-1.1 0-2 .9-2 2v14c0 1.1.9 2 2 2h14c1.1 0 2-.9 2-2V5c0-1.1-.9-2-2-2zM9 17H7v-7h2v7zm4 0h-2V7h2v10zm4 0h-2v-4h2v4z\"/>\n",
              "    </g>\n",
              "</svg>\n",
              "      </button>\n",
              "    </div>\n",
              "\n",
              "<style>\n",
              "  .colab-df-quickchart {\n",
              "    background-color: #E8F0FE;\n",
              "    border: none;\n",
              "    border-radius: 50%;\n",
              "    cursor: pointer;\n",
              "    display: none;\n",
              "    fill: #1967D2;\n",
              "    height: 32px;\n",
              "    padding: 0 0 0 0;\n",
              "    width: 32px;\n",
              "  }\n",
              "\n",
              "  .colab-df-quickchart:hover {\n",
              "    background-color: #E2EBFA;\n",
              "    box-shadow: 0px 1px 2px rgba(60, 64, 67, 0.3), 0px 1px 3px 1px rgba(60, 64, 67, 0.15);\n",
              "    fill: #174EA6;\n",
              "  }\n",
              "\n",
              "  [theme=dark] .colab-df-quickchart {\n",
              "    background-color: #3B4455;\n",
              "    fill: #D2E3FC;\n",
              "  }\n",
              "\n",
              "  [theme=dark] .colab-df-quickchart:hover {\n",
              "    background-color: #434B5C;\n",
              "    box-shadow: 0px 1px 3px 1px rgba(0, 0, 0, 0.15);\n",
              "    filter: drop-shadow(0px 1px 2px rgba(0, 0, 0, 0.3));\n",
              "    fill: #FFFFFF;\n",
              "  }\n",
              "</style>\n",
              "\n",
              "    <script>\n",
              "      async function quickchart(key) {\n",
              "        const containerElement = document.querySelector('#' + key);\n",
              "        const charts = await google.colab.kernel.invokeFunction(\n",
              "            'suggestCharts', [key], {});\n",
              "      }\n",
              "    </script>\n",
              "\n",
              "      <script>\n",
              "\n",
              "function displayQuickchartButton(domScope) {\n",
              "  let quickchartButtonEl =\n",
              "    domScope.querySelector('#df-31287f27-f048-4828-a787-a6287419e11f button.colab-df-quickchart');\n",
              "  quickchartButtonEl.style.display =\n",
              "    google.colab.kernel.accessAllowed ? 'block' : 'none';\n",
              "}\n",
              "\n",
              "        displayQuickchartButton(document);\n",
              "      </script>\n",
              "      <style>\n",
              "    .colab-df-container {\n",
              "      display:flex;\n",
              "      flex-wrap:wrap;\n",
              "      gap: 12px;\n",
              "    }\n",
              "\n",
              "    .colab-df-convert {\n",
              "      background-color: #E8F0FE;\n",
              "      border: none;\n",
              "      border-radius: 50%;\n",
              "      cursor: pointer;\n",
              "      display: none;\n",
              "      fill: #1967D2;\n",
              "      height: 32px;\n",
              "      padding: 0 0 0 0;\n",
              "      width: 32px;\n",
              "    }\n",
              "\n",
              "    .colab-df-convert:hover {\n",
              "      background-color: #E2EBFA;\n",
              "      box-shadow: 0px 1px 2px rgba(60, 64, 67, 0.3), 0px 1px 3px 1px rgba(60, 64, 67, 0.15);\n",
              "      fill: #174EA6;\n",
              "    }\n",
              "\n",
              "    [theme=dark] .colab-df-convert {\n",
              "      background-color: #3B4455;\n",
              "      fill: #D2E3FC;\n",
              "    }\n",
              "\n",
              "    [theme=dark] .colab-df-convert:hover {\n",
              "      background-color: #434B5C;\n",
              "      box-shadow: 0px 1px 3px 1px rgba(0, 0, 0, 0.15);\n",
              "      filter: drop-shadow(0px 1px 2px rgba(0, 0, 0, 0.3));\n",
              "      fill: #FFFFFF;\n",
              "    }\n",
              "  </style>\n",
              "\n",
              "      <script>\n",
              "        const buttonEl =\n",
              "          document.querySelector('#df-5ed8500b-7678-446d-b54b-5f44e1d1ca1e button.colab-df-convert');\n",
              "        buttonEl.style.display =\n",
              "          google.colab.kernel.accessAllowed ? 'block' : 'none';\n",
              "\n",
              "        async function convertToInteractive(key) {\n",
              "          const element = document.querySelector('#df-5ed8500b-7678-446d-b54b-5f44e1d1ca1e');\n",
              "          const dataTable =\n",
              "            await google.colab.kernel.invokeFunction('convertToInteractive',\n",
              "                                                     [key], {});\n",
              "          if (!dataTable) return;\n",
              "\n",
              "          const docLinkHtml = 'Like what you see? Visit the ' +\n",
              "            '<a target=\"_blank\" href=https://colab.research.google.com/notebooks/data_table.ipynb>data table notebook</a>'\n",
              "            + ' to learn more about interactive tables.';\n",
              "          element.innerHTML = '';\n",
              "          dataTable['output_type'] = 'display_data';\n",
              "          await google.colab.output.renderOutput(dataTable, element);\n",
              "          const docLink = document.createElement('div');\n",
              "          docLink.innerHTML = docLinkHtml;\n",
              "          element.appendChild(docLink);\n",
              "        }\n",
              "      </script>\n",
              "    </div>\n",
              "  </div>\n"
            ]
          },
          "metadata": {},
          "execution_count": 183
        }
      ]
    },
    {
      "cell_type": "code",
      "source": [
        "import matplotlib.pyplot as plt\n",
        "from sklearn import tree\n",
        "from sklearn.model_selection import train_test_split\n",
        "from sklearn.svm import SVC"
      ],
      "metadata": {
        "id": "6HhwBfA_NmUK"
      },
      "execution_count": 184,
      "outputs": []
    },
    {
      "cell_type": "code",
      "source": [
        "whole_dataframe.columns"
      ],
      "metadata": {
        "colab": {
          "base_uri": "https://localhost:8080/"
        },
        "outputId": "20ec197e-78f0-4800-e87f-5d0f9076c986",
        "id": "lOf08zmsNmUK"
      },
      "execution_count": 185,
      "outputs": [
        {
          "output_type": "execute_result",
          "data": {
            "text/plain": [
              "Index(['elecro_idx', 'B1_P', 'B1_RP', 'B2_P', 'B2_RP', 'B3_P', 'B3_RP', 'B4_P',\n",
              "       'B4_RP', 'B5_P', 'B5_RP', 'is_tongue'],\n",
              "      dtype='object')"
            ]
          },
          "metadata": {},
          "execution_count": 185
        }
      ]
    },
    {
      "cell_type": "code",
      "source": [
        "features = ['elecro_idx', 'B1_P', 'B1_RP', 'B2_P', 'B2_RP', 'B3_P', 'B3_RP', 'B4_P',\n",
        "       'B4_RP', 'B5_P', 'B5_RP']\n",
        "X = whole_dataframe.loc[:, features]\n",
        "y = whole_dataframe.loc[:, ['is_tongue']]"
      ],
      "metadata": {
        "id": "f-T5x1R8NmUK"
      },
      "execution_count": 186,
      "outputs": []
    },
    {
      "cell_type": "code",
      "source": [
        "X_train, X_test, y_train, y_test = train_test_split(X, y, random_state=0, train_size = .75)"
      ],
      "metadata": {
        "id": "7l-mB6lRNmUK"
      },
      "execution_count": 187,
      "outputs": []
    },
    {
      "cell_type": "markdown",
      "source": [
        "### SCV"
      ],
      "metadata": {
        "id": "aENKFA9dNmUK"
      }
    },
    {
      "cell_type": "code",
      "source": [
        "from sklearn.preprocessing import StandardScaler\n",
        "scaler = StandardScaler()\n",
        "X_train = scaler.fit_transform(X_train)\n",
        "X_test = scaler.transform(X_test)"
      ],
      "metadata": {
        "id": "L0vhkSdNNmUL"
      },
      "execution_count": 188,
      "outputs": []
    },
    {
      "cell_type": "code",
      "source": [
        "svc=SVC()\n",
        "svc.fit(X_train,y_train)\n",
        "y_pred=svc.predict(X_test)\n"
      ],
      "metadata": {
        "colab": {
          "base_uri": "https://localhost:8080/"
        },
        "outputId": "b2f8a49b-9e01-47be-d447-6789aed3bcd4",
        "id": "4y90f_svNmUL"
      },
      "execution_count": 189,
      "outputs": [
        {
          "output_type": "stream",
          "name": "stderr",
          "text": [
            "/usr/local/lib/python3.10/dist-packages/sklearn/utils/validation.py:1143: DataConversionWarning: A column-vector y was passed when a 1d array was expected. Please change the shape of y to (n_samples, ), for example using ravel().\n",
            "  y = column_or_1d(y, warn=True)\n"
          ]
        }
      ]
    },
    {
      "cell_type": "code",
      "source": [
        "from sklearn.metrics import confusion_matrix\n",
        "import seaborn as sns\n",
        "cm = confusion_matrix(y_test, y_pred)"
      ],
      "metadata": {
        "id": "1WG4VzCdNmUL"
      },
      "execution_count": 190,
      "outputs": []
    },
    {
      "cell_type": "code",
      "source": [
        "#Plot the confusion matrix.\n",
        "sns.heatmap(cm,\n",
        "            annot=True,\n",
        "            fmt='g',\n",
        "            xticklabels=['tongue','hand'],\n",
        "            yticklabels=['tongue','hand'])\n",
        "# Look at next comment.\n",
        "# we want to make sure than tongue, hand is written in the right order.\n",
        "plt.ylabel('Prediction',fontsize=13)\n",
        "plt.xlabel('Actual',fontsize=13)\n",
        "plt.title('Confusion Matrix',fontsize=17)\n",
        "plt.show()"
      ],
      "metadata": {
        "colab": {
          "base_uri": "https://localhost:8080/",
          "height": 481
        },
        "outputId": "8ae34bd0-ab13-486f-c8c7-62829c35aeeb",
        "id": "hTULQyVuNmUL"
      },
      "execution_count": 191,
      "outputs": [
        {
          "output_type": "display_data",
          "data": {
            "text/plain": [
              "<Figure size 640x480 with 2 Axes>"
            ],
            "image/png": "[encoded data removed]"
          },
          "metadata": {}
        }
      ]
    },
    {
      "cell_type": "code",
      "source": [
        "from sklearn.metrics import accuracy_score\n",
        "import numpy as np\n",
        "print(accuracy_score( y_test, y_pred))"
      ],
      "metadata": {
        "colab": {
          "base_uri": "https://localhost:8080/"
        },
        "outputId": "b3a5123b-fb6d-4223-d221-acdebf120f17",
        "id": "-5dtxmGVNmUM"
      },
      "execution_count": 192,
      "outputs": [
        {
          "output_type": "stream",
          "name": "stdout",
          "text": [
            "0.5975694444444445\n"
          ]
        }
      ]
    },
    {
      "cell_type": "code",
      "source": [],
      "metadata": {
        "id": "pN27z11_NmUM"
      },
      "execution_count": 192,
      "outputs": []
    },
    {
      "cell_type": "markdown",
      "source": [
        "### Random Forest"
      ],
      "metadata": {
        "id": "d0OZvzy9NmUM"
      }
    },
    {
      "cell_type": "code",
      "source": [
        "from sklearn.preprocessing import StandardScaler\n",
        "scaler = StandardScaler()\n",
        "X_train = scaler.fit_transform(X_train)\n",
        "X_test = scaler.transform(X_test)"
      ],
      "metadata": {
        "id": "w1BVsOjdNmUN"
      },
      "execution_count": 193,
      "outputs": []
    },
    {
      "cell_type": "code",
      "source": [
        "from sklearn.ensemble import RandomForestClassifier\n",
        "clf = RandomForestClassifier(max_depth=9, random_state=0)\n",
        "clf.fit(X_train,y_train)\n",
        "y_pred=clf.predict(X_test)"
      ],
      "metadata": {
        "colab": {
          "base_uri": "https://localhost:8080/"
        },
        "outputId": "cc42c48d-5f44-4e8a-e4be-4e0e124050f5",
        "id": "c1aVB9s4NmUN"
      },
      "execution_count": 194,
      "outputs": [
        {
          "output_type": "stream",
          "name": "stderr",
          "text": [
            "<ipython-input-194-2584e0968a9b>:3: DataConversionWarning: A column-vector y was passed when a 1d array was expected. Please change the shape of y to (n_samples,), for example using ravel().\n",
            "  clf.fit(X_train,y_train)\n"
          ]
        }
      ]
    },
    {
      "cell_type": "code",
      "source": [
        "from sklearn.metrics import confusion_matrix\n",
        "import seaborn as sns\n",
        "cm = confusion_matrix(y_test, y_pred)"
      ],
      "metadata": {
        "id": "8e1clDwkNmUN"
      },
      "execution_count": 195,
      "outputs": []
    },
    {
      "cell_type": "code",
      "source": [
        "#Plot the confusion matrix.\n",
        "sns.heatmap(cm,\n",
        "            annot=True,\n",
        "            fmt='g',\n",
        "            xticklabels=['Real','Imagining'],\n",
        "            yticklabels=['Real','Imagining'])\n",
        "# Look at next comment.\n",
        "# we want to make sure than Real, Imagining is written in the right order.\n",
        "plt.ylabel('Prediction',fontsize=13)\n",
        "plt.xlabel('Actual',fontsize=13)\n",
        "plt.title('Confusion Matrix',fontsize=17)\n",
        "plt.show()"
      ],
      "metadata": {
        "colab": {
          "base_uri": "https://localhost:8080/",
          "height": 481
        },
        "outputId": "108d8215-5406-484b-9928-ac41fa91c4aa",
        "id": "YqXlQhO8NmUN"
      },
      "execution_count": 196,
      "outputs": [
        {
          "output_type": "display_data",
          "data": {
            "text/plain": [
              "<Figure size 640x480 with 2 Axes>"
            ],
            "image/png": "[encoded data removed]"
          },
          "metadata": {}
        }
      ]
    },
    {
      "cell_type": "code",
      "source": [
        "from sklearn.metrics import accuracy_score\n",
        "import numpy as np\n",
        "print(accuracy_score( y_test, y_pred))"
      ],
      "metadata": {
        "colab": {
          "base_uri": "https://localhost:8080/"
        },
        "outputId": "d6342e45-3248-4d71-c4c7-b2fba1852d37",
        "id": "-M_b-GywNmUO"
      },
      "execution_count": 197,
      "outputs": [
        {
          "output_type": "stream",
          "name": "stdout",
          "text": [
            "0.5940972222222223\n"
          ]
        }
      ]
    },
    {
      "cell_type": "code",
      "source": [],
      "metadata": {
        "id": "lXvxDajjNmUO"
      },
      "execution_count": 197,
      "outputs": []
    },
    {
      "cell_type": "markdown",
      "source": [
        "# Subject 3"
      ],
      "metadata": {
        "id": "RH4Pa7_eOexC"
      }
    },
    {
      "cell_type": "code",
      "source": [
        "subject3_Imagery_hands = pd.read_csv(\"/content/subject3_Imagery_hands.csv\")\n",
        "subject3_Imagery_tongues = pd.read_csv(\"/content/subject3_Imagery_tongues.csv\")\n",
        "subject3_Real_hands = pd.read_csv(\"/content/subject3_Real_hands.csv\")\n",
        "subject3_Real_tongues = pd.read_csv(\"/content/subject3_Real_tongues.csv\")"
      ],
      "metadata": {
        "id": "kWo85ICbOexF"
      },
      "execution_count": 198,
      "outputs": []
    },
    {
      "cell_type": "markdown",
      "source": [
        "## Makes data in real and imagery forms"
      ],
      "metadata": {
        "id": "IZSPEj93OexF"
      }
    },
    {
      "cell_type": "code",
      "source": [
        "Imagery_frames = [subject3_Imagery_hands, subject3_Imagery_tongues]\n",
        "Imagery_frames = pd.concat(Imagery_frames)\n",
        "Imagery_frames['is_execution'] = 0"
      ],
      "metadata": {
        "id": "Py12VAbHOexG"
      },
      "execution_count": 199,
      "outputs": []
    },
    {
      "cell_type": "code",
      "source": [
        "Real_frames = [subject3_Real_hands, subject3_Real_tongues]\n",
        "Real_frames = pd.concat(Real_frames)\n",
        "Real_frames['is_execution'] = 1"
      ],
      "metadata": {
        "id": "ZoyL_z_xOexG"
      },
      "execution_count": 200,
      "outputs": []
    },
    {
      "cell_type": "code",
      "source": [
        "whole_dataframe = [Imagery_frames, Real_frames]\n",
        "whole_dataframe = pd.concat(whole_dataframe)\n",
        "whole_dataframe"
      ],
      "metadata": {
        "colab": {
          "base_uri": "https://localhost:8080/",
          "height": 487
        },
        "outputId": "ea506b56-a946-42a3-cf8e-8f8c3bce226b",
        "id": "98S15NtdOexG"
      },
      "execution_count": 201,
      "outputs": [
        {
          "output_type": "execute_result",
          "data": {
            "text/plain": [
              "      elecro_idx        B1_P     B1_RP        B2_P     B2_RP       B3_P  \\\n",
              "0              0  347.087532  0.026498   88.181142  0.006732  23.721132   \n",
              "1              0  392.188825  0.054536   68.541574  0.009531  26.681865   \n",
              "2              0  437.110223  0.024021   99.351257  0.005460  36.584412   \n",
              "3              0  429.574084  0.035163  124.618792  0.010201  32.073645   \n",
              "4              0  482.440331  0.026477   89.269562  0.004899  24.122166   \n",
              "...          ...         ...       ...         ...       ...        ...   \n",
              "2875          47   68.062074  0.009240   12.238398  0.001662   0.133618   \n",
              "2876          47   61.005238  0.010171    6.415973  0.001070   0.179601   \n",
              "2877          47   15.790666  0.007471    6.803984  0.003219   0.189721   \n",
              "2878          47   23.212279  0.005419    5.596135  0.001306   0.149976   \n",
              "2879          47   43.070577  0.009940    8.116670  0.001873   0.171968   \n",
              "\n",
              "         B3_RP       B4_P     B4_RP      B5_P     B5_RP  is_execution  \n",
              "0     0.001811  14.957072  0.001142  6.088257  0.000465             0  \n",
              "1     0.003710  14.117104  0.001963  5.434006  0.000756             0  \n",
              "2     0.002010  20.452602  0.001124  8.753868  0.000481             0  \n",
              "3     0.002625  16.899517  0.001383  7.416021  0.000607             0  \n",
              "4     0.001324  13.987356  0.000768  7.717746  0.000424             0  \n",
              "...        ...        ...       ...       ...       ...           ...  \n",
              "2875  0.000018   0.024617  0.000003  0.007784  0.000001             1  \n",
              "2876  0.000030   0.024595  0.000004  0.007419  0.000001             1  \n",
              "2877  0.000090   0.024814  0.000012  0.007043  0.000003             1  \n",
              "2878  0.000035   0.027213  0.000006  0.007372  0.000002             1  \n",
              "2879  0.000040   0.025154  0.000006  0.008600  0.000002             1  \n",
              "\n",
              "[11520 rows x 12 columns]"
            ],
            "text/html": [
              "\n",
              "\n",
              "  <div id=\"df-2e4e7f71-f5f5-4a26-a84f-4910c65fb591\">\n",
              "    <div class=\"colab-df-container\">\n",
              "      <div>\n",
              "<style scoped>\n",
              "    .dataframe tbody tr th:only-of-type {\n",
              "        vertical-align: middle;\n",
              "    }\n",
              "\n",
              "    .dataframe tbody tr th {\n",
              "        vertical-align: top;\n",
              "    }\n",
              "\n",
              "    .dataframe thead th {\n",
              "        text-align: right;\n",
              "    }\n",
              "</style>\n",
              "<table border=\"1\" class=\"dataframe\">\n",
              "  <thead>\n",
              "    <tr style=\"text-align: right;\">\n",
              "      <th></th>\n",
              "      <th>elecro_idx</th>\n",
              "      <th>B1_P</th>\n",
              "      <th>B1_RP</th>\n",
              "      <th>B2_P</th>\n",
              "      <th>B2_RP</th>\n",
              "      <th>B3_P</th>\n",
              "      <th>B3_RP</th>\n",
              "      <th>B4_P</th>\n",
              "      <th>B4_RP</th>\n",
              "      <th>B5_P</th>\n",
              "      <th>B5_RP</th>\n",
              "      <th>is_execution</th>\n",
              "    </tr>\n",
              "  </thead>\n",
              "  <tbody>\n",
              "    <tr>\n",
              "      <th>0</th>\n",
              "      <td>0</td>\n",
              "      <td>347.087532</td>\n",
              "      <td>0.026498</td>\n",
              "      <td>88.181142</td>\n",
              "      <td>0.006732</td>\n",
              "      <td>23.721132</td>\n",
              "      <td>0.001811</td>\n",
              "      <td>14.957072</td>\n",
              "      <td>0.001142</td>\n",
              "      <td>6.088257</td>\n",
              "      <td>0.000465</td>\n",
              "      <td>0</td>\n",
              "    </tr>\n",
              "    <tr>\n",
              "      <th>1</th>\n",
              "      <td>0</td>\n",
              "      <td>392.188825</td>\n",
              "      <td>0.054536</td>\n",
              "      <td>68.541574</td>\n",
              "      <td>0.009531</td>\n",
              "      <td>26.681865</td>\n",
              "      <td>0.003710</td>\n",
              "      <td>14.117104</td>\n",
              "      <td>0.001963</td>\n",
              "      <td>5.434006</td>\n",
              "      <td>0.000756</td>\n",
              "      <td>0</td>\n",
              "    </tr>\n",
              "    <tr>\n",
              "      <th>2</th>\n",
              "      <td>0</td>\n",
              "      <td>437.110223</td>\n",
              "      <td>0.024021</td>\n",
              "      <td>99.351257</td>\n",
              "      <td>0.005460</td>\n",
              "      <td>36.584412</td>\n",
              "      <td>0.002010</td>\n",
              "      <td>20.452602</td>\n",
              "      <td>0.001124</td>\n",
              "      <td>8.753868</td>\n",
              "      <td>0.000481</td>\n",
              "      <td>0</td>\n",
              "    </tr>\n",
              "    <tr>\n",
              "      <th>3</th>\n",
              "      <td>0</td>\n",
              "      <td>429.574084</td>\n",
              "      <td>0.035163</td>\n",
              "      <td>124.618792</td>\n",
              "      <td>0.010201</td>\n",
              "      <td>32.073645</td>\n",
              "      <td>0.002625</td>\n",
              "      <td>16.899517</td>\n",
              "      <td>0.001383</td>\n",
              "      <td>7.416021</td>\n",
              "      <td>0.000607</td>\n",
              "      <td>0</td>\n",
              "    </tr>\n",
              "    <tr>\n",
              "      <th>4</th>\n",
              "      <td>0</td>\n",
              "      <td>482.440331</td>\n",
              "      <td>0.026477</td>\n",
              "      <td>89.269562</td>\n",
              "      <td>0.004899</td>\n",
              "      <td>24.122166</td>\n",
              "      <td>0.001324</td>\n",
              "      <td>13.987356</td>\n",
              "      <td>0.000768</td>\n",
              "      <td>7.717746</td>\n",
              "      <td>0.000424</td>\n",
              "      <td>0</td>\n",
              "    </tr>\n",
              "    <tr>\n",
              "      <th>...</th>\n",
              "      <td>...</td>\n",
              "      <td>...</td>\n",
              "      <td>...</td>\n",
              "      <td>...</td>\n",
              "      <td>...</td>\n",
              "      <td>...</td>\n",
              "      <td>...</td>\n",
              "      <td>...</td>\n",
              "      <td>...</td>\n",
              "      <td>...</td>\n",
              "      <td>...</td>\n",
              "      <td>...</td>\n",
              "    </tr>\n",
              "    <tr>\n",
              "      <th>2875</th>\n",
              "      <td>47</td>\n",
              "      <td>68.062074</td>\n",
              "      <td>0.009240</td>\n",
              "      <td>12.238398</td>\n",
              "      <td>0.001662</td>\n",
              "      <td>0.133618</td>\n",
              "      <td>0.000018</td>\n",
              "      <td>0.024617</td>\n",
              "      <td>0.000003</td>\n",
              "      <td>0.007784</td>\n",
              "      <td>0.000001</td>\n",
              "      <td>1</td>\n",
              "    </tr>\n",
              "    <tr>\n",
              "      <th>2876</th>\n",
              "      <td>47</td>\n",
              "      <td>61.005238</td>\n",
              "      <td>0.010171</td>\n",
              "      <td>6.415973</td>\n",
              "      <td>0.001070</td>\n",
              "      <td>0.179601</td>\n",
              "      <td>0.000030</td>\n",
              "      <td>0.024595</td>\n",
              "      <td>0.000004</td>\n",
              "      <td>0.007419</td>\n",
              "      <td>0.000001</td>\n",
              "      <td>1</td>\n",
              "    </tr>\n",
              "    <tr>\n",
              "      <th>2877</th>\n",
              "      <td>47</td>\n",
              "      <td>15.790666</td>\n",
              "      <td>0.007471</td>\n",
              "      <td>6.803984</td>\n",
              "      <td>0.003219</td>\n",
              "      <td>0.189721</td>\n",
              "      <td>0.000090</td>\n",
              "      <td>0.024814</td>\n",
              "      <td>0.000012</td>\n",
              "      <td>0.007043</td>\n",
              "      <td>0.000003</td>\n",
              "      <td>1</td>\n",
              "    </tr>\n",
              "    <tr>\n",
              "      <th>2878</th>\n",
              "      <td>47</td>\n",
              "      <td>23.212279</td>\n",
              "      <td>0.005419</td>\n",
              "      <td>5.596135</td>\n",
              "      <td>0.001306</td>\n",
              "      <td>0.149976</td>\n",
              "      <td>0.000035</td>\n",
              "      <td>0.027213</td>\n",
              "      <td>0.000006</td>\n",
              "      <td>0.007372</td>\n",
              "      <td>0.000002</td>\n",
              "      <td>1</td>\n",
              "    </tr>\n",
              "    <tr>\n",
              "      <th>2879</th>\n",
              "      <td>47</td>\n",
              "      <td>43.070577</td>\n",
              "      <td>0.009940</td>\n",
              "      <td>8.116670</td>\n",
              "      <td>0.001873</td>\n",
              "      <td>0.171968</td>\n",
              "      <td>0.000040</td>\n",
              "      <td>0.025154</td>\n",
              "      <td>0.000006</td>\n",
              "      <td>0.008600</td>\n",
              "      <td>0.000002</td>\n",
              "      <td>1</td>\n",
              "    </tr>\n",
              "  </tbody>\n",
              "</table>\n",
              "<p>11520 rows × 12 columns</p>\n",
              "</div>\n",
              "      <button class=\"colab-df-convert\" onclick=\"convertToInteractive('df-2e4e7f71-f5f5-4a26-a84f-4910c65fb591')\"\n",
              "              title=\"Convert this dataframe to an interactive table.\"\n",
              "              style=\"display:none;\">\n",
              "\n",
              "  <svg xmlns=\"http://www.w3.org/2000/svg\" height=\"24px\"viewBox=\"0 0 24 24\"\n",
              "       width=\"24px\">\n",
              "    <path d=\"M0 0h24v24H0V0z\" fill=\"none\"/>\n",
              "    <path d=\"M18.56 5.44l.94 2.06.94-2.06 2.06-.94-2.06-.94-.94-2.06-.94 2.06-2.06.94zm-11 1L8.5 8.5l.94-2.06 2.06-.94-2.06-.94L8.5 2.5l-.94 2.06-2.06.94zm10 10l.94 2.06.94-2.06 2.06-.94-2.06-.94-.94-2.06-.94 2.06-2.06.94z\"/><path d=\"M17.41 7.96l-1.37-1.37c-.4-.4-.92-.59-1.43-.59-.52 0-1.04.2-1.43.59L10.3 9.45l-7.72 7.72c-.78.78-.78 2.05 0 2.83L4 21.41c.39.39.9.59 1.41.59.51 0 1.02-.2 1.41-.59l7.78-7.78 2.81-2.81c.8-.78.8-2.07 0-2.86zM5.41 20L4 18.59l7.72-7.72 1.47 1.35L5.41 20z\"/>\n",
              "  </svg>\n",
              "      </button>\n",
              "\n",
              "\n",
              "\n",
              "    <div id=\"df-e3f67901-b044-4ab6-8998-da18327ee6be\">\n",
              "      <button class=\"colab-df-quickchart\" onclick=\"quickchart('df-e3f67901-b044-4ab6-8998-da18327ee6be')\"\n",
              "              title=\"Suggest charts.\"\n",
              "              style=\"display:none;\">\n",
              "\n",
              "<svg xmlns=\"http://www.w3.org/2000/svg\" height=\"24px\"viewBox=\"0 0 24 24\"\n",
              "     width=\"24px\">\n",
              "    <g>\n",
              "        <path d=\"M19 3H5c-1.1 0-2 .9-2 2v14c0 1.1.9 2 2 2h14c1.1 0 2-.9 2-2V5c0-1.1-.9-2-2-2zM9 17H7v-7h2v7zm4 0h-2V7h2v10zm4 0h-2v-4h2v4z\"/>\n",
              "    </g>\n",
              "</svg>\n",
              "      </button>\n",
              "    </div>\n",
              "\n",
              "<style>\n",
              "  .colab-df-quickchart {\n",
              "    background-color: #E8F0FE;\n",
              "    border: none;\n",
              "    border-radius: 50%;\n",
              "    cursor: pointer;\n",
              "    display: none;\n",
              "    fill: #1967D2;\n",
              "    height: 32px;\n",
              "    padding: 0 0 0 0;\n",
              "    width: 32px;\n",
              "  }\n",
              "\n",
              "  .colab-df-quickchart:hover {\n",
              "    background-color: #E2EBFA;\n",
              "    box-shadow: 0px 1px 2px rgba(60, 64, 67, 0.3), 0px 1px 3px 1px rgba(60, 64, 67, 0.15);\n",
              "    fill: #174EA6;\n",
              "  }\n",
              "\n",
              "  [theme=dark] .colab-df-quickchart {\n",
              "    background-color: #3B4455;\n",
              "    fill: #D2E3FC;\n",
              "  }\n",
              "\n",
              "  [theme=dark] .colab-df-quickchart:hover {\n",
              "    background-color: #434B5C;\n",
              "    box-shadow: 0px 1px 3px 1px rgba(0, 0, 0, 0.15);\n",
              "    filter: drop-shadow(0px 1px 2px rgba(0, 0, 0, 0.3));\n",
              "    fill: #FFFFFF;\n",
              "  }\n",
              "</style>\n",
              "\n",
              "    <script>\n",
              "      async function quickchart(key) {\n",
              "        const containerElement = document.querySelector('#' + key);\n",
              "        const charts = await google.colab.kernel.invokeFunction(\n",
              "            'suggestCharts', [key], {});\n",
              "      }\n",
              "    </script>\n",
              "\n",
              "      <script>\n",
              "\n",
              "function displayQuickchartButton(domScope) {\n",
              "  let quickchartButtonEl =\n",
              "    domScope.querySelector('#df-e3f67901-b044-4ab6-8998-da18327ee6be button.colab-df-quickchart');\n",
              "  quickchartButtonEl.style.display =\n",
              "    google.colab.kernel.accessAllowed ? 'block' : 'none';\n",
              "}\n",
              "\n",
              "        displayQuickchartButton(document);\n",
              "      </script>\n",
              "      <style>\n",
              "    .colab-df-container {\n",
              "      display:flex;\n",
              "      flex-wrap:wrap;\n",
              "      gap: 12px;\n",
              "    }\n",
              "\n",
              "    .colab-df-convert {\n",
              "      background-color: #E8F0FE;\n",
              "      border: none;\n",
              "      border-radius: 50%;\n",
              "      cursor: pointer;\n",
              "      display: none;\n",
              "      fill: #1967D2;\n",
              "      height: 32px;\n",
              "      padding: 0 0 0 0;\n",
              "      width: 32px;\n",
              "    }\n",
              "\n",
              "    .colab-df-convert:hover {\n",
              "      background-color: #E2EBFA;\n",
              "      box-shadow: 0px 1px 2px rgba(60, 64, 67, 0.3), 0px 1px 3px 1px rgba(60, 64, 67, 0.15);\n",
              "      fill: #174EA6;\n",
              "    }\n",
              "\n",
              "    [theme=dark] .colab-df-convert {\n",
              "      background-color: #3B4455;\n",
              "      fill: #D2E3FC;\n",
              "    }\n",
              "\n",
              "    [theme=dark] .colab-df-convert:hover {\n",
              "      background-color: #434B5C;\n",
              "      box-shadow: 0px 1px 3px 1px rgba(0, 0, 0, 0.15);\n",
              "      filter: drop-shadow(0px 1px 2px rgba(0, 0, 0, 0.3));\n",
              "      fill: #FFFFFF;\n",
              "    }\n",
              "  </style>\n",
              "\n",
              "      <script>\n",
              "        const buttonEl =\n",
              "          document.querySelector('#df-2e4e7f71-f5f5-4a26-a84f-4910c65fb591 button.colab-df-convert');\n",
              "        buttonEl.style.display =\n",
              "          google.colab.kernel.accessAllowed ? 'block' : 'none';\n",
              "\n",
              "        async function convertToInteractive(key) {\n",
              "          const element = document.querySelector('#df-2e4e7f71-f5f5-4a26-a84f-4910c65fb591');\n",
              "          const dataTable =\n",
              "            await google.colab.kernel.invokeFunction('convertToInteractive',\n",
              "                                                     [key], {});\n",
              "          if (!dataTable) return;\n",
              "\n",
              "          const docLinkHtml = 'Like what you see? Visit the ' +\n",
              "            '<a target=\"_blank\" href=https://colab.research.google.com/notebooks/data_table.ipynb>data table notebook</a>'\n",
              "            + ' to learn more about interactive tables.';\n",
              "          element.innerHTML = '';\n",
              "          dataTable['output_type'] = 'display_data';\n",
              "          await google.colab.output.renderOutput(dataTable, element);\n",
              "          const docLink = document.createElement('div');\n",
              "          docLink.innerHTML = docLinkHtml;\n",
              "          element.appendChild(docLink);\n",
              "        }\n",
              "      </script>\n",
              "    </div>\n",
              "  </div>\n"
            ]
          },
          "metadata": {},
          "execution_count": 201
        }
      ]
    },
    {
      "cell_type": "code",
      "source": [
        "import matplotlib.pyplot as plt\n",
        "from sklearn import tree\n",
        "from sklearn.model_selection import train_test_split\n",
        "from sklearn.svm import SVC"
      ],
      "metadata": {
        "id": "4FtxNnMAOexG"
      },
      "execution_count": 202,
      "outputs": []
    },
    {
      "cell_type": "code",
      "source": [
        "whole_dataframe.columns"
      ],
      "metadata": {
        "colab": {
          "base_uri": "https://localhost:8080/"
        },
        "outputId": "f19519dc-a6e1-4bf4-cda0-50c796e31e6d",
        "id": "ielHIvfeOexH"
      },
      "execution_count": 203,
      "outputs": [
        {
          "output_type": "execute_result",
          "data": {
            "text/plain": [
              "Index(['elecro_idx', 'B1_P', 'B1_RP', 'B2_P', 'B2_RP', 'B3_P', 'B3_RP', 'B4_P',\n",
              "       'B4_RP', 'B5_P', 'B5_RP', 'is_execution'],\n",
              "      dtype='object')"
            ]
          },
          "metadata": {},
          "execution_count": 203
        }
      ]
    },
    {
      "cell_type": "code",
      "source": [
        "features = ['elecro_idx', 'B1_P', 'B1_RP', 'B2_P', 'B2_RP', 'B3_P', 'B3_RP', 'B4_P',\n",
        "       'B4_RP', 'B5_P', 'B5_RP']\n",
        "X = whole_dataframe.loc[:, features]\n",
        "y = whole_dataframe.loc[:, ['is_execution']]"
      ],
      "metadata": {
        "id": "zYKPLUJ1OexH"
      },
      "execution_count": 204,
      "outputs": []
    },
    {
      "cell_type": "code",
      "source": [
        "X_train, X_test, y_train, y_test = train_test_split(X, y, random_state=0, train_size = .75)"
      ],
      "metadata": {
        "id": "1Pb5e17kOexH"
      },
      "execution_count": 205,
      "outputs": []
    },
    {
      "cell_type": "markdown",
      "source": [
        "### SCV"
      ],
      "metadata": {
        "id": "NPoZBJMBOexH"
      }
    },
    {
      "cell_type": "code",
      "source": [
        "from sklearn.preprocessing import StandardScaler\n",
        "scaler = StandardScaler()\n",
        "X_train = scaler.fit_transform(X_train)\n",
        "X_test = scaler.transform(X_test)"
      ],
      "metadata": {
        "id": "0INzUOHGOexI"
      },
      "execution_count": 206,
      "outputs": []
    },
    {
      "cell_type": "code",
      "source": [
        "svc=SVC()\n",
        "svc.fit(X_train,y_train)\n",
        "y_pred=svc.predict(X_test)\n"
      ],
      "metadata": {
        "colab": {
          "base_uri": "https://localhost:8080/"
        },
        "outputId": "9d45e69d-d0d4-4372-990b-192d2d31920a",
        "id": "jVvUdBM8OexI"
      },
      "execution_count": 207,
      "outputs": [
        {
          "output_type": "stream",
          "name": "stderr",
          "text": [
            "/usr/local/lib/python3.10/dist-packages/sklearn/utils/validation.py:1143: DataConversionWarning: A column-vector y was passed when a 1d array was expected. Please change the shape of y to (n_samples, ), for example using ravel().\n",
            "  y = column_or_1d(y, warn=True)\n"
          ]
        }
      ]
    },
    {
      "cell_type": "code",
      "source": [
        "from sklearn.metrics import confusion_matrix\n",
        "import seaborn as sns\n",
        "cm = confusion_matrix(y_test, y_pred)"
      ],
      "metadata": {
        "id": "Djsanl4UOexI"
      },
      "execution_count": 208,
      "outputs": []
    },
    {
      "cell_type": "code",
      "source": [
        "#Plot the confusion matrix.\n",
        "sns.heatmap(cm,\n",
        "            annot=True,\n",
        "            fmt='g',\n",
        "            xticklabels=['Real','Imagining'],\n",
        "            yticklabels=['Real','Imagining'])\n",
        "# Look at next comment.\n",
        "# we want to make sure than Real, Imagining is written in the right order.\n",
        "plt.ylabel('Prediction',fontsize=13)\n",
        "plt.xlabel('Actual',fontsize=13)\n",
        "plt.title('Confusion Matrix',fontsize=17)\n",
        "plt.show()"
      ],
      "metadata": {
        "colab": {
          "base_uri": "https://localhost:8080/",
          "height": 481
        },
        "outputId": "a608469a-0d9e-4007-8a39-16b5784f176b",
        "id": "x1kaIWmWOexI"
      },
      "execution_count": 209,
      "outputs": [
        {
          "output_type": "display_data",
          "data": {
            "text/plain": [
              "<Figure size 640x480 with 2 Axes>"
            ],
            "image/png": "[encoded data removed]"
          },
          "metadata": {}
        }
      ]
    },
    {
      "cell_type": "code",
      "source": [
        "from sklearn.metrics import accuracy_score\n",
        "import numpy as np\n",
        "print(accuracy_score( y_test, y_pred))"
      ],
      "metadata": {
        "colab": {
          "base_uri": "https://localhost:8080/"
        },
        "outputId": "0b915819-6576-4927-fad3-8762f7b5de81",
        "id": "MzWZyMpZOexJ"
      },
      "execution_count": 210,
      "outputs": [
        {
          "output_type": "stream",
          "name": "stdout",
          "text": [
            "0.6697916666666667\n"
          ]
        }
      ]
    },
    {
      "cell_type": "code",
      "source": [],
      "metadata": {
        "id": "LOStSLNpOexJ"
      },
      "execution_count": 210,
      "outputs": []
    },
    {
      "cell_type": "markdown",
      "source": [
        "### Random Forest"
      ],
      "metadata": {
        "id": "hCLmMs1zOexJ"
      }
    },
    {
      "cell_type": "code",
      "source": [
        "from sklearn.preprocessing import StandardScaler\n",
        "scaler = StandardScaler()\n",
        "X_train = scaler.fit_transform(X_train)\n",
        "X_test = scaler.transform(X_test)"
      ],
      "metadata": {
        "id": "gA28YA6WOexJ"
      },
      "execution_count": 211,
      "outputs": []
    },
    {
      "cell_type": "code",
      "source": [
        "from sklearn.ensemble import RandomForestClassifier\n",
        "clf = RandomForestClassifier(max_depth=9, random_state=0)\n",
        "clf.fit(X_train,y_train)\n",
        "y_pred=clf.predict(X_test)"
      ],
      "metadata": {
        "colab": {
          "base_uri": "https://localhost:8080/"
        },
        "outputId": "d997cbcd-b508-409d-fea9-4a3208207412",
        "id": "C_FA1PKDOexJ"
      },
      "execution_count": 212,
      "outputs": [
        {
          "output_type": "stream",
          "name": "stderr",
          "text": [
            "<ipython-input-212-2584e0968a9b>:3: DataConversionWarning: A column-vector y was passed when a 1d array was expected. Please change the shape of y to (n_samples,), for example using ravel().\n",
            "  clf.fit(X_train,y_train)\n"
          ]
        }
      ]
    },
    {
      "cell_type": "code",
      "source": [
        "from sklearn.metrics import confusion_matrix\n",
        "import seaborn as sns\n",
        "cm = confusion_matrix(y_test, y_pred)"
      ],
      "metadata": {
        "id": "u2_0xHsPOexK"
      },
      "execution_count": 213,
      "outputs": []
    },
    {
      "cell_type": "code",
      "source": [
        "#Plot the confusion matrix.\n",
        "sns.heatmap(cm,\n",
        "            annot=True,\n",
        "            fmt='g',\n",
        "            xticklabels=['Real','Imagining'],\n",
        "            yticklabels=['Real','Imagining'])\n",
        "# Look at next comment.\n",
        "# we want to make sure than Real, Imagining is written in the right order.\n",
        "plt.ylabel('Prediction',fontsize=13)\n",
        "plt.xlabel('Actual',fontsize=13)\n",
        "plt.title('Confusion Matrix',fontsize=17)\n",
        "plt.show()"
      ],
      "metadata": {
        "colab": {
          "base_uri": "https://localhost:8080/",
          "height": 481
        },
        "outputId": "31adc775-299e-4de5-e704-c889c2a86e20",
        "id": "PVF5CaepOexK"
      },
      "execution_count": 214,
      "outputs": [
        {
          "output_type": "display_data",
          "data": {
            "text/plain": [
              "<Figure size 640x480 with 2 Axes>"
            ],
            "image/png": "[encoded data removed]"
          },
          "metadata": {}
        }
      ]
    },
    {
      "cell_type": "code",
      "source": [
        "from sklearn.metrics import accuracy_score\n",
        "import numpy as np\n",
        "print(accuracy_score( y_test, y_pred))"
      ],
      "metadata": {
        "colab": {
          "base_uri": "https://localhost:8080/"
        },
        "outputId": "566cce45-a146-469b-b073-069c11218798",
        "id": "Z2lxK7AdOexK"
      },
      "execution_count": 215,
      "outputs": [
        {
          "output_type": "stream",
          "name": "stdout",
          "text": [
            "0.7097222222222223\n"
          ]
        }
      ]
    },
    {
      "cell_type": "code",
      "source": [
        "\n"
      ],
      "metadata": {
        "id": "7WBCAygxOexL"
      },
      "execution_count": 215,
      "outputs": []
    },
    {
      "cell_type": "markdown",
      "source": [
        "## Makes data in hands and tongues forms"
      ],
      "metadata": {
        "id": "ztAkXGm4OexL"
      }
    },
    {
      "cell_type": "code",
      "source": [
        "hand_frames = [subject3_Imagery_hands, subject3_Real_hands]\n",
        "hand_frames = pd.concat(hand_frames)\n",
        "hand_frames['is_tongue'] = 0"
      ],
      "metadata": {
        "id": "J-6p9uoOOexL"
      },
      "execution_count": 216,
      "outputs": []
    },
    {
      "cell_type": "code",
      "source": [
        "tongues_frames = [subject3_Imagery_tongues, subject3_Real_tongues]\n",
        "tongues_frames = pd.concat(tongues_frames)\n",
        "tongues_frames['is_tongue'] = 1"
      ],
      "metadata": {
        "id": "4PIKj07AOexL"
      },
      "execution_count": 217,
      "outputs": []
    },
    {
      "cell_type": "code",
      "source": [
        "whole_dataframe = [hand_frames, tongues_frames]\n",
        "whole_dataframe = pd.concat(whole_dataframe)\n",
        "whole_dataframe"
      ],
      "metadata": {
        "colab": {
          "base_uri": "https://localhost:8080/",
          "height": 487
        },
        "outputId": "042997c8-42cb-4921-8533-d0b7e45db04b",
        "id": "c9xMk2BkOexL"
      },
      "execution_count": 218,
      "outputs": [
        {
          "output_type": "execute_result",
          "data": {
            "text/plain": [
              "      elecro_idx        B1_P     B1_RP        B2_P     B2_RP       B3_P  \\\n",
              "0              0  347.087532  0.026498   88.181142  0.006732  23.721132   \n",
              "1              0  392.188825  0.054536   68.541574  0.009531  26.681865   \n",
              "2              0  437.110223  0.024021   99.351257  0.005460  36.584412   \n",
              "3              0  429.574084  0.035163  124.618792  0.010201  32.073645   \n",
              "4              0  482.440331  0.026477   89.269562  0.004899  24.122166   \n",
              "...          ...         ...       ...         ...       ...        ...   \n",
              "2875          47   68.062074  0.009240   12.238398  0.001662   0.133618   \n",
              "2876          47   61.005238  0.010171    6.415973  0.001070   0.179601   \n",
              "2877          47   15.790666  0.007471    6.803984  0.003219   0.189721   \n",
              "2878          47   23.212279  0.005419    5.596135  0.001306   0.149976   \n",
              "2879          47   43.070577  0.009940    8.116670  0.001873   0.171968   \n",
              "\n",
              "         B3_RP       B4_P     B4_RP      B5_P     B5_RP  is_tongue  \n",
              "0     0.001811  14.957072  0.001142  6.088257  0.000465          0  \n",
              "1     0.003710  14.117104  0.001963  5.434006  0.000756          0  \n",
              "2     0.002010  20.452602  0.001124  8.753868  0.000481          0  \n",
              "3     0.002625  16.899517  0.001383  7.416021  0.000607          0  \n",
              "4     0.001324  13.987356  0.000768  7.717746  0.000424          0  \n",
              "...        ...        ...       ...       ...       ...        ...  \n",
              "2875  0.000018   0.024617  0.000003  0.007784  0.000001          1  \n",
              "2876  0.000030   0.024595  0.000004  0.007419  0.000001          1  \n",
              "2877  0.000090   0.024814  0.000012  0.007043  0.000003          1  \n",
              "2878  0.000035   0.027213  0.000006  0.007372  0.000002          1  \n",
              "2879  0.000040   0.025154  0.000006  0.008600  0.000002          1  \n",
              "\n",
              "[11520 rows x 12 columns]"
            ],
            "text/html": [
              "\n",
              "\n",
              "  <div id=\"df-1c9a5fa7-cf5d-4b8b-b071-0600ddf22fc7\">\n",
              "    <div class=\"colab-df-container\">\n",
              "      <div>\n",
              "<style scoped>\n",
              "    .dataframe tbody tr th:only-of-type {\n",
              "        vertical-align: middle;\n",
              "    }\n",
              "\n",
              "    .dataframe tbody tr th {\n",
              "        vertical-align: top;\n",
              "    }\n",
              "\n",
              "    .dataframe thead th {\n",
              "        text-align: right;\n",
              "    }\n",
              "</style>\n",
              "<table border=\"1\" class=\"dataframe\">\n",
              "  <thead>\n",
              "    <tr style=\"text-align: right;\">\n",
              "      <th></th>\n",
              "      <th>elecro_idx</th>\n",
              "      <th>B1_P</th>\n",
              "      <th>B1_RP</th>\n",
              "      <th>B2_P</th>\n",
              "      <th>B2_RP</th>\n",
              "      <th>B3_P</th>\n",
              "      <th>B3_RP</th>\n",
              "      <th>B4_P</th>\n",
              "      <th>B4_RP</th>\n",
              "      <th>B5_P</th>\n",
              "      <th>B5_RP</th>\n",
              "      <th>is_tongue</th>\n",
              "    </tr>\n",
              "  </thead>\n",
              "  <tbody>\n",
              "    <tr>\n",
              "      <th>0</th>\n",
              "      <td>0</td>\n",
              "      <td>347.087532</td>\n",
              "      <td>0.026498</td>\n",
              "      <td>88.181142</td>\n",
              "      <td>0.006732</td>\n",
              "      <td>23.721132</td>\n",
              "      <td>0.001811</td>\n",
              "      <td>14.957072</td>\n",
              "      <td>0.001142</td>\n",
              "      <td>6.088257</td>\n",
              "      <td>0.000465</td>\n",
              "      <td>0</td>\n",
              "    </tr>\n",
              "    <tr>\n",
              "      <th>1</th>\n",
              "      <td>0</td>\n",
              "      <td>392.188825</td>\n",
              "      <td>0.054536</td>\n",
              "      <td>68.541574</td>\n",
              "      <td>0.009531</td>\n",
              "      <td>26.681865</td>\n",
              "      <td>0.003710</td>\n",
              "      <td>14.117104</td>\n",
              "      <td>0.001963</td>\n",
              "      <td>5.434006</td>\n",
              "      <td>0.000756</td>\n",
              "      <td>0</td>\n",
              "    </tr>\n",
              "    <tr>\n",
              "      <th>2</th>\n",
              "      <td>0</td>\n",
              "      <td>437.110223</td>\n",
              "      <td>0.024021</td>\n",
              "      <td>99.351257</td>\n",
              "      <td>0.005460</td>\n",
              "      <td>36.584412</td>\n",
              "      <td>0.002010</td>\n",
              "      <td>20.452602</td>\n",
              "      <td>0.001124</td>\n",
              "      <td>8.753868</td>\n",
              "      <td>0.000481</td>\n",
              "      <td>0</td>\n",
              "    </tr>\n",
              "    <tr>\n",
              "      <th>3</th>\n",
              "      <td>0</td>\n",
              "      <td>429.574084</td>\n",
              "      <td>0.035163</td>\n",
              "      <td>124.618792</td>\n",
              "      <td>0.010201</td>\n",
              "      <td>32.073645</td>\n",
              "      <td>0.002625</td>\n",
              "      <td>16.899517</td>\n",
              "      <td>0.001383</td>\n",
              "      <td>7.416021</td>\n",
              "      <td>0.000607</td>\n",
              "      <td>0</td>\n",
              "    </tr>\n",
              "    <tr>\n",
              "      <th>4</th>\n",
              "      <td>0</td>\n",
              "      <td>482.440331</td>\n",
              "      <td>0.026477</td>\n",
              "      <td>89.269562</td>\n",
              "      <td>0.004899</td>\n",
              "      <td>24.122166</td>\n",
              "      <td>0.001324</td>\n",
              "      <td>13.987356</td>\n",
              "      <td>0.000768</td>\n",
              "      <td>7.717746</td>\n",
              "      <td>0.000424</td>\n",
              "      <td>0</td>\n",
              "    </tr>\n",
              "    <tr>\n",
              "      <th>...</th>\n",
              "      <td>...</td>\n",
              "      <td>...</td>\n",
              "      <td>...</td>\n",
              "      <td>...</td>\n",
              "      <td>...</td>\n",
              "      <td>...</td>\n",
              "      <td>...</td>\n",
              "      <td>...</td>\n",
              "      <td>...</td>\n",
              "      <td>...</td>\n",
              "      <td>...</td>\n",
              "      <td>...</td>\n",
              "    </tr>\n",
              "    <tr>\n",
              "      <th>2875</th>\n",
              "      <td>47</td>\n",
              "      <td>68.062074</td>\n",
              "      <td>0.009240</td>\n",
              "      <td>12.238398</td>\n",
              "      <td>0.001662</td>\n",
              "      <td>0.133618</td>\n",
              "      <td>0.000018</td>\n",
              "      <td>0.024617</td>\n",
              "      <td>0.000003</td>\n",
              "      <td>0.007784</td>\n",
              "      <td>0.000001</td>\n",
              "      <td>1</td>\n",
              "    </tr>\n",
              "    <tr>\n",
              "      <th>2876</th>\n",
              "      <td>47</td>\n",
              "      <td>61.005238</td>\n",
              "      <td>0.010171</td>\n",
              "      <td>6.415973</td>\n",
              "      <td>0.001070</td>\n",
              "      <td>0.179601</td>\n",
              "      <td>0.000030</td>\n",
              "      <td>0.024595</td>\n",
              "      <td>0.000004</td>\n",
              "      <td>0.007419</td>\n",
              "      <td>0.000001</td>\n",
              "      <td>1</td>\n",
              "    </tr>\n",
              "    <tr>\n",
              "      <th>2877</th>\n",
              "      <td>47</td>\n",
              "      <td>15.790666</td>\n",
              "      <td>0.007471</td>\n",
              "      <td>6.803984</td>\n",
              "      <td>0.003219</td>\n",
              "      <td>0.189721</td>\n",
              "      <td>0.000090</td>\n",
              "      <td>0.024814</td>\n",
              "      <td>0.000012</td>\n",
              "      <td>0.007043</td>\n",
              "      <td>0.000003</td>\n",
              "      <td>1</td>\n",
              "    </tr>\n",
              "    <tr>\n",
              "      <th>2878</th>\n",
              "      <td>47</td>\n",
              "      <td>23.212279</td>\n",
              "      <td>0.005419</td>\n",
              "      <td>5.596135</td>\n",
              "      <td>0.001306</td>\n",
              "      <td>0.149976</td>\n",
              "      <td>0.000035</td>\n",
              "      <td>0.027213</td>\n",
              "      <td>0.000006</td>\n",
              "      <td>0.007372</td>\n",
              "      <td>0.000002</td>\n",
              "      <td>1</td>\n",
              "    </tr>\n",
              "    <tr>\n",
              "      <th>2879</th>\n",
              "      <td>47</td>\n",
              "      <td>43.070577</td>\n",
              "      <td>0.009940</td>\n",
              "      <td>8.116670</td>\n",
              "      <td>0.001873</td>\n",
              "      <td>0.171968</td>\n",
              "      <td>0.000040</td>\n",
              "      <td>0.025154</td>\n",
              "      <td>0.000006</td>\n",
              "      <td>0.008600</td>\n",
              "      <td>0.000002</td>\n",
              "      <td>1</td>\n",
              "    </tr>\n",
              "  </tbody>\n",
              "</table>\n",
              "<p>11520 rows × 12 columns</p>\n",
              "</div>\n",
              "      <button class=\"colab-df-convert\" onclick=\"convertToInteractive('df-1c9a5fa7-cf5d-4b8b-b071-0600ddf22fc7')\"\n",
              "              title=\"Convert this dataframe to an interactive table.\"\n",
              "              style=\"display:none;\">\n",
              "\n",
              "  <svg xmlns=\"http://www.w3.org/2000/svg\" height=\"24px\"viewBox=\"0 0 24 24\"\n",
              "       width=\"24px\">\n",
              "    <path d=\"M0 0h24v24H0V0z\" fill=\"none\"/>\n",
              "    <path d=\"M18.56 5.44l.94 2.06.94-2.06 2.06-.94-2.06-.94-.94-2.06-.94 2.06-2.06.94zm-11 1L8.5 8.5l.94-2.06 2.06-.94-2.06-.94L8.5 2.5l-.94 2.06-2.06.94zm10 10l.94 2.06.94-2.06 2.06-.94-2.06-.94-.94-2.06-.94 2.06-2.06.94z\"/><path d=\"M17.41 7.96l-1.37-1.37c-.4-.4-.92-.59-1.43-.59-.52 0-1.04.2-1.43.59L10.3 9.45l-7.72 7.72c-.78.78-.78 2.05 0 2.83L4 21.41c.39.39.9.59 1.41.59.51 0 1.02-.2 1.41-.59l7.78-7.78 2.81-2.81c.8-.78.8-2.07 0-2.86zM5.41 20L4 18.59l7.72-7.72 1.47 1.35L5.41 20z\"/>\n",
              "  </svg>\n",
              "      </button>\n",
              "\n",
              "\n",
              "\n",
              "    <div id=\"df-62aa5f80-97b9-4ffc-b6a6-ff6ab740e8b6\">\n",
              "      <button class=\"colab-df-quickchart\" onclick=\"quickchart('df-62aa5f80-97b9-4ffc-b6a6-ff6ab740e8b6')\"\n",
              "              title=\"Suggest charts.\"\n",
              "              style=\"display:none;\">\n",
              "\n",
              "<svg xmlns=\"http://www.w3.org/2000/svg\" height=\"24px\"viewBox=\"0 0 24 24\"\n",
              "     width=\"24px\">\n",
              "    <g>\n",
              "        <path d=\"M19 3H5c-1.1 0-2 .9-2 2v14c0 1.1.9 2 2 2h14c1.1 0 2-.9 2-2V5c0-1.1-.9-2-2-2zM9 17H7v-7h2v7zm4 0h-2V7h2v10zm4 0h-2v-4h2v4z\"/>\n",
              "    </g>\n",
              "</svg>\n",
              "      </button>\n",
              "    </div>\n",
              "\n",
              "<style>\n",
              "  .colab-df-quickchart {\n",
              "    background-color: #E8F0FE;\n",
              "    border: none;\n",
              "    border-radius: 50%;\n",
              "    cursor: pointer;\n",
              "    display: none;\n",
              "    fill: #1967D2;\n",
              "    height: 32px;\n",
              "    padding: 0 0 0 0;\n",
              "    width: 32px;\n",
              "  }\n",
              "\n",
              "  .colab-df-quickchart:hover {\n",
              "    background-color: #E2EBFA;\n",
              "    box-shadow: 0px 1px 2px rgba(60, 64, 67, 0.3), 0px 1px 3px 1px rgba(60, 64, 67, 0.15);\n",
              "    fill: #174EA6;\n",
              "  }\n",
              "\n",
              "  [theme=dark] .colab-df-quickchart {\n",
              "    background-color: #3B4455;\n",
              "    fill: #D2E3FC;\n",
              "  }\n",
              "\n",
              "  [theme=dark] .colab-df-quickchart:hover {\n",
              "    background-color: #434B5C;\n",
              "    box-shadow: 0px 1px 3px 1px rgba(0, 0, 0, 0.15);\n",
              "    filter: drop-shadow(0px 1px 2px rgba(0, 0, 0, 0.3));\n",
              "    fill: #FFFFFF;\n",
              "  }\n",
              "</style>\n",
              "\n",
              "    <script>\n",
              "      async function quickchart(key) {\n",
              "        const containerElement = document.querySelector('#' + key);\n",
              "        const charts = await google.colab.kernel.invokeFunction(\n",
              "            'suggestCharts', [key], {});\n",
              "      }\n",
              "    </script>\n",
              "\n",
              "      <script>\n",
              "\n",
              "function displayQuickchartButton(domScope) {\n",
              "  let quickchartButtonEl =\n",
              "    domScope.querySelector('#df-62aa5f80-97b9-4ffc-b6a6-ff6ab740e8b6 button.colab-df-quickchart');\n",
              "  quickchartButtonEl.style.display =\n",
              "    google.colab.kernel.accessAllowed ? 'block' : 'none';\n",
              "}\n",
              "\n",
              "        displayQuickchartButton(document);\n",
              "      </script>\n",
              "      <style>\n",
              "    .colab-df-container {\n",
              "      display:flex;\n",
              "      flex-wrap:wrap;\n",
              "      gap: 12px;\n",
              "    }\n",
              "\n",
              "    .colab-df-convert {\n",
              "      background-color: #E8F0FE;\n",
              "      border: none;\n",
              "      border-radius: 50%;\n",
              "      cursor: pointer;\n",
              "      display: none;\n",
              "      fill: #1967D2;\n",
              "      height: 32px;\n",
              "      padding: 0 0 0 0;\n",
              "      width: 32px;\n",
              "    }\n",
              "\n",
              "    .colab-df-convert:hover {\n",
              "      background-color: #E2EBFA;\n",
              "      box-shadow: 0px 1px 2px rgba(60, 64, 67, 0.3), 0px 1px 3px 1px rgba(60, 64, 67, 0.15);\n",
              "      fill: #174EA6;\n",
              "    }\n",
              "\n",
              "    [theme=dark] .colab-df-convert {\n",
              "      background-color: #3B4455;\n",
              "      fill: #D2E3FC;\n",
              "    }\n",
              "\n",
              "    [theme=dark] .colab-df-convert:hover {\n",
              "      background-color: #434B5C;\n",
              "      box-shadow: 0px 1px 3px 1px rgba(0, 0, 0, 0.15);\n",
              "      filter: drop-shadow(0px 1px 2px rgba(0, 0, 0, 0.3));\n",
              "      fill: #FFFFFF;\n",
              "    }\n",
              "  </style>\n",
              "\n",
              "      <script>\n",
              "        const buttonEl =\n",
              "          document.querySelector('#df-1c9a5fa7-cf5d-4b8b-b071-0600ddf22fc7 button.colab-df-convert');\n",
              "        buttonEl.style.display =\n",
              "          google.colab.kernel.accessAllowed ? 'block' : 'none';\n",
              "\n",
              "        async function convertToInteractive(key) {\n",
              "          const element = document.querySelector('#df-1c9a5fa7-cf5d-4b8b-b071-0600ddf22fc7');\n",
              "          const dataTable =\n",
              "            await google.colab.kernel.invokeFunction('convertToInteractive',\n",
              "                                                     [key], {});\n",
              "          if (!dataTable) return;\n",
              "\n",
              "          const docLinkHtml = 'Like what you see? Visit the ' +\n",
              "            '<a target=\"_blank\" href=https://colab.research.google.com/notebooks/data_table.ipynb>data table notebook</a>'\n",
              "            + ' to learn more about interactive tables.';\n",
              "          element.innerHTML = '';\n",
              "          dataTable['output_type'] = 'display_data';\n",
              "          await google.colab.output.renderOutput(dataTable, element);\n",
              "          const docLink = document.createElement('div');\n",
              "          docLink.innerHTML = docLinkHtml;\n",
              "          element.appendChild(docLink);\n",
              "        }\n",
              "      </script>\n",
              "    </div>\n",
              "  </div>\n"
            ]
          },
          "metadata": {},
          "execution_count": 218
        }
      ]
    },
    {
      "cell_type": "code",
      "source": [
        "import matplotlib.pyplot as plt\n",
        "from sklearn import tree\n",
        "from sklearn.model_selection import train_test_split\n",
        "from sklearn.svm import SVC"
      ],
      "metadata": {
        "id": "faBu9dSdOexM"
      },
      "execution_count": 219,
      "outputs": []
    },
    {
      "cell_type": "code",
      "source": [
        "whole_dataframe.columns"
      ],
      "metadata": {
        "colab": {
          "base_uri": "https://localhost:8080/"
        },
        "outputId": "3650d44c-983d-41bd-e2ad-8f319d229a72",
        "id": "RP_scxUiOexM"
      },
      "execution_count": 220,
      "outputs": [
        {
          "output_type": "execute_result",
          "data": {
            "text/plain": [
              "Index(['elecro_idx', 'B1_P', 'B1_RP', 'B2_P', 'B2_RP', 'B3_P', 'B3_RP', 'B4_P',\n",
              "       'B4_RP', 'B5_P', 'B5_RP', 'is_tongue'],\n",
              "      dtype='object')"
            ]
          },
          "metadata": {},
          "execution_count": 220
        }
      ]
    },
    {
      "cell_type": "code",
      "source": [
        "features = ['elecro_idx', 'B1_P', 'B1_RP', 'B2_P', 'B2_RP', 'B3_P', 'B3_RP', 'B4_P',\n",
        "       'B4_RP', 'B5_P', 'B5_RP']\n",
        "X = whole_dataframe.loc[:, features]\n",
        "y = whole_dataframe.loc[:, ['is_tongue']]"
      ],
      "metadata": {
        "id": "bxwCmi-JOexM"
      },
      "execution_count": 221,
      "outputs": []
    },
    {
      "cell_type": "code",
      "source": [
        "X_train, X_test, y_train, y_test = train_test_split(X, y, random_state=0, train_size = .75)"
      ],
      "metadata": {
        "id": "DyzfZNOjOexM"
      },
      "execution_count": 222,
      "outputs": []
    },
    {
      "cell_type": "markdown",
      "source": [
        "### SCV"
      ],
      "metadata": {
        "id": "hOUDx_OzOexN"
      }
    },
    {
      "cell_type": "code",
      "source": [
        "from sklearn.preprocessing import StandardScaler\n",
        "scaler = StandardScaler()\n",
        "X_train = scaler.fit_transform(X_train)\n",
        "X_test = scaler.transform(X_test)"
      ],
      "metadata": {
        "id": "3oM8DcVhOexN"
      },
      "execution_count": 223,
      "outputs": []
    },
    {
      "cell_type": "code",
      "source": [
        "svc=SVC()\n",
        "svc.fit(X_train,y_train)\n",
        "y_pred=svc.predict(X_test)\n"
      ],
      "metadata": {
        "colab": {
          "base_uri": "https://localhost:8080/"
        },
        "outputId": "4dd64e7b-bb90-436d-fbd4-bb70b0ccfc84",
        "id": "bX75dOq3OexN"
      },
      "execution_count": 224,
      "outputs": [
        {
          "output_type": "stream",
          "name": "stderr",
          "text": [
            "/usr/local/lib/python3.10/dist-packages/sklearn/utils/validation.py:1143: DataConversionWarning: A column-vector y was passed when a 1d array was expected. Please change the shape of y to (n_samples, ), for example using ravel().\n",
            "  y = column_or_1d(y, warn=True)\n"
          ]
        }
      ]
    },
    {
      "cell_type": "code",
      "source": [
        "from sklearn.metrics import confusion_matrix\n",
        "import seaborn as sns\n",
        "cm = confusion_matrix(y_test, y_pred)"
      ],
      "metadata": {
        "id": "CpcQmf0aOexN"
      },
      "execution_count": 225,
      "outputs": []
    },
    {
      "cell_type": "code",
      "source": [
        "#Plot the confusion matrix.\n",
        "sns.heatmap(cm,\n",
        "            annot=True,\n",
        "            fmt='g',\n",
        "            xticklabels=['tongue','hand'],\n",
        "            yticklabels=['tongue','hand'])\n",
        "# Look at next comment.\n",
        "# we want to make sure than tongue, hand is written in the right order.\n",
        "plt.ylabel('Prediction',fontsize=13)\n",
        "plt.xlabel('Actual',fontsize=13)\n",
        "plt.title('Confusion Matrix',fontsize=17)\n",
        "plt.show()"
      ],
      "metadata": {
        "colab": {
          "base_uri": "https://localhost:8080/",
          "height": 481
        },
        "outputId": "bbdded4a-212e-4779-e362-9244ffb0386a",
        "id": "-xVmVVXWOexN"
      },
      "execution_count": 226,
      "outputs": [
        {
          "output_type": "display_data",
          "data": {
            "text/plain": [
              "<Figure size 640x480 with 2 Axes>"
            ],
            "image/png": "[encoded data removed]"
          },
          "metadata": {}
        }
      ]
    },
    {
      "cell_type": "code",
      "source": [
        "from sklearn.metrics import accuracy_score\n",
        "import numpy as np\n",
        "print(accuracy_score( y_test, y_pred))"
      ],
      "metadata": {
        "colab": {
          "base_uri": "https://localhost:8080/"
        },
        "outputId": "b8672239-2ed5-4def-ce13-10e56446c7b2",
        "id": "NXplsl9GOexO"
      },
      "execution_count": 227,
      "outputs": [
        {
          "output_type": "stream",
          "name": "stdout",
          "text": [
            "0.6038194444444445\n"
          ]
        }
      ]
    },
    {
      "cell_type": "code",
      "source": [],
      "metadata": {
        "id": "7LRFNd3cOexO"
      },
      "execution_count": 227,
      "outputs": []
    },
    {
      "cell_type": "markdown",
      "source": [
        "### Random Forest"
      ],
      "metadata": {
        "id": "nntrHORdOexO"
      }
    },
    {
      "cell_type": "code",
      "source": [
        "from sklearn.preprocessing import StandardScaler\n",
        "scaler = StandardScaler()\n",
        "X_train = scaler.fit_transform(X_train)\n",
        "X_test = scaler.transform(X_test)"
      ],
      "metadata": {
        "id": "JaDum9OYOexO"
      },
      "execution_count": 228,
      "outputs": []
    },
    {
      "cell_type": "code",
      "source": [
        "from sklearn.ensemble import RandomForestClassifier\n",
        "clf = RandomForestClassifier(max_depth=9, random_state=0)\n",
        "clf.fit(X_train,y_train)\n",
        "y_pred=clf.predict(X_test)"
      ],
      "metadata": {
        "colab": {
          "base_uri": "https://localhost:8080/"
        },
        "outputId": "c76c185a-1035-488e-c341-807ed27fe43f",
        "id": "zmlJNKJbOexO"
      },
      "execution_count": 229,
      "outputs": [
        {
          "output_type": "stream",
          "name": "stderr",
          "text": [
            "<ipython-input-229-2584e0968a9b>:3: DataConversionWarning: A column-vector y was passed when a 1d array was expected. Please change the shape of y to (n_samples,), for example using ravel().\n",
            "  clf.fit(X_train,y_train)\n"
          ]
        }
      ]
    },
    {
      "cell_type": "code",
      "source": [
        "from sklearn.metrics import confusion_matrix\n",
        "import seaborn as sns\n",
        "cm = confusion_matrix(y_test, y_pred)"
      ],
      "metadata": {
        "id": "-tLe4wYbOexO"
      },
      "execution_count": 230,
      "outputs": []
    },
    {
      "cell_type": "code",
      "source": [
        "#Plot the confusion matrix.\n",
        "sns.heatmap(cm,\n",
        "            annot=True,\n",
        "            fmt='g',\n",
        "            xticklabels=['Real','Imagining'],\n",
        "            yticklabels=['Real','Imagining'])\n",
        "# Look at next comment.\n",
        "# we want to make sure than Real, Imagining is written in the right order.\n",
        "plt.ylabel('Prediction',fontsize=13)\n",
        "plt.xlabel('Actual',fontsize=13)\n",
        "plt.title('Confusion Matrix',fontsize=17)\n",
        "plt.show()"
      ],
      "metadata": {
        "colab": {
          "base_uri": "https://localhost:8080/",
          "height": 481
        },
        "outputId": "1d918f4e-9398-4d0a-f2d6-aa28834f738b",
        "id": "8jC_ztvWOexP"
      },
      "execution_count": 231,
      "outputs": [
        {
          "output_type": "display_data",
          "data": {
            "text/plain": [
              "<Figure size 640x480 with 2 Axes>"
            ],
            "image/png": "[encoded data removed]"
          },
          "metadata": {}
        }
      ]
    },
    {
      "cell_type": "code",
      "source": [
        "from sklearn.metrics import accuracy_score\n",
        "import numpy as np\n",
        "print(accuracy_score( y_test, y_pred))"
      ],
      "metadata": {
        "colab": {
          "base_uri": "https://localhost:8080/"
        },
        "outputId": "c944a543-de49-4307-84d9-7a6fe00e4aff",
        "id": "VlNfdzbkOexP"
      },
      "execution_count": 232,
      "outputs": [
        {
          "output_type": "stream",
          "name": "stdout",
          "text": [
            "0.6243055555555556\n"
          ]
        }
      ]
    },
    {
      "cell_type": "code",
      "source": [],
      "metadata": {
        "id": "C2z7EQ8lOexP"
      },
      "execution_count": 232,
      "outputs": []
    }
  ]
}