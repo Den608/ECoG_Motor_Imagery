{
  "nbformat": 4,
  "nbformat_minor": 0,
  "metadata": {
    "colab": {
      "provenance": [],
      "toc_visible": true
    },
    "kernelspec": {
      "name": "python3",
      "display_name": "Python 3"
    },
    "language_info": {
      "name": "python"
    }
  },
  "cells": [
    {
      "cell_type": "code",
      "execution_count": 1,
      "metadata": {
        "id": "kBWSsku-378k"
      },
      "outputs": [],
      "source": [
        "import pandas as pd"
      ]
    },
    {
      "cell_type": "code",
      "source": [
        "subject0_Imagery_hands = pd.read_csv(\"/content/subject0_Imagery_hands.csv\")\n",
        "subject0_Imagery_tongues = pd.read_csv(\"/content/subject0_Imagery_tongues.csv\")\n",
        "subject0_Real_hands = pd.read_csv(\"/content/subject0_Real_hands.csv\")\n",
        "subject0_Real_tongues = pd.read_csv(\"/content/subject0_Real_tongues.csv\")"
      ],
      "metadata": {
        "id": "wIBhRZZ53-Gk"
      },
      "execution_count": 3,
      "outputs": []
    },
    {
      "cell_type": "code",
      "source": [
        "subject2_Imagery_hands = pd.read_csv(\"/content/subject2_Imagery_hands.csv\")\n",
        "subject2_Imagery_tongues = pd.read_csv(\"/content/subject2_Imagery_tongues.csv\")\n",
        "subject2_Real_hands = pd.read_csv(\"/content/subject2_Real_hands.csv\")\n",
        "subject2_Real_tongues = pd.read_csv(\"/content/subject2_Real_tongues.csv\")"
      ],
      "metadata": {
        "id": "VxkZXRp-4z7a"
      },
      "execution_count": 4,
      "outputs": []
    },
    {
      "cell_type": "code",
      "source": [
        "print(\"This is acceptable\")"
      ],
      "metadata": {
        "colab": {
          "base_uri": "https://localhost:8080/"
        },
        "id": "p0jfijI5qaWn",
        "outputId": "81e62337-7a43-47ed-a662-c6be66a6df71"
      },
      "execution_count": 40,
      "outputs": [
        {
          "output_type": "stream",
          "name": "stdout",
          "text": [
            "This is acceptable\n"
          ]
        }
      ]
    },
    {
      "cell_type": "markdown",
      "source": [
        "# Makes data in real and imagery forms"
      ],
      "metadata": {
        "id": "p7XUHK5I40Ly"
      }
    },
    {
      "cell_type": "code",
      "source": [
        "Imagery_frames = [subject0_Imagery_hands, subject0_Imagery_tongues, subject2_Imagery_hands, subject2_Imagery_tongues]\n",
        "Imagery_frames = pd.concat(Imagery_frames)\n",
        "Imagery_frames['is_execution'] = 0"
      ],
      "metadata": {
        "id": "UbzNFGrh4oAZ"
      },
      "execution_count": 5,
      "outputs": []
    },
    {
      "cell_type": "code",
      "source": [
        "Real_frames = [subject0_Real_hands, subject0_Real_tongues, subject2_Real_hands, subject2_Real_tongues]\n",
        "Real_frames = pd.concat(Real_frames)\n",
        "Real_frames['is_execution'] = 1"
      ],
      "metadata": {
        "id": "26xJtt995wjg"
      },
      "execution_count": 6,
      "outputs": []
    },
    {
      "cell_type": "code",
      "source": [
        "whole_dataframe = [Imagery_frames, Real_frames]\n",
        "whole_dataframe = pd.concat(whole_dataframe)\n",
        "whole_dataframe"
      ],
      "metadata": {
        "colab": {
          "base_uri": "https://localhost:8080/",
          "height": 487
        },
        "id": "iz7r2s03532U",
        "outputId": "4217b0fe-9e1f-4109-f8f7-9ee7cc7287aa"
      },
      "execution_count": 7,
      "outputs": [
        {
          "output_type": "execute_result",
          "data": {
            "text/plain": [
              "      elecro_idx        B1_P     B1_RP       B2_P     B2_RP       B3_P  \\\n",
              "0              0   64.208372  0.058936  26.268088  0.024111   8.992230   \n",
              "1              0   40.340036  0.049763  32.921651  0.040611   8.286542   \n",
              "2              0   95.032736  0.070099  32.167133  0.023727   9.608515   \n",
              "3              0  207.406918  0.060584  29.545808  0.008630   7.646323   \n",
              "4              0   62.372128  0.051644  27.214559  0.022534   6.781020   \n",
              "...          ...         ...       ...        ...       ...        ...   \n",
              "2875          47  176.450452  0.029799  33.216046  0.005610   6.530403   \n",
              "2876          47  191.219588  0.029378  47.845522  0.007351   8.047811   \n",
              "2877          47  185.742916  0.027688  52.539384  0.007832   5.794241   \n",
              "2878          47   91.805034  0.023122  36.576291  0.009212   8.641063   \n",
              "2879          47   75.370132  0.019741  50.609467  0.013256  11.900502   \n",
              "\n",
              "         B3_RP      B4_P     B4_RP      B5_P     B5_RP  is_execution  \n",
              "0     0.008254  1.662773  0.001526  0.319480  0.000293             0  \n",
              "1     0.010222  1.633262  0.002015  0.340468  0.000420             0  \n",
              "2     0.007088  1.359709  0.001003  0.353153  0.000260             0  \n",
              "3     0.002234  1.559712  0.000456  0.306466  0.000090             0  \n",
              "4     0.005615  1.312397  0.001087  0.312094  0.000258             0  \n",
              "...        ...       ...       ...       ...       ...           ...  \n",
              "2875  0.001103  1.000416  0.000169  0.224647  0.000038             1  \n",
              "2876  0.001236  1.148427  0.000176  0.247321  0.000038             1  \n",
              "2877  0.000864  0.858207  0.000128  0.185568  0.000028             1  \n",
              "2878  0.002176  1.178701  0.000297  0.178973  0.000045             1  \n",
              "2879  0.003117  1.401651  0.000367  0.172548  0.000045             1  \n",
              "\n",
              "[22560 rows x 12 columns]"
            ],
            "text/html": [
              "\n",
              "\n",
              "  <div id=\"df-e3ace85b-819c-4fa9-9fe8-badd7fc4a14a\">\n",
              "    <div class=\"colab-df-container\">\n",
              "      <div>\n",
              "<style scoped>\n",
              "    .dataframe tbody tr th:only-of-type {\n",
              "        vertical-align: middle;\n",
              "    }\n",
              "\n",
              "    .dataframe tbody tr th {\n",
              "        vertical-align: top;\n",
              "    }\n",
              "\n",
              "    .dataframe thead th {\n",
              "        text-align: right;\n",
              "    }\n",
              "</style>\n",
              "<table border=\"1\" class=\"dataframe\">\n",
              "  <thead>\n",
              "    <tr style=\"text-align: right;\">\n",
              "      <th></th>\n",
              "      <th>elecro_idx</th>\n",
              "      <th>B1_P</th>\n",
              "      <th>B1_RP</th>\n",
              "      <th>B2_P</th>\n",
              "      <th>B2_RP</th>\n",
              "      <th>B3_P</th>\n",
              "      <th>B3_RP</th>\n",
              "      <th>B4_P</th>\n",
              "      <th>B4_RP</th>\n",
              "      <th>B5_P</th>\n",
              "      <th>B5_RP</th>\n",
              "      <th>is_execution</th>\n",
              "    </tr>\n",
              "  </thead>\n",
              "  <tbody>\n",
              "    <tr>\n",
              "      <th>0</th>\n",
              "      <td>0</td>\n",
              "      <td>64.208372</td>\n",
              "      <td>0.058936</td>\n",
              "      <td>26.268088</td>\n",
              "      <td>0.024111</td>\n",
              "      <td>8.992230</td>\n",
              "      <td>0.008254</td>\n",
              "      <td>1.662773</td>\n",
              "      <td>0.001526</td>\n",
              "      <td>0.319480</td>\n",
              "      <td>0.000293</td>\n",
              "      <td>0</td>\n",
              "    </tr>\n",
              "    <tr>\n",
              "      <th>1</th>\n",
              "      <td>0</td>\n",
              "      <td>40.340036</td>\n",
              "      <td>0.049763</td>\n",
              "      <td>32.921651</td>\n",
              "      <td>0.040611</td>\n",
              "      <td>8.286542</td>\n",
              "      <td>0.010222</td>\n",
              "      <td>1.633262</td>\n",
              "      <td>0.002015</td>\n",
              "      <td>0.340468</td>\n",
              "      <td>0.000420</td>\n",
              "      <td>0</td>\n",
              "    </tr>\n",
              "    <tr>\n",
              "      <th>2</th>\n",
              "      <td>0</td>\n",
              "      <td>95.032736</td>\n",
              "      <td>0.070099</td>\n",
              "      <td>32.167133</td>\n",
              "      <td>0.023727</td>\n",
              "      <td>9.608515</td>\n",
              "      <td>0.007088</td>\n",
              "      <td>1.359709</td>\n",
              "      <td>0.001003</td>\n",
              "      <td>0.353153</td>\n",
              "      <td>0.000260</td>\n",
              "      <td>0</td>\n",
              "    </tr>\n",
              "    <tr>\n",
              "      <th>3</th>\n",
              "      <td>0</td>\n",
              "      <td>207.406918</td>\n",
              "      <td>0.060584</td>\n",
              "      <td>29.545808</td>\n",
              "      <td>0.008630</td>\n",
              "      <td>7.646323</td>\n",
              "      <td>0.002234</td>\n",
              "      <td>1.559712</td>\n",
              "      <td>0.000456</td>\n",
              "      <td>0.306466</td>\n",
              "      <td>0.000090</td>\n",
              "      <td>0</td>\n",
              "    </tr>\n",
              "    <tr>\n",
              "      <th>4</th>\n",
              "      <td>0</td>\n",
              "      <td>62.372128</td>\n",
              "      <td>0.051644</td>\n",
              "      <td>27.214559</td>\n",
              "      <td>0.022534</td>\n",
              "      <td>6.781020</td>\n",
              "      <td>0.005615</td>\n",
              "      <td>1.312397</td>\n",
              "      <td>0.001087</td>\n",
              "      <td>0.312094</td>\n",
              "      <td>0.000258</td>\n",
              "      <td>0</td>\n",
              "    </tr>\n",
              "    <tr>\n",
              "      <th>...</th>\n",
              "      <td>...</td>\n",
              "      <td>...</td>\n",
              "      <td>...</td>\n",
              "      <td>...</td>\n",
              "      <td>...</td>\n",
              "      <td>...</td>\n",
              "      <td>...</td>\n",
              "      <td>...</td>\n",
              "      <td>...</td>\n",
              "      <td>...</td>\n",
              "      <td>...</td>\n",
              "      <td>...</td>\n",
              "    </tr>\n",
              "    <tr>\n",
              "      <th>2875</th>\n",
              "      <td>47</td>\n",
              "      <td>176.450452</td>\n",
              "      <td>0.029799</td>\n",
              "      <td>33.216046</td>\n",
              "      <td>0.005610</td>\n",
              "      <td>6.530403</td>\n",
              "      <td>0.001103</td>\n",
              "      <td>1.000416</td>\n",
              "      <td>0.000169</td>\n",
              "      <td>0.224647</td>\n",
              "      <td>0.000038</td>\n",
              "      <td>1</td>\n",
              "    </tr>\n",
              "    <tr>\n",
              "      <th>2876</th>\n",
              "      <td>47</td>\n",
              "      <td>191.219588</td>\n",
              "      <td>0.029378</td>\n",
              "      <td>47.845522</td>\n",
              "      <td>0.007351</td>\n",
              "      <td>8.047811</td>\n",
              "      <td>0.001236</td>\n",
              "      <td>1.148427</td>\n",
              "      <td>0.000176</td>\n",
              "      <td>0.247321</td>\n",
              "      <td>0.000038</td>\n",
              "      <td>1</td>\n",
              "    </tr>\n",
              "    <tr>\n",
              "      <th>2877</th>\n",
              "      <td>47</td>\n",
              "      <td>185.742916</td>\n",
              "      <td>0.027688</td>\n",
              "      <td>52.539384</td>\n",
              "      <td>0.007832</td>\n",
              "      <td>5.794241</td>\n",
              "      <td>0.000864</td>\n",
              "      <td>0.858207</td>\n",
              "      <td>0.000128</td>\n",
              "      <td>0.185568</td>\n",
              "      <td>0.000028</td>\n",
              "      <td>1</td>\n",
              "    </tr>\n",
              "    <tr>\n",
              "      <th>2878</th>\n",
              "      <td>47</td>\n",
              "      <td>91.805034</td>\n",
              "      <td>0.023122</td>\n",
              "      <td>36.576291</td>\n",
              "      <td>0.009212</td>\n",
              "      <td>8.641063</td>\n",
              "      <td>0.002176</td>\n",
              "      <td>1.178701</td>\n",
              "      <td>0.000297</td>\n",
              "      <td>0.178973</td>\n",
              "      <td>0.000045</td>\n",
              "      <td>1</td>\n",
              "    </tr>\n",
              "    <tr>\n",
              "      <th>2879</th>\n",
              "      <td>47</td>\n",
              "      <td>75.370132</td>\n",
              "      <td>0.019741</td>\n",
              "      <td>50.609467</td>\n",
              "      <td>0.013256</td>\n",
              "      <td>11.900502</td>\n",
              "      <td>0.003117</td>\n",
              "      <td>1.401651</td>\n",
              "      <td>0.000367</td>\n",
              "      <td>0.172548</td>\n",
              "      <td>0.000045</td>\n",
              "      <td>1</td>\n",
              "    </tr>\n",
              "  </tbody>\n",
              "</table>\n",
              "<p>22560 rows × 12 columns</p>\n",
              "</div>\n",
              "      <button class=\"colab-df-convert\" onclick=\"convertToInteractive('df-e3ace85b-819c-4fa9-9fe8-badd7fc4a14a')\"\n",
              "              title=\"Convert this dataframe to an interactive table.\"\n",
              "              style=\"display:none;\">\n",
              "\n",
              "  <svg xmlns=\"http://www.w3.org/2000/svg\" height=\"24px\"viewBox=\"0 0 24 24\"\n",
              "       width=\"24px\">\n",
              "    <path d=\"M0 0h24v24H0V0z\" fill=\"none\"/>\n",
              "    <path d=\"M18.56 5.44l.94 2.06.94-2.06 2.06-.94-2.06-.94-.94-2.06-.94 2.06-2.06.94zm-11 1L8.5 8.5l.94-2.06 2.06-.94-2.06-.94L8.5 2.5l-.94 2.06-2.06.94zm10 10l.94 2.06.94-2.06 2.06-.94-2.06-.94-.94-2.06-.94 2.06-2.06.94z\"/><path d=\"M17.41 7.96l-1.37-1.37c-.4-.4-.92-.59-1.43-.59-.52 0-1.04.2-1.43.59L10.3 9.45l-7.72 7.72c-.78.78-.78 2.05 0 2.83L4 21.41c.39.39.9.59 1.41.59.51 0 1.02-.2 1.41-.59l7.78-7.78 2.81-2.81c.8-.78.8-2.07 0-2.86zM5.41 20L4 18.59l7.72-7.72 1.47 1.35L5.41 20z\"/>\n",
              "  </svg>\n",
              "      </button>\n",
              "\n",
              "\n",
              "\n",
              "    <div id=\"df-bb6b8cff-2539-4c1c-abad-932476d599c3\">\n",
              "      <button class=\"colab-df-quickchart\" onclick=\"quickchart('df-bb6b8cff-2539-4c1c-abad-932476d599c3')\"\n",
              "              title=\"Suggest charts.\"\n",
              "              style=\"display:none;\">\n",
              "\n",
              "<svg xmlns=\"http://www.w3.org/2000/svg\" height=\"24px\"viewBox=\"0 0 24 24\"\n",
              "     width=\"24px\">\n",
              "    <g>\n",
              "        <path d=\"M19 3H5c-1.1 0-2 .9-2 2v14c0 1.1.9 2 2 2h14c1.1 0 2-.9 2-2V5c0-1.1-.9-2-2-2zM9 17H7v-7h2v7zm4 0h-2V7h2v10zm4 0h-2v-4h2v4z\"/>\n",
              "    </g>\n",
              "</svg>\n",
              "      </button>\n",
              "    </div>\n",
              "\n",
              "<style>\n",
              "  .colab-df-quickchart {\n",
              "    background-color: #E8F0FE;\n",
              "    border: none;\n",
              "    border-radius: 50%;\n",
              "    cursor: pointer;\n",
              "    display: none;\n",
              "    fill: #1967D2;\n",
              "    height: 32px;\n",
              "    padding: 0 0 0 0;\n",
              "    width: 32px;\n",
              "  }\n",
              "\n",
              "  .colab-df-quickchart:hover {\n",
              "    background-color: #E2EBFA;\n",
              "    box-shadow: 0px 1px 2px rgba(60, 64, 67, 0.3), 0px 1px 3px 1px rgba(60, 64, 67, 0.15);\n",
              "    fill: #174EA6;\n",
              "  }\n",
              "\n",
              "  [theme=dark] .colab-df-quickchart {\n",
              "    background-color: #3B4455;\n",
              "    fill: #D2E3FC;\n",
              "  }\n",
              "\n",
              "  [theme=dark] .colab-df-quickchart:hover {\n",
              "    background-color: #434B5C;\n",
              "    box-shadow: 0px 1px 3px 1px rgba(0, 0, 0, 0.15);\n",
              "    filter: drop-shadow(0px 1px 2px rgba(0, 0, 0, 0.3));\n",
              "    fill: #FFFFFF;\n",
              "  }\n",
              "</style>\n",
              "\n",
              "    <script>\n",
              "      async function quickchart(key) {\n",
              "        const containerElement = document.querySelector('#' + key);\n",
              "        const charts = await google.colab.kernel.invokeFunction(\n",
              "            'suggestCharts', [key], {});\n",
              "      }\n",
              "    </script>\n",
              "\n",
              "      <script>\n",
              "\n",
              "function displayQuickchartButton(domScope) {\n",
              "  let quickchartButtonEl =\n",
              "    domScope.querySelector('#df-bb6b8cff-2539-4c1c-abad-932476d599c3 button.colab-df-quickchart');\n",
              "  quickchartButtonEl.style.display =\n",
              "    google.colab.kernel.accessAllowed ? 'block' : 'none';\n",
              "}\n",
              "\n",
              "        displayQuickchartButton(document);\n",
              "      </script>\n",
              "      <style>\n",
              "    .colab-df-container {\n",
              "      display:flex;\n",
              "      flex-wrap:wrap;\n",
              "      gap: 12px;\n",
              "    }\n",
              "\n",
              "    .colab-df-convert {\n",
              "      background-color: #E8F0FE;\n",
              "      border: none;\n",
              "      border-radius: 50%;\n",
              "      cursor: pointer;\n",
              "      display: none;\n",
              "      fill: #1967D2;\n",
              "      height: 32px;\n",
              "      padding: 0 0 0 0;\n",
              "      width: 32px;\n",
              "    }\n",
              "\n",
              "    .colab-df-convert:hover {\n",
              "      background-color: #E2EBFA;\n",
              "      box-shadow: 0px 1px 2px rgba(60, 64, 67, 0.3), 0px 1px 3px 1px rgba(60, 64, 67, 0.15);\n",
              "      fill: #174EA6;\n",
              "    }\n",
              "\n",
              "    [theme=dark] .colab-df-convert {\n",
              "      background-color: #3B4455;\n",
              "      fill: #D2E3FC;\n",
              "    }\n",
              "\n",
              "    [theme=dark] .colab-df-convert:hover {\n",
              "      background-color: #434B5C;\n",
              "      box-shadow: 0px 1px 3px 1px rgba(0, 0, 0, 0.15);\n",
              "      filter: drop-shadow(0px 1px 2px rgba(0, 0, 0, 0.3));\n",
              "      fill: #FFFFFF;\n",
              "    }\n",
              "  </style>\n",
              "\n",
              "      <script>\n",
              "        const buttonEl =\n",
              "          document.querySelector('#df-e3ace85b-819c-4fa9-9fe8-badd7fc4a14a button.colab-df-convert');\n",
              "        buttonEl.style.display =\n",
              "          google.colab.kernel.accessAllowed ? 'block' : 'none';\n",
              "\n",
              "        async function convertToInteractive(key) {\n",
              "          const element = document.querySelector('#df-e3ace85b-819c-4fa9-9fe8-badd7fc4a14a');\n",
              "          const dataTable =\n",
              "            await google.colab.kernel.invokeFunction('convertToInteractive',\n",
              "                                                     [key], {});\n",
              "          if (!dataTable) return;\n",
              "\n",
              "          const docLinkHtml = 'Like what you see? Visit the ' +\n",
              "            '<a target=\"_blank\" href=https://colab.research.google.com/notebooks/data_table.ipynb>data table notebook</a>'\n",
              "            + ' to learn more about interactive tables.';\n",
              "          element.innerHTML = '';\n",
              "          dataTable['output_type'] = 'display_data';\n",
              "          await google.colab.output.renderOutput(dataTable, element);\n",
              "          const docLink = document.createElement('div');\n",
              "          docLink.innerHTML = docLinkHtml;\n",
              "          element.appendChild(docLink);\n",
              "        }\n",
              "      </script>\n",
              "    </div>\n",
              "  </div>\n"
            ]
          },
          "metadata": {},
          "execution_count": 7
        }
      ]
    },
    {
      "cell_type": "code",
      "source": [
        "import matplotlib.pyplot as plt\n",
        "from sklearn import tree\n",
        "from sklearn.model_selection import train_test_split\n",
        "from sklearn.svm import SVC"
      ],
      "metadata": {
        "id": "wD9xrklk80Xg"
      },
      "execution_count": 8,
      "outputs": []
    },
    {
      "cell_type": "code",
      "source": [
        "whole_dataframe.columns"
      ],
      "metadata": {
        "colab": {
          "base_uri": "https://localhost:8080/"
        },
        "id": "A-UlHGYE9bIS",
        "outputId": "059f57f6-73b4-4190-befd-93a43021c6a7"
      },
      "execution_count": 9,
      "outputs": [
        {
          "output_type": "execute_result",
          "data": {
            "text/plain": [
              "Index(['elecro_idx', 'B1_P', 'B1_RP', 'B2_P', 'B2_RP', 'B3_P', 'B3_RP', 'B4_P',\n",
              "       'B4_RP', 'B5_P', 'B5_RP', 'is_execution'],\n",
              "      dtype='object')"
            ]
          },
          "metadata": {},
          "execution_count": 9
        }
      ]
    },
    {
      "cell_type": "code",
      "source": [
        "features = ['elecro_idx', 'B1_P', 'B1_RP', 'B2_P', 'B2_RP', 'B3_P', 'B3_RP', 'B4_P',\n",
        "       'B4_RP', 'B5_P', 'B5_RP']\n",
        "X = whole_dataframe.loc[:, features]\n",
        "y = whole_dataframe.loc[:, ['is_execution']]"
      ],
      "metadata": {
        "id": "CnPPzcTM80aj"
      },
      "execution_count": 10,
      "outputs": []
    },
    {
      "cell_type": "code",
      "source": [
        "X_train, X_test, y_train, y_test = train_test_split(X, y, random_state=0, train_size = .75)"
      ],
      "metadata": {
        "id": "80DIdvrA80de"
      },
      "execution_count": 11,
      "outputs": []
    },
    {
      "cell_type": "markdown",
      "source": [
        "## SCV"
      ],
      "metadata": {
        "id": "fUA5jgdmF600"
      }
    },
    {
      "cell_type": "code",
      "source": [
        "from sklearn.preprocessing import StandardScaler\n",
        "scaler = StandardScaler()\n",
        "X_train = scaler.fit_transform(X_train)\n",
        "X_test = scaler.transform(X_test)"
      ],
      "metadata": {
        "id": "LsEo4aECAh_m"
      },
      "execution_count": 12,
      "outputs": []
    },
    {
      "cell_type": "code",
      "source": [
        "svc=SVC()\n",
        "svc.fit(X_train,y_train)\n",
        "y_pred=svc.predict(X_test)\n"
      ],
      "metadata": {
        "colab": {
          "base_uri": "https://localhost:8080/"
        },
        "id": "semx_YWJ-mLs",
        "outputId": "3dc79374-c412-402a-b44a-353c63609c0a"
      },
      "execution_count": 13,
      "outputs": [
        {
          "output_type": "stream",
          "name": "stderr",
          "text": [
            "/usr/local/lib/python3.10/dist-packages/sklearn/utils/validation.py:1143: DataConversionWarning: A column-vector y was passed when a 1d array was expected. Please change the shape of y to (n_samples, ), for example using ravel().\n",
            "  y = column_or_1d(y, warn=True)\n"
          ]
        }
      ]
    },
    {
      "cell_type": "code",
      "source": [
        "from sklearn.metrics import confusion_matrix\n",
        "import seaborn as sns\n",
        "cm = confusion_matrix(y_test, y_pred)"
      ],
      "metadata": {
        "id": "SCHC9L45-vsD"
      },
      "execution_count": 14,
      "outputs": []
    },
    {
      "cell_type": "code",
      "source": [
        "#Plot the confusion matrix.\n",
        "sns.heatmap(cm,\n",
        "            annot=True,\n",
        "            fmt='g',\n",
        "            xticklabels=['Real','Imagining'],\n",
        "            yticklabels=['Real','Imagining'])\n",
        "# Look at next comment.\n",
        "# we want to make sure than Real, Imagining is written in the right order.\n",
        "plt.ylabel('Prediction',fontsize=13)\n",
        "plt.xlabel('Actual',fontsize=13)\n",
        "plt.title('Confusion Matrix',fontsize=17)\n",
        "plt.show()"
      ],
      "metadata": {
        "colab": {
          "base_uri": "https://localhost:8080/",
          "height": 481
        },
        "id": "qJSCGlKfBN8M",
        "outputId": "6210d2d0-6f6b-4e7c-9988-e0b2ac448943"
      },
      "execution_count": 15,
      "outputs": [
        {
          "output_type": "display_data",
          "data": {
            "text/plain": [
              "<Figure size 640x480 with 2 Axes>"
            ],
            "image/png": "[encoded data removed]"
          },
          "metadata": {}
        }
      ]
    },
    {
      "cell_type": "code",
      "source": [
        "from sklearn.metrics import accuracy_score\n",
        "import numpy as np\n",
        "print(accuracy_score( y_test, y_pred))"
      ],
      "metadata": {
        "colab": {
          "base_uri": "https://localhost:8080/"
        },
        "id": "_AEftBbnBPyT",
        "outputId": "ec4f062f-f484-4dbf-d255-f893666426b6"
      },
      "execution_count": 16,
      "outputs": [
        {
          "output_type": "stream",
          "name": "stdout",
          "text": [
            "0.676241134751773\n"
          ]
        }
      ]
    },
    {
      "cell_type": "code",
      "source": [],
      "metadata": {
        "id": "WEtB-1OrD9ww"
      },
      "execution_count": 16,
      "outputs": []
    },
    {
      "cell_type": "markdown",
      "source": [
        "## Random Forest"
      ],
      "metadata": {
        "id": "SEL1R-SrGAda"
      }
    },
    {
      "cell_type": "code",
      "source": [
        "from sklearn.preprocessing import StandardScaler\n",
        "scaler = StandardScaler()\n",
        "X_train = scaler.fit_transform(X_train)\n",
        "X_test = scaler.transform(X_test)"
      ],
      "metadata": {
        "id": "Q8T1gXVhGAdb"
      },
      "execution_count": 17,
      "outputs": []
    },
    {
      "cell_type": "code",
      "source": [
        "from sklearn.ensemble import RandomForestClassifier\n",
        "clf = RandomForestClassifier(max_depth=9, random_state=0)\n",
        "clf.fit(X_train,y_train)\n",
        "y_pred=clf.predict(X_test)"
      ],
      "metadata": {
        "colab": {
          "base_uri": "https://localhost:8080/"
        },
        "outputId": "b89b0135-215a-4918-e33b-9e615eacaa30",
        "id": "usQVmf2UGAdb"
      },
      "execution_count": 18,
      "outputs": [
        {
          "output_type": "stream",
          "name": "stderr",
          "text": [
            "<ipython-input-18-2584e0968a9b>:3: DataConversionWarning: A column-vector y was passed when a 1d array was expected. Please change the shape of y to (n_samples,), for example using ravel().\n",
            "  clf.fit(X_train,y_train)\n"
          ]
        }
      ]
    },
    {
      "cell_type": "code",
      "source": [
        "from sklearn.metrics import confusion_matrix\n",
        "import seaborn as sns\n",
        "cm = confusion_matrix(y_test, y_pred)"
      ],
      "metadata": {
        "id": "F-WiBL0AGAdc"
      },
      "execution_count": 19,
      "outputs": []
    },
    {
      "cell_type": "code",
      "source": [
        "#Plot the confusion matrix.\n",
        "sns.heatmap(cm,\n",
        "            annot=True,\n",
        "            fmt='g',\n",
        "            xticklabels=['Real','Imagining'],\n",
        "            yticklabels=['Real','Imagining'])\n",
        "# Look at next comment.\n",
        "# we want to make sure than Real, Imagining is written in the right order.\n",
        "plt.ylabel('Prediction',fontsize=13)\n",
        "plt.xlabel('Actual',fontsize=13)\n",
        "plt.title('Confusion Matrix',fontsize=17)\n",
        "plt.show()"
      ],
      "metadata": {
        "colab": {
          "base_uri": "https://localhost:8080/",
          "height": 481
        },
        "outputId": "fe6f1862-aab2-4adf-d017-42f747caa582",
        "id": "EnuzQ1dAGAdc"
      },
      "execution_count": 20,
      "outputs": [
        {
          "output_type": "display_data",
          "data": {
            "text/plain": [
              "<Figure size 640x480 with 2 Axes>"
            ],
            "image/png": "[encoded data removed]"
          },
          "metadata": {}
        }
      ]
    },
    {
      "cell_type": "code",
      "source": [
        "from sklearn.metrics import accuracy_score\n",
        "import numpy as np\n",
        "print(accuracy_score( y_test, y_pred))"
      ],
      "metadata": {
        "colab": {
          "base_uri": "https://localhost:8080/"
        },
        "outputId": "a4d538e7-b976-4ffd-8a53-8a88b12e45a8",
        "id": "G3OrBh6HGAdd"
      },
      "execution_count": 21,
      "outputs": [
        {
          "output_type": "stream",
          "name": "stdout",
          "text": [
            "0.6647163120567375\n"
          ]
        }
      ]
    },
    {
      "cell_type": "code",
      "source": [
        "\n"
      ],
      "metadata": {
        "id": "z7HM_ilDGAdu"
      },
      "execution_count": 21,
      "outputs": []
    },
    {
      "cell_type": "markdown",
      "source": [
        "# Makes data in hands and tongues forms"
      ],
      "metadata": {
        "id": "xaYtO4IqZk7J"
      }
    },
    {
      "cell_type": "code",
      "source": [
        "hand_frames = [subject0_Imagery_hands, subject0_Real_hands, subject2_Imagery_hands, subject2_Real_hands]\n",
        "hand_frames = pd.concat(hand_frames)\n",
        "hand_frames['is_tongue'] = 0"
      ],
      "metadata": {
        "id": "BfcjLagDZk7J"
      },
      "execution_count": 22,
      "outputs": []
    },
    {
      "cell_type": "code",
      "source": [
        "tongues_frames = [subject0_Imagery_tongues, subject0_Real_tongues, subject2_Imagery_tongues, subject2_Real_tongues]\n",
        "tongues_frames = pd.concat(tongues_frames)\n",
        "tongues_frames['is_tongue'] = 1"
      ],
      "metadata": {
        "id": "oCaPYY-PZk7K"
      },
      "execution_count": 23,
      "outputs": []
    },
    {
      "cell_type": "code",
      "source": [
        "whole_dataframe = [hand_frames, tongues_frames]\n",
        "whole_dataframe = pd.concat(whole_dataframe)\n",
        "whole_dataframe"
      ],
      "metadata": {
        "colab": {
          "base_uri": "https://localhost:8080/",
          "height": 487
        },
        "outputId": "cb84013d-97c3-4d42-b915-06e482ef8f16",
        "id": "FIMdB9nAZk7K"
      },
      "execution_count": 24,
      "outputs": [
        {
          "output_type": "execute_result",
          "data": {
            "text/plain": [
              "      elecro_idx        B1_P     B1_RP       B2_P     B2_RP       B3_P  \\\n",
              "0              0   64.208372  0.058936  26.268088  0.024111   8.992230   \n",
              "1              0   40.340036  0.049763  32.921651  0.040611   8.286542   \n",
              "2              0   95.032736  0.070099  32.167133  0.023727   9.608515   \n",
              "3              0  207.406918  0.060584  29.545808  0.008630   7.646323   \n",
              "4              0   62.372128  0.051644  27.214559  0.022534   6.781020   \n",
              "...          ...         ...       ...        ...       ...        ...   \n",
              "2875          47  176.450452  0.029799  33.216046  0.005610   6.530403   \n",
              "2876          47  191.219588  0.029378  47.845522  0.007351   8.047811   \n",
              "2877          47  185.742916  0.027688  52.539384  0.007832   5.794241   \n",
              "2878          47   91.805034  0.023122  36.576291  0.009212   8.641063   \n",
              "2879          47   75.370132  0.019741  50.609467  0.013256  11.900502   \n",
              "\n",
              "         B3_RP      B4_P     B4_RP      B5_P     B5_RP  is_execution  \n",
              "0     0.008254  1.662773  0.001526  0.319480  0.000293             0  \n",
              "1     0.010222  1.633262  0.002015  0.340468  0.000420             0  \n",
              "2     0.007088  1.359709  0.001003  0.353153  0.000260             0  \n",
              "3     0.002234  1.559712  0.000456  0.306466  0.000090             0  \n",
              "4     0.005615  1.312397  0.001087  0.312094  0.000258             0  \n",
              "...        ...       ...       ...       ...       ...           ...  \n",
              "2875  0.001103  1.000416  0.000169  0.224647  0.000038             1  \n",
              "2876  0.001236  1.148427  0.000176  0.247321  0.000038             1  \n",
              "2877  0.000864  0.858207  0.000128  0.185568  0.000028             1  \n",
              "2878  0.002176  1.178701  0.000297  0.178973  0.000045             1  \n",
              "2879  0.003117  1.401651  0.000367  0.172548  0.000045             1  \n",
              "\n",
              "[22560 rows x 12 columns]"
            ],
            "text/html": [
              "\n",
              "\n",
              "  <div id=\"df-2514465e-56a9-43c3-8f7a-59dc4922843f\">\n",
              "    <div class=\"colab-df-container\">\n",
              "      <div>\n",
              "<style scoped>\n",
              "    .dataframe tbody tr th:only-of-type {\n",
              "        vertical-align: middle;\n",
              "    }\n",
              "\n",
              "    .dataframe tbody tr th {\n",
              "        vertical-align: top;\n",
              "    }\n",
              "\n",
              "    .dataframe thead th {\n",
              "        text-align: right;\n",
              "    }\n",
              "</style>\n",
              "<table border=\"1\" class=\"dataframe\">\n",
              "  <thead>\n",
              "    <tr style=\"text-align: right;\">\n",
              "      <th></th>\n",
              "      <th>elecro_idx</th>\n",
              "      <th>B1_P</th>\n",
              "      <th>B1_RP</th>\n",
              "      <th>B2_P</th>\n",
              "      <th>B2_RP</th>\n",
              "      <th>B3_P</th>\n",
              "      <th>B3_RP</th>\n",
              "      <th>B4_P</th>\n",
              "      <th>B4_RP</th>\n",
              "      <th>B5_P</th>\n",
              "      <th>B5_RP</th>\n",
              "      <th>is_execution</th>\n",
              "    </tr>\n",
              "  </thead>\n",
              "  <tbody>\n",
              "    <tr>\n",
              "      <th>0</th>\n",
              "      <td>0</td>\n",
              "      <td>64.208372</td>\n",
              "      <td>0.058936</td>\n",
              "      <td>26.268088</td>\n",
              "      <td>0.024111</td>\n",
              "      <td>8.992230</td>\n",
              "      <td>0.008254</td>\n",
              "      <td>1.662773</td>\n",
              "      <td>0.001526</td>\n",
              "      <td>0.319480</td>\n",
              "      <td>0.000293</td>\n",
              "      <td>0</td>\n",
              "    </tr>\n",
              "    <tr>\n",
              "      <th>1</th>\n",
              "      <td>0</td>\n",
              "      <td>40.340036</td>\n",
              "      <td>0.049763</td>\n",
              "      <td>32.921651</td>\n",
              "      <td>0.040611</td>\n",
              "      <td>8.286542</td>\n",
              "      <td>0.010222</td>\n",
              "      <td>1.633262</td>\n",
              "      <td>0.002015</td>\n",
              "      <td>0.340468</td>\n",
              "      <td>0.000420</td>\n",
              "      <td>0</td>\n",
              "    </tr>\n",
              "    <tr>\n",
              "      <th>2</th>\n",
              "      <td>0</td>\n",
              "      <td>95.032736</td>\n",
              "      <td>0.070099</td>\n",
              "      <td>32.167133</td>\n",
              "      <td>0.023727</td>\n",
              "      <td>9.608515</td>\n",
              "      <td>0.007088</td>\n",
              "      <td>1.359709</td>\n",
              "      <td>0.001003</td>\n",
              "      <td>0.353153</td>\n",
              "      <td>0.000260</td>\n",
              "      <td>0</td>\n",
              "    </tr>\n",
              "    <tr>\n",
              "      <th>3</th>\n",
              "      <td>0</td>\n",
              "      <td>207.406918</td>\n",
              "      <td>0.060584</td>\n",
              "      <td>29.545808</td>\n",
              "      <td>0.008630</td>\n",
              "      <td>7.646323</td>\n",
              "      <td>0.002234</td>\n",
              "      <td>1.559712</td>\n",
              "      <td>0.000456</td>\n",
              "      <td>0.306466</td>\n",
              "      <td>0.000090</td>\n",
              "      <td>0</td>\n",
              "    </tr>\n",
              "    <tr>\n",
              "      <th>4</th>\n",
              "      <td>0</td>\n",
              "      <td>62.372128</td>\n",
              "      <td>0.051644</td>\n",
              "      <td>27.214559</td>\n",
              "      <td>0.022534</td>\n",
              "      <td>6.781020</td>\n",
              "      <td>0.005615</td>\n",
              "      <td>1.312397</td>\n",
              "      <td>0.001087</td>\n",
              "      <td>0.312094</td>\n",
              "      <td>0.000258</td>\n",
              "      <td>0</td>\n",
              "    </tr>\n",
              "    <tr>\n",
              "      <th>...</th>\n",
              "      <td>...</td>\n",
              "      <td>...</td>\n",
              "      <td>...</td>\n",
              "      <td>...</td>\n",
              "      <td>...</td>\n",
              "      <td>...</td>\n",
              "      <td>...</td>\n",
              "      <td>...</td>\n",
              "      <td>...</td>\n",
              "      <td>...</td>\n",
              "      <td>...</td>\n",
              "      <td>...</td>\n",
              "    </tr>\n",
              "    <tr>\n",
              "      <th>2875</th>\n",
              "      <td>47</td>\n",
              "      <td>176.450452</td>\n",
              "      <td>0.029799</td>\n",
              "      <td>33.216046</td>\n",
              "      <td>0.005610</td>\n",
              "      <td>6.530403</td>\n",
              "      <td>0.001103</td>\n",
              "      <td>1.000416</td>\n",
              "      <td>0.000169</td>\n",
              "      <td>0.224647</td>\n",
              "      <td>0.000038</td>\n",
              "      <td>1</td>\n",
              "    </tr>\n",
              "    <tr>\n",
              "      <th>2876</th>\n",
              "      <td>47</td>\n",
              "      <td>191.219588</td>\n",
              "      <td>0.029378</td>\n",
              "      <td>47.845522</td>\n",
              "      <td>0.007351</td>\n",
              "      <td>8.047811</td>\n",
              "      <td>0.001236</td>\n",
              "      <td>1.148427</td>\n",
              "      <td>0.000176</td>\n",
              "      <td>0.247321</td>\n",
              "      <td>0.000038</td>\n",
              "      <td>1</td>\n",
              "    </tr>\n",
              "    <tr>\n",
              "      <th>2877</th>\n",
              "      <td>47</td>\n",
              "      <td>185.742916</td>\n",
              "      <td>0.027688</td>\n",
              "      <td>52.539384</td>\n",
              "      <td>0.007832</td>\n",
              "      <td>5.794241</td>\n",
              "      <td>0.000864</td>\n",
              "      <td>0.858207</td>\n",
              "      <td>0.000128</td>\n",
              "      <td>0.185568</td>\n",
              "      <td>0.000028</td>\n",
              "      <td>1</td>\n",
              "    </tr>\n",
              "    <tr>\n",
              "      <th>2878</th>\n",
              "      <td>47</td>\n",
              "      <td>91.805034</td>\n",
              "      <td>0.023122</td>\n",
              "      <td>36.576291</td>\n",
              "      <td>0.009212</td>\n",
              "      <td>8.641063</td>\n",
              "      <td>0.002176</td>\n",
              "      <td>1.178701</td>\n",
              "      <td>0.000297</td>\n",
              "      <td>0.178973</td>\n",
              "      <td>0.000045</td>\n",
              "      <td>1</td>\n",
              "    </tr>\n",
              "    <tr>\n",
              "      <th>2879</th>\n",
              "      <td>47</td>\n",
              "      <td>75.370132</td>\n",
              "      <td>0.019741</td>\n",
              "      <td>50.609467</td>\n",
              "      <td>0.013256</td>\n",
              "      <td>11.900502</td>\n",
              "      <td>0.003117</td>\n",
              "      <td>1.401651</td>\n",
              "      <td>0.000367</td>\n",
              "      <td>0.172548</td>\n",
              "      <td>0.000045</td>\n",
              "      <td>1</td>\n",
              "    </tr>\n",
              "  </tbody>\n",
              "</table>\n",
              "<p>22560 rows × 12 columns</p>\n",
              "</div>\n",
              "      <button class=\"colab-df-convert\" onclick=\"convertToInteractive('df-2514465e-56a9-43c3-8f7a-59dc4922843f')\"\n",
              "              title=\"Convert this dataframe to an interactive table.\"\n",
              "              style=\"display:none;\">\n",
              "\n",
              "  <svg xmlns=\"http://www.w3.org/2000/svg\" height=\"24px\"viewBox=\"0 0 24 24\"\n",
              "       width=\"24px\">\n",
              "    <path d=\"M0 0h24v24H0V0z\" fill=\"none\"/>\n",
              "    <path d=\"M18.56 5.44l.94 2.06.94-2.06 2.06-.94-2.06-.94-.94-2.06-.94 2.06-2.06.94zm-11 1L8.5 8.5l.94-2.06 2.06-.94-2.06-.94L8.5 2.5l-.94 2.06-2.06.94zm10 10l.94 2.06.94-2.06 2.06-.94-2.06-.94-.94-2.06-.94 2.06-2.06.94z\"/><path d=\"M17.41 7.96l-1.37-1.37c-.4-.4-.92-.59-1.43-.59-.52 0-1.04.2-1.43.59L10.3 9.45l-7.72 7.72c-.78.78-.78 2.05 0 2.83L4 21.41c.39.39.9.59 1.41.59.51 0 1.02-.2 1.41-.59l7.78-7.78 2.81-2.81c.8-.78.8-2.07 0-2.86zM5.41 20L4 18.59l7.72-7.72 1.47 1.35L5.41 20z\"/>\n",
              "  </svg>\n",
              "      </button>\n",
              "\n",
              "\n",
              "\n",
              "    <div id=\"df-468c23f4-9046-4908-b390-78b31949d971\">\n",
              "      <button class=\"colab-df-quickchart\" onclick=\"quickchart('df-468c23f4-9046-4908-b390-78b31949d971')\"\n",
              "              title=\"Suggest charts.\"\n",
              "              style=\"display:none;\">\n",
              "\n",
              "<svg xmlns=\"http://www.w3.org/2000/svg\" height=\"24px\"viewBox=\"0 0 24 24\"\n",
              "     width=\"24px\">\n",
              "    <g>\n",
              "        <path d=\"M19 3H5c-1.1 0-2 .9-2 2v14c0 1.1.9 2 2 2h14c1.1 0 2-.9 2-2V5c0-1.1-.9-2-2-2zM9 17H7v-7h2v7zm4 0h-2V7h2v10zm4 0h-2v-4h2v4z\"/>\n",
              "    </g>\n",
              "</svg>\n",
              "      </button>\n",
              "    </div>\n",
              "\n",
              "<style>\n",
              "  .colab-df-quickchart {\n",
              "    background-color: #E8F0FE;\n",
              "    border: none;\n",
              "    border-radius: 50%;\n",
              "    cursor: pointer;\n",
              "    display: none;\n",
              "    fill: #1967D2;\n",
              "    height: 32px;\n",
              "    padding: 0 0 0 0;\n",
              "    width: 32px;\n",
              "  }\n",
              "\n",
              "  .colab-df-quickchart:hover {\n",
              "    background-color: #E2EBFA;\n",
              "    box-shadow: 0px 1px 2px rgba(60, 64, 67, 0.3), 0px 1px 3px 1px rgba(60, 64, 67, 0.15);\n",
              "    fill: #174EA6;\n",
              "  }\n",
              "\n",
              "  [theme=dark] .colab-df-quickchart {\n",
              "    background-color: #3B4455;\n",
              "    fill: #D2E3FC;\n",
              "  }\n",
              "\n",
              "  [theme=dark] .colab-df-quickchart:hover {\n",
              "    background-color: #434B5C;\n",
              "    box-shadow: 0px 1px 3px 1px rgba(0, 0, 0, 0.15);\n",
              "    filter: drop-shadow(0px 1px 2px rgba(0, 0, 0, 0.3));\n",
              "    fill: #FFFFFF;\n",
              "  }\n",
              "</style>\n",
              "\n",
              "    <script>\n",
              "      async function quickchart(key) {\n",
              "        const containerElement = document.querySelector('#' + key);\n",
              "        const charts = await google.colab.kernel.invokeFunction(\n",
              "            'suggestCharts', [key], {});\n",
              "      }\n",
              "    </script>\n",
              "\n",
              "      <script>\n",
              "\n",
              "function displayQuickchartButton(domScope) {\n",
              "  let quickchartButtonEl =\n",
              "    domScope.querySelector('#df-468c23f4-9046-4908-b390-78b31949d971 button.colab-df-quickchart');\n",
              "  quickchartButtonEl.style.display =\n",
              "    google.colab.kernel.accessAllowed ? 'block' : 'none';\n",
              "}\n",
              "\n",
              "        displayQuickchartButton(document);\n",
              "      </script>\n",
              "      <style>\n",
              "    .colab-df-container {\n",
              "      display:flex;\n",
              "      flex-wrap:wrap;\n",
              "      gap: 12px;\n",
              "    }\n",
              "\n",
              "    .colab-df-convert {\n",
              "      background-color: #E8F0FE;\n",
              "      border: none;\n",
              "      border-radius: 50%;\n",
              "      cursor: pointer;\n",
              "      display: none;\n",
              "      fill: #1967D2;\n",
              "      height: 32px;\n",
              "      padding: 0 0 0 0;\n",
              "      width: 32px;\n",
              "    }\n",
              "\n",
              "    .colab-df-convert:hover {\n",
              "      background-color: #E2EBFA;\n",
              "      box-shadow: 0px 1px 2px rgba(60, 64, 67, 0.3), 0px 1px 3px 1px rgba(60, 64, 67, 0.15);\n",
              "      fill: #174EA6;\n",
              "    }\n",
              "\n",
              "    [theme=dark] .colab-df-convert {\n",
              "      background-color: #3B4455;\n",
              "      fill: #D2E3FC;\n",
              "    }\n",
              "\n",
              "    [theme=dark] .colab-df-convert:hover {\n",
              "      background-color: #434B5C;\n",
              "      box-shadow: 0px 1px 3px 1px rgba(0, 0, 0, 0.15);\n",
              "      filter: drop-shadow(0px 1px 2px rgba(0, 0, 0, 0.3));\n",
              "      fill: #FFFFFF;\n",
              "    }\n",
              "  </style>\n",
              "\n",
              "      <script>\n",
              "        const buttonEl =\n",
              "          document.querySelector('#df-2514465e-56a9-43c3-8f7a-59dc4922843f button.colab-df-convert');\n",
              "        buttonEl.style.display =\n",
              "          google.colab.kernel.accessAllowed ? 'block' : 'none';\n",
              "\n",
              "        async function convertToInteractive(key) {\n",
              "          const element = document.querySelector('#df-2514465e-56a9-43c3-8f7a-59dc4922843f');\n",
              "          const dataTable =\n",
              "            await google.colab.kernel.invokeFunction('convertToInteractive',\n",
              "                                                     [key], {});\n",
              "          if (!dataTable) return;\n",
              "\n",
              "          const docLinkHtml = 'Like what you see? Visit the ' +\n",
              "            '<a target=\"_blank\" href=https://colab.research.google.com/notebooks/data_table.ipynb>data table notebook</a>'\n",
              "            + ' to learn more about interactive tables.';\n",
              "          element.innerHTML = '';\n",
              "          dataTable['output_type'] = 'display_data';\n",
              "          await google.colab.output.renderOutput(dataTable, element);\n",
              "          const docLink = document.createElement('div');\n",
              "          docLink.innerHTML = docLinkHtml;\n",
              "          element.appendChild(docLink);\n",
              "        }\n",
              "      </script>\n",
              "    </div>\n",
              "  </div>\n"
            ]
          },
          "metadata": {},
          "execution_count": 24
        }
      ]
    },
    {
      "cell_type": "code",
      "source": [
        "import matplotlib.pyplot as plt\n",
        "from sklearn import tree\n",
        "from sklearn.model_selection import train_test_split\n",
        "from sklearn.svm import SVC"
      ],
      "metadata": {
        "id": "STGOtO_hZk7L"
      },
      "execution_count": 25,
      "outputs": []
    },
    {
      "cell_type": "code",
      "source": [
        "whole_dataframe.columns"
      ],
      "metadata": {
        "colab": {
          "base_uri": "https://localhost:8080/"
        },
        "outputId": "774e0901-d5d2-4f49-f0e6-4ab675acc5a3",
        "id": "kHW1pINMZk7L"
      },
      "execution_count": 26,
      "outputs": [
        {
          "output_type": "execute_result",
          "data": {
            "text/plain": [
              "Index(['elecro_idx', 'B1_P', 'B1_RP', 'B2_P', 'B2_RP', 'B3_P', 'B3_RP', 'B4_P',\n",
              "       'B4_RP', 'B5_P', 'B5_RP', 'is_execution'],\n",
              "      dtype='object')"
            ]
          },
          "metadata": {},
          "execution_count": 26
        }
      ]
    },
    {
      "cell_type": "code",
      "source": [
        "features = ['elecro_idx', 'B1_P', 'B1_RP', 'B2_P', 'B2_RP', 'B3_P', 'B3_RP', 'B4_P',\n",
        "       'B4_RP', 'B5_P', 'B5_RP']\n",
        "X = whole_dataframe.loc[:, features]\n",
        "y = whole_dataframe.loc[:, ['is_tongue']]"
      ],
      "metadata": {
        "id": "Iv2275HAZk7M"
      },
      "execution_count": 27,
      "outputs": []
    },
    {
      "cell_type": "code",
      "source": [
        "X_train, X_test, y_train, y_test = train_test_split(X, y, random_state=0, train_size = .75)"
      ],
      "metadata": {
        "id": "upkmQiIZZk7M"
      },
      "execution_count": 28,
      "outputs": []
    },
    {
      "cell_type": "markdown",
      "source": [
        "## SCV"
      ],
      "metadata": {
        "id": "-pwlE0zgZk7N"
      }
    },
    {
      "cell_type": "code",
      "source": [
        "from sklearn.preprocessing import StandardScaler\n",
        "scaler = StandardScaler()\n",
        "X_train = scaler.fit_transform(X_train)\n",
        "X_test = scaler.transform(X_test)"
      ],
      "metadata": {
        "id": "11BJbz5QZk7N"
      },
      "execution_count": 29,
      "outputs": []
    },
    {
      "cell_type": "code",
      "source": [
        "svc=SVC()\n",
        "svc.fit(X_train,y_train)\n",
        "y_pred=svc.predict(X_test)\n"
      ],
      "metadata": {
        "colab": {
          "base_uri": "https://localhost:8080/"
        },
        "outputId": "dd033570-9368-4364-8db8-15733fe18463",
        "id": "TVK8h8YhZk7N"
      },
      "execution_count": 30,
      "outputs": [
        {
          "output_type": "stream",
          "name": "stderr",
          "text": [
            "/usr/local/lib/python3.10/dist-packages/sklearn/utils/validation.py:1143: DataConversionWarning: A column-vector y was passed when a 1d array was expected. Please change the shape of y to (n_samples, ), for example using ravel().\n",
            "  y = column_or_1d(y, warn=True)\n"
          ]
        }
      ]
    },
    {
      "cell_type": "code",
      "source": [
        "from sklearn.metrics import confusion_matrix\n",
        "import seaborn as sns\n",
        "cm = confusion_matrix(y_test, y_pred)"
      ],
      "metadata": {
        "id": "t9CqbTPQZk7N"
      },
      "execution_count": 31,
      "outputs": []
    },
    {
      "cell_type": "code",
      "source": [
        "#Plot the confusion matrix.\n",
        "sns.heatmap(cm,\n",
        "            annot=True,\n",
        "            fmt='g',\n",
        "            xticklabels=['tongue','hand'],\n",
        "            yticklabels=['tongue','tongue'])\n",
        "# Look at next comment.\n",
        "# we want to make sure than tongue, hand is written in the right order.\n",
        "plt.ylabel('Prediction',fontsize=13)\n",
        "plt.xlabel('Actual',fontsize=13)\n",
        "plt.title('Confusion Matrix',fontsize=17)\n",
        "plt.show()"
      ],
      "metadata": {
        "colab": {
          "base_uri": "https://localhost:8080/",
          "height": 481
        },
        "outputId": "f309f256-2777-4bf2-cc7c-381a38743e63",
        "id": "WErcCdWcZk7N"
      },
      "execution_count": 32,
      "outputs": [
        {
          "output_type": "display_data",
          "data": {
            "text/plain": [
              "<Figure size 640x480 with 2 Axes>"
            ],
            "image/png": "[encoded data removed]"
          },
          "metadata": {}
        }
      ]
    },
    {
      "cell_type": "code",
      "source": [
        "from sklearn.metrics import accuracy_score\n",
        "import numpy as np\n",
        "print(accuracy_score( y_test, y_pred))"
      ],
      "metadata": {
        "colab": {
          "base_uri": "https://localhost:8080/"
        },
        "outputId": "c87e7f0b-772b-459d-da04-34265e81265e",
        "id": "sikNVYopZk7O"
      },
      "execution_count": 33,
      "outputs": [
        {
          "output_type": "stream",
          "name": "stdout",
          "text": [
            "0.5716312056737589\n"
          ]
        }
      ]
    },
    {
      "cell_type": "code",
      "source": [],
      "metadata": {
        "id": "sTqcw3HYZk7O"
      },
      "execution_count": 33,
      "outputs": []
    },
    {
      "cell_type": "markdown",
      "source": [
        "## Random Forest"
      ],
      "metadata": {
        "id": "QH8sV5wjZk7O"
      }
    },
    {
      "cell_type": "code",
      "source": [
        "from sklearn.preprocessing import StandardScaler\n",
        "scaler = StandardScaler()\n",
        "X_train = scaler.fit_transform(X_train)\n",
        "X_test = scaler.transform(X_test)"
      ],
      "metadata": {
        "id": "GfWksCikZk7P"
      },
      "execution_count": 34,
      "outputs": []
    },
    {
      "cell_type": "code",
      "source": [
        "from sklearn.ensemble import RandomForestClassifier\n",
        "clf = RandomForestClassifier(max_depth=9, random_state=0)\n",
        "clf.fit(X_train,y_train)\n",
        "y_pred=clf.predict(X_test)"
      ],
      "metadata": {
        "colab": {
          "base_uri": "https://localhost:8080/"
        },
        "outputId": "e99ef1c9-e821-4c9b-e7b1-7ab6d7e75c70",
        "id": "zVbuV-m_Zk7P"
      },
      "execution_count": 35,
      "outputs": [
        {
          "output_type": "stream",
          "name": "stderr",
          "text": [
            "<ipython-input-35-2584e0968a9b>:3: DataConversionWarning: A column-vector y was passed when a 1d array was expected. Please change the shape of y to (n_samples,), for example using ravel().\n",
            "  clf.fit(X_train,y_train)\n"
          ]
        }
      ]
    },
    {
      "cell_type": "code",
      "source": [
        "from sklearn.metrics import confusion_matrix\n",
        "import seaborn as sns\n",
        "cm = confusion_matrix(y_test, y_pred)"
      ],
      "metadata": {
        "id": "rT2zwsDFZk7Q"
      },
      "execution_count": 36,
      "outputs": []
    },
    {
      "cell_type": "code",
      "source": [
        "#Plot the confusion matrix.\n",
        "sns.heatmap(cm,\n",
        "            annot=True,\n",
        "            fmt='g',\n",
        "            xticklabels=['Real','Imagining'],\n",
        "            yticklabels=['Real','Imagining'])\n",
        "# Look at next comment.\n",
        "# we want to make sure than Real, Imagining is written in the right order.\n",
        "plt.ylabel('Prediction',fontsize=13)\n",
        "plt.xlabel('Actual',fontsize=13)\n",
        "plt.title('Confusion Matrix',fontsize=17)\n",
        "plt.show()"
      ],
      "metadata": {
        "colab": {
          "base_uri": "https://localhost:8080/",
          "height": 481
        },
        "outputId": "a124ca63-5f77-4ac1-bc79-5493fb20efd7",
        "id": "_waJDdvYZk7Q"
      },
      "execution_count": 37,
      "outputs": [
        {
          "output_type": "display_data",
          "data": {
            "text/plain": [
              "<Figure size 640x480 with 2 Axes>"
            ],
            "image/png": "[encoded data removed]"
          },
          "metadata": {}
        }
      ]
    },
    {
      "cell_type": "code",
      "source": [
        "from sklearn.metrics import accuracy_score\n",
        "import numpy as np\n",
        "print(accuracy_score( y_test, y_pred))"
      ],
      "metadata": {
        "colab": {
          "base_uri": "https://localhost:8080/"
        },
        "outputId": "91edfc52-0a20-436f-d497-4c2127737bde",
        "id": "HZtvDpf3Zk7R"
      },
      "execution_count": 38,
      "outputs": [
        {
          "output_type": "stream",
          "name": "stdout",
          "text": [
            "0.5609929078014184\n"
          ]
        }
      ]
    },
    {
      "cell_type": "code",
      "source": [],
      "metadata": {
        "id": "qvAyQT6qZk7R"
      },
      "execution_count": 38,
      "outputs": []
    }
  ]
}